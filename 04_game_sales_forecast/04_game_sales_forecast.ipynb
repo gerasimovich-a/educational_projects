{
 "cells": [
  {
   "cell_type": "markdown",
   "id": "8bcfc668",
   "metadata": {},
   "source": [
    "# Прогноз и планирование продаж 2017 года"
   ]
  },
  {
   "cell_type": "markdown",
   "id": "79b23d9c",
   "metadata": {},
   "source": [
    "## Описание проекта"
   ]
  },
  {
   "cell_type": "markdown",
   "id": "dbb8c7d2",
   "metadata": {},
   "source": [
    "В распоряжении имеются данные по продажам видеоигр магазина \"Стримчик\". Продажи ведутся по всему миру. Необходимо выявить факторы и закономерности, определяющие успешность игры, что поможет сделать ставку на потенциально популярный продукт и спланировать рекламные кампании \n",
    "\n",
    "### Цели исследования \n",
    "\n",
    "Необходимо провести исследовательский анализ данных:\n",
    "1. Измерить количество выпускаемых игр по годам\n",
    "2. Измерить то, как менялись продажи по платформам и выбрать платформы с наибольшими суммарными продажами. Выяснить, за какой срок появляются и исчезают старые платформы\n",
    "3. Определить актуальный период из всех данных для планирования и прогнозирования продаж на 2017 год\n",
    "4. Выяснить, какие платформы лидируют по продажам, определить тенденции к росту и падению продаж на этих платформах. Выбрать несколько потенциально прибыльных платформ.\n",
    "5. Построить диаграммы размаха по глобальным продажам игр в разбивке по платформам\n",
    "6. Оценить влияние отзывов и критиков на продажи. Построить диаграммы рессеяния.\n",
    "7. Соотнести выводы с продажами игр на других платформах\n",
    "8. Выявить самые прибыльные жанры. Выделить жанры с самыми высокими и низкими продажами.\n",
    "\n",
    "Необходимо составить портрет пользователя каждого региона (NA, EU, JP):\n",
    "1. Описать различие в долях продаж по пяти популярным платформам\n",
    "2. Выявить топ-5 популярных жанров\n",
    "3. Описать влияние рейтинга ESRB на продажи в отдельном регионе\n",
    "\n",
    "Необходимо проверить гипотезы:\n",
    "1. Средние пользовательские рейтинги платформ Xbox One и PC одинаковые\n",
    "2. Средние пользовательские рейтинги жанров *Action* и *Sports* разные"
   ]
  },
  {
   "cell_type": "markdown",
   "id": "9cc918f1",
   "metadata": {},
   "source": [
    "## 1. Открываем данные"
   ]
  },
  {
   "cell_type": "code",
   "execution_count": 1,
   "id": "0daa6491",
   "metadata": {},
   "outputs": [],
   "source": [
    "import pandas as pd\n",
    "from matplotlib import pyplot as plt\n",
    "import numpy as np\n",
    "import seaborn as sns\n",
    "from matplotlib import rcParams"
   ]
  },
  {
   "cell_type": "code",
   "execution_count": 2,
   "id": "9e66ea35",
   "metadata": {},
   "outputs": [],
   "source": [
    "sns.set_style(\"darkgrid\")"
   ]
  },
  {
   "cell_type": "code",
   "execution_count": 3,
   "id": "cbb9c4cb",
   "metadata": {
    "scrolled": true
   },
   "outputs": [],
   "source": [
    "data = pd.read_csv('datasets/games.csv')"
   ]
  },
  {
   "cell_type": "code",
   "execution_count": 4,
   "id": "7f2e72c8",
   "metadata": {},
   "outputs": [
    {
     "data": {
      "text/html": [
       "<div>\n",
       "<style scoped>\n",
       "    .dataframe tbody tr th:only-of-type {\n",
       "        vertical-align: middle;\n",
       "    }\n",
       "\n",
       "    .dataframe tbody tr th {\n",
       "        vertical-align: top;\n",
       "    }\n",
       "\n",
       "    .dataframe thead th {\n",
       "        text-align: right;\n",
       "    }\n",
       "</style>\n",
       "<table border=\"1\" class=\"dataframe\">\n",
       "  <thead>\n",
       "    <tr style=\"text-align: right;\">\n",
       "      <th></th>\n",
       "      <th>Name</th>\n",
       "      <th>Platform</th>\n",
       "      <th>Year_of_Release</th>\n",
       "      <th>Genre</th>\n",
       "      <th>NA_sales</th>\n",
       "      <th>EU_sales</th>\n",
       "      <th>JP_sales</th>\n",
       "      <th>Other_sales</th>\n",
       "      <th>Critic_Score</th>\n",
       "      <th>User_Score</th>\n",
       "      <th>Rating</th>\n",
       "    </tr>\n",
       "  </thead>\n",
       "  <tbody>\n",
       "    <tr>\n",
       "      <th>0</th>\n",
       "      <td>Wii Sports</td>\n",
       "      <td>Wii</td>\n",
       "      <td>2006.0</td>\n",
       "      <td>Sports</td>\n",
       "      <td>41.36</td>\n",
       "      <td>28.96</td>\n",
       "      <td>3.77</td>\n",
       "      <td>8.45</td>\n",
       "      <td>76.0</td>\n",
       "      <td>8</td>\n",
       "      <td>E</td>\n",
       "    </tr>\n",
       "    <tr>\n",
       "      <th>1</th>\n",
       "      <td>Super Mario Bros.</td>\n",
       "      <td>NES</td>\n",
       "      <td>1985.0</td>\n",
       "      <td>Platform</td>\n",
       "      <td>29.08</td>\n",
       "      <td>3.58</td>\n",
       "      <td>6.81</td>\n",
       "      <td>0.77</td>\n",
       "      <td>NaN</td>\n",
       "      <td>NaN</td>\n",
       "      <td>NaN</td>\n",
       "    </tr>\n",
       "    <tr>\n",
       "      <th>2</th>\n",
       "      <td>Mario Kart Wii</td>\n",
       "      <td>Wii</td>\n",
       "      <td>2008.0</td>\n",
       "      <td>Racing</td>\n",
       "      <td>15.68</td>\n",
       "      <td>12.76</td>\n",
       "      <td>3.79</td>\n",
       "      <td>3.29</td>\n",
       "      <td>82.0</td>\n",
       "      <td>8.3</td>\n",
       "      <td>E</td>\n",
       "    </tr>\n",
       "    <tr>\n",
       "      <th>3</th>\n",
       "      <td>Wii Sports Resort</td>\n",
       "      <td>Wii</td>\n",
       "      <td>2009.0</td>\n",
       "      <td>Sports</td>\n",
       "      <td>15.61</td>\n",
       "      <td>10.93</td>\n",
       "      <td>3.28</td>\n",
       "      <td>2.95</td>\n",
       "      <td>80.0</td>\n",
       "      <td>8</td>\n",
       "      <td>E</td>\n",
       "    </tr>\n",
       "    <tr>\n",
       "      <th>4</th>\n",
       "      <td>Pokemon Red/Pokemon Blue</td>\n",
       "      <td>GB</td>\n",
       "      <td>1996.0</td>\n",
       "      <td>Role-Playing</td>\n",
       "      <td>11.27</td>\n",
       "      <td>8.89</td>\n",
       "      <td>10.22</td>\n",
       "      <td>1.00</td>\n",
       "      <td>NaN</td>\n",
       "      <td>NaN</td>\n",
       "      <td>NaN</td>\n",
       "    </tr>\n",
       "    <tr>\n",
       "      <th>...</th>\n",
       "      <td>...</td>\n",
       "      <td>...</td>\n",
       "      <td>...</td>\n",
       "      <td>...</td>\n",
       "      <td>...</td>\n",
       "      <td>...</td>\n",
       "      <td>...</td>\n",
       "      <td>...</td>\n",
       "      <td>...</td>\n",
       "      <td>...</td>\n",
       "      <td>...</td>\n",
       "    </tr>\n",
       "    <tr>\n",
       "      <th>16710</th>\n",
       "      <td>Samurai Warriors: Sanada Maru</td>\n",
       "      <td>PS3</td>\n",
       "      <td>2016.0</td>\n",
       "      <td>Action</td>\n",
       "      <td>0.00</td>\n",
       "      <td>0.00</td>\n",
       "      <td>0.01</td>\n",
       "      <td>0.00</td>\n",
       "      <td>NaN</td>\n",
       "      <td>NaN</td>\n",
       "      <td>NaN</td>\n",
       "    </tr>\n",
       "    <tr>\n",
       "      <th>16711</th>\n",
       "      <td>LMA Manager 2007</td>\n",
       "      <td>X360</td>\n",
       "      <td>2006.0</td>\n",
       "      <td>Sports</td>\n",
       "      <td>0.00</td>\n",
       "      <td>0.01</td>\n",
       "      <td>0.00</td>\n",
       "      <td>0.00</td>\n",
       "      <td>NaN</td>\n",
       "      <td>NaN</td>\n",
       "      <td>NaN</td>\n",
       "    </tr>\n",
       "    <tr>\n",
       "      <th>16712</th>\n",
       "      <td>Haitaka no Psychedelica</td>\n",
       "      <td>PSV</td>\n",
       "      <td>2016.0</td>\n",
       "      <td>Adventure</td>\n",
       "      <td>0.00</td>\n",
       "      <td>0.00</td>\n",
       "      <td>0.01</td>\n",
       "      <td>0.00</td>\n",
       "      <td>NaN</td>\n",
       "      <td>NaN</td>\n",
       "      <td>NaN</td>\n",
       "    </tr>\n",
       "    <tr>\n",
       "      <th>16713</th>\n",
       "      <td>Spirits &amp; Spells</td>\n",
       "      <td>GBA</td>\n",
       "      <td>2003.0</td>\n",
       "      <td>Platform</td>\n",
       "      <td>0.01</td>\n",
       "      <td>0.00</td>\n",
       "      <td>0.00</td>\n",
       "      <td>0.00</td>\n",
       "      <td>NaN</td>\n",
       "      <td>NaN</td>\n",
       "      <td>NaN</td>\n",
       "    </tr>\n",
       "    <tr>\n",
       "      <th>16714</th>\n",
       "      <td>Winning Post 8 2016</td>\n",
       "      <td>PSV</td>\n",
       "      <td>2016.0</td>\n",
       "      <td>Simulation</td>\n",
       "      <td>0.00</td>\n",
       "      <td>0.00</td>\n",
       "      <td>0.01</td>\n",
       "      <td>0.00</td>\n",
       "      <td>NaN</td>\n",
       "      <td>NaN</td>\n",
       "      <td>NaN</td>\n",
       "    </tr>\n",
       "  </tbody>\n",
       "</table>\n",
       "<p>16715 rows × 11 columns</p>\n",
       "</div>"
      ],
      "text/plain": [
       "                                Name Platform  Year_of_Release         Genre  \\\n",
       "0                         Wii Sports      Wii           2006.0        Sports   \n",
       "1                  Super Mario Bros.      NES           1985.0      Platform   \n",
       "2                     Mario Kart Wii      Wii           2008.0        Racing   \n",
       "3                  Wii Sports Resort      Wii           2009.0        Sports   \n",
       "4           Pokemon Red/Pokemon Blue       GB           1996.0  Role-Playing   \n",
       "...                              ...      ...              ...           ...   \n",
       "16710  Samurai Warriors: Sanada Maru      PS3           2016.0        Action   \n",
       "16711               LMA Manager 2007     X360           2006.0        Sports   \n",
       "16712        Haitaka no Psychedelica      PSV           2016.0     Adventure   \n",
       "16713               Spirits & Spells      GBA           2003.0      Platform   \n",
       "16714            Winning Post 8 2016      PSV           2016.0    Simulation   \n",
       "\n",
       "       NA_sales  EU_sales  JP_sales  Other_sales  Critic_Score User_Score  \\\n",
       "0         41.36     28.96      3.77         8.45          76.0          8   \n",
       "1         29.08      3.58      6.81         0.77           NaN        NaN   \n",
       "2         15.68     12.76      3.79         3.29          82.0        8.3   \n",
       "3         15.61     10.93      3.28         2.95          80.0          8   \n",
       "4         11.27      8.89     10.22         1.00           NaN        NaN   \n",
       "...         ...       ...       ...          ...           ...        ...   \n",
       "16710      0.00      0.00      0.01         0.00           NaN        NaN   \n",
       "16711      0.00      0.01      0.00         0.00           NaN        NaN   \n",
       "16712      0.00      0.00      0.01         0.00           NaN        NaN   \n",
       "16713      0.01      0.00      0.00         0.00           NaN        NaN   \n",
       "16714      0.00      0.00      0.01         0.00           NaN        NaN   \n",
       "\n",
       "      Rating  \n",
       "0          E  \n",
       "1        NaN  \n",
       "2          E  \n",
       "3          E  \n",
       "4        NaN  \n",
       "...      ...  \n",
       "16710    NaN  \n",
       "16711    NaN  \n",
       "16712    NaN  \n",
       "16713    NaN  \n",
       "16714    NaN  \n",
       "\n",
       "[16715 rows x 11 columns]"
      ]
     },
     "execution_count": 4,
     "metadata": {},
     "output_type": "execute_result"
    }
   ],
   "source": [
    "data"
   ]
  },
  {
   "cell_type": "code",
   "execution_count": 5,
   "id": "f4b36a73",
   "metadata": {
    "scrolled": true
   },
   "outputs": [
    {
     "name": "stdout",
     "output_type": "stream",
     "text": [
      "<class 'pandas.core.frame.DataFrame'>\n",
      "RangeIndex: 16715 entries, 0 to 16714\n",
      "Data columns (total 11 columns):\n",
      " #   Column           Non-Null Count  Dtype  \n",
      "---  ------           --------------  -----  \n",
      " 0   Name             16713 non-null  object \n",
      " 1   Platform         16715 non-null  object \n",
      " 2   Year_of_Release  16446 non-null  float64\n",
      " 3   Genre            16713 non-null  object \n",
      " 4   NA_sales         16715 non-null  float64\n",
      " 5   EU_sales         16715 non-null  float64\n",
      " 6   JP_sales         16715 non-null  float64\n",
      " 7   Other_sales      16715 non-null  float64\n",
      " 8   Critic_Score     8137 non-null   float64\n",
      " 9   User_Score       10014 non-null  object \n",
      " 10  Rating           9949 non-null   object \n",
      "dtypes: float64(6), object(5)\n",
      "memory usage: 1.4+ MB\n"
     ]
    }
   ],
   "source": [
    "data.info()"
   ]
  },
  {
   "cell_type": "code",
   "execution_count": 6,
   "id": "50b20b97",
   "metadata": {},
   "outputs": [
    {
     "data": {
      "text/html": [
       "<div>\n",
       "<style scoped>\n",
       "    .dataframe tbody tr th:only-of-type {\n",
       "        vertical-align: middle;\n",
       "    }\n",
       "\n",
       "    .dataframe tbody tr th {\n",
       "        vertical-align: top;\n",
       "    }\n",
       "\n",
       "    .dataframe thead th {\n",
       "        text-align: right;\n",
       "    }\n",
       "</style>\n",
       "<table border=\"1\" class=\"dataframe\">\n",
       "  <thead>\n",
       "    <tr style=\"text-align: right;\">\n",
       "      <th></th>\n",
       "      <th>Year_of_Release</th>\n",
       "      <th>NA_sales</th>\n",
       "      <th>EU_sales</th>\n",
       "      <th>JP_sales</th>\n",
       "      <th>Other_sales</th>\n",
       "      <th>Critic_Score</th>\n",
       "    </tr>\n",
       "  </thead>\n",
       "  <tbody>\n",
       "    <tr>\n",
       "      <th>count</th>\n",
       "      <td>16446.000000</td>\n",
       "      <td>16715.000000</td>\n",
       "      <td>16715.000000</td>\n",
       "      <td>16715.000000</td>\n",
       "      <td>16715.000000</td>\n",
       "      <td>8137.000000</td>\n",
       "    </tr>\n",
       "    <tr>\n",
       "      <th>mean</th>\n",
       "      <td>2006.484616</td>\n",
       "      <td>0.263377</td>\n",
       "      <td>0.145060</td>\n",
       "      <td>0.077617</td>\n",
       "      <td>0.047342</td>\n",
       "      <td>68.967679</td>\n",
       "    </tr>\n",
       "    <tr>\n",
       "      <th>std</th>\n",
       "      <td>5.877050</td>\n",
       "      <td>0.813604</td>\n",
       "      <td>0.503339</td>\n",
       "      <td>0.308853</td>\n",
       "      <td>0.186731</td>\n",
       "      <td>13.938165</td>\n",
       "    </tr>\n",
       "    <tr>\n",
       "      <th>min</th>\n",
       "      <td>1980.000000</td>\n",
       "      <td>0.000000</td>\n",
       "      <td>0.000000</td>\n",
       "      <td>0.000000</td>\n",
       "      <td>0.000000</td>\n",
       "      <td>13.000000</td>\n",
       "    </tr>\n",
       "    <tr>\n",
       "      <th>25%</th>\n",
       "      <td>2003.000000</td>\n",
       "      <td>0.000000</td>\n",
       "      <td>0.000000</td>\n",
       "      <td>0.000000</td>\n",
       "      <td>0.000000</td>\n",
       "      <td>60.000000</td>\n",
       "    </tr>\n",
       "    <tr>\n",
       "      <th>50%</th>\n",
       "      <td>2007.000000</td>\n",
       "      <td>0.080000</td>\n",
       "      <td>0.020000</td>\n",
       "      <td>0.000000</td>\n",
       "      <td>0.010000</td>\n",
       "      <td>71.000000</td>\n",
       "    </tr>\n",
       "    <tr>\n",
       "      <th>75%</th>\n",
       "      <td>2010.000000</td>\n",
       "      <td>0.240000</td>\n",
       "      <td>0.110000</td>\n",
       "      <td>0.040000</td>\n",
       "      <td>0.030000</td>\n",
       "      <td>79.000000</td>\n",
       "    </tr>\n",
       "    <tr>\n",
       "      <th>max</th>\n",
       "      <td>2016.000000</td>\n",
       "      <td>41.360000</td>\n",
       "      <td>28.960000</td>\n",
       "      <td>10.220000</td>\n",
       "      <td>10.570000</td>\n",
       "      <td>98.000000</td>\n",
       "    </tr>\n",
       "  </tbody>\n",
       "</table>\n",
       "</div>"
      ],
      "text/plain": [
       "       Year_of_Release      NA_sales      EU_sales      JP_sales  \\\n",
       "count     16446.000000  16715.000000  16715.000000  16715.000000   \n",
       "mean       2006.484616      0.263377      0.145060      0.077617   \n",
       "std           5.877050      0.813604      0.503339      0.308853   \n",
       "min        1980.000000      0.000000      0.000000      0.000000   \n",
       "25%        2003.000000      0.000000      0.000000      0.000000   \n",
       "50%        2007.000000      0.080000      0.020000      0.000000   \n",
       "75%        2010.000000      0.240000      0.110000      0.040000   \n",
       "max        2016.000000     41.360000     28.960000     10.220000   \n",
       "\n",
       "        Other_sales  Critic_Score  \n",
       "count  16715.000000   8137.000000  \n",
       "mean       0.047342     68.967679  \n",
       "std        0.186731     13.938165  \n",
       "min        0.000000     13.000000  \n",
       "25%        0.000000     60.000000  \n",
       "50%        0.010000     71.000000  \n",
       "75%        0.030000     79.000000  \n",
       "max       10.570000     98.000000  "
      ]
     },
     "execution_count": 6,
     "metadata": {},
     "output_type": "execute_result"
    }
   ],
   "source": [
    "data.describe()"
   ]
  },
  {
   "cell_type": "markdown",
   "id": "fb3299aa",
   "metadata": {},
   "source": [
    "Из таблиц выше выявили следующие проблемы: \n",
    "1. Названия столбцов необходимо привести к \"змеиному стилю\"\n",
    "2. Отсутствующие значения. Посмотрим на них и поправим\n",
    "3. Необходимо привести данные к нужному типу"
   ]
  },
  {
   "cell_type": "markdown",
   "id": "ba0d7971",
   "metadata": {},
   "source": [
    "## 2.Преподготовка данных"
   ]
  },
  {
   "cell_type": "markdown",
   "id": "1d71a865",
   "metadata": {},
   "source": [
    "### 2.1 Замена названий столбцов"
   ]
  },
  {
   "cell_type": "code",
   "execution_count": 7,
   "id": "5554725f",
   "metadata": {},
   "outputs": [],
   "source": [
    "data.columns = ['game_name', 'platform', 'year_of_release', 'genre', 'na_sales', 'eu_sales',\n",
    "       'jp_sales', 'other_sales', 'critic_score', 'user_score', 'rating']"
   ]
  },
  {
   "cell_type": "markdown",
   "id": "f1721d5b",
   "metadata": {},
   "source": [
    "### 2.2 Работа с дубликатами"
   ]
  },
  {
   "cell_type": "code",
   "execution_count": 8,
   "id": "a8e8f71d",
   "metadata": {},
   "outputs": [
    {
     "data": {
      "text/plain": [
       "0"
      ]
     },
     "execution_count": 8,
     "metadata": {},
     "output_type": "execute_result"
    }
   ],
   "source": [
    "data.duplicated().sum()"
   ]
  },
  {
   "cell_type": "markdown",
   "id": "ff101b70",
   "metadata": {},
   "source": [
    "Полных дубликатов нет. Проверим по играм"
   ]
  },
  {
   "cell_type": "code",
   "execution_count": 9,
   "id": "253b812d",
   "metadata": {},
   "outputs": [
    {
     "data": {
      "text/html": [
       "<div>\n",
       "<style scoped>\n",
       "    .dataframe tbody tr th:only-of-type {\n",
       "        vertical-align: middle;\n",
       "    }\n",
       "\n",
       "    .dataframe tbody tr th {\n",
       "        vertical-align: top;\n",
       "    }\n",
       "\n",
       "    .dataframe thead th {\n",
       "        text-align: right;\n",
       "    }\n",
       "</style>\n",
       "<table border=\"1\" class=\"dataframe\">\n",
       "  <thead>\n",
       "    <tr style=\"text-align: right;\">\n",
       "      <th></th>\n",
       "      <th>game_name</th>\n",
       "      <th>platform</th>\n",
       "      <th>year_of_release</th>\n",
       "      <th>genre</th>\n",
       "      <th>na_sales</th>\n",
       "      <th>eu_sales</th>\n",
       "      <th>jp_sales</th>\n",
       "      <th>other_sales</th>\n",
       "      <th>critic_score</th>\n",
       "      <th>user_score</th>\n",
       "      <th>rating</th>\n",
       "    </tr>\n",
       "  </thead>\n",
       "  <tbody>\n",
       "    <tr>\n",
       "      <th>3862</th>\n",
       "      <td>Frozen: Olaf's Quest</td>\n",
       "      <td>DS</td>\n",
       "      <td>2013.0</td>\n",
       "      <td>Platform</td>\n",
       "      <td>0.21</td>\n",
       "      <td>0.26</td>\n",
       "      <td>0.00</td>\n",
       "      <td>0.04</td>\n",
       "      <td>NaN</td>\n",
       "      <td>NaN</td>\n",
       "      <td>NaN</td>\n",
       "    </tr>\n",
       "    <tr>\n",
       "      <th>9507</th>\n",
       "      <td>007: Quantum of Solace</td>\n",
       "      <td>DS</td>\n",
       "      <td>2008.0</td>\n",
       "      <td>Action</td>\n",
       "      <td>0.11</td>\n",
       "      <td>0.01</td>\n",
       "      <td>0.00</td>\n",
       "      <td>0.01</td>\n",
       "      <td>65.0</td>\n",
       "      <td>tbd</td>\n",
       "      <td>T</td>\n",
       "    </tr>\n",
       "    <tr>\n",
       "      <th>4475</th>\n",
       "      <td>007: Quantum of Solace</td>\n",
       "      <td>PS2</td>\n",
       "      <td>2008.0</td>\n",
       "      <td>Action</td>\n",
       "      <td>0.17</td>\n",
       "      <td>0.00</td>\n",
       "      <td>0.00</td>\n",
       "      <td>0.26</td>\n",
       "      <td>NaN</td>\n",
       "      <td>NaN</td>\n",
       "      <td>NaN</td>\n",
       "    </tr>\n",
       "    <tr>\n",
       "      <th>1785</th>\n",
       "      <td>007: Quantum of Solace</td>\n",
       "      <td>PS3</td>\n",
       "      <td>2008.0</td>\n",
       "      <td>Action</td>\n",
       "      <td>0.43</td>\n",
       "      <td>0.51</td>\n",
       "      <td>0.02</td>\n",
       "      <td>0.19</td>\n",
       "      <td>65.0</td>\n",
       "      <td>6.6</td>\n",
       "      <td>T</td>\n",
       "    </tr>\n",
       "    <tr>\n",
       "      <th>3120</th>\n",
       "      <td>007: Quantum of Solace</td>\n",
       "      <td>Wii</td>\n",
       "      <td>2008.0</td>\n",
       "      <td>Action</td>\n",
       "      <td>0.29</td>\n",
       "      <td>0.28</td>\n",
       "      <td>0.01</td>\n",
       "      <td>0.07</td>\n",
       "      <td>54.0</td>\n",
       "      <td>7.5</td>\n",
       "      <td>T</td>\n",
       "    </tr>\n",
       "    <tr>\n",
       "      <th>...</th>\n",
       "      <td>...</td>\n",
       "      <td>...</td>\n",
       "      <td>...</td>\n",
       "      <td>...</td>\n",
       "      <td>...</td>\n",
       "      <td>...</td>\n",
       "      <td>...</td>\n",
       "      <td>...</td>\n",
       "      <td>...</td>\n",
       "      <td>...</td>\n",
       "      <td>...</td>\n",
       "    </tr>\n",
       "    <tr>\n",
       "      <th>3304</th>\n",
       "      <td>pro evolution soccer 2011</td>\n",
       "      <td>X360</td>\n",
       "      <td>2010.0</td>\n",
       "      <td>Sports</td>\n",
       "      <td>0.09</td>\n",
       "      <td>0.44</td>\n",
       "      <td>0.00</td>\n",
       "      <td>0.07</td>\n",
       "      <td>79.0</td>\n",
       "      <td>5.9</td>\n",
       "      <td>E</td>\n",
       "    </tr>\n",
       "    <tr>\n",
       "      <th>4664</th>\n",
       "      <td>pro evolution soccer 2011</td>\n",
       "      <td>PS2</td>\n",
       "      <td>2010.0</td>\n",
       "      <td>Sports</td>\n",
       "      <td>0.04</td>\n",
       "      <td>0.21</td>\n",
       "      <td>0.05</td>\n",
       "      <td>0.11</td>\n",
       "      <td>NaN</td>\n",
       "      <td>6.7</td>\n",
       "      <td>E</td>\n",
       "    </tr>\n",
       "    <tr>\n",
       "      <th>2583</th>\n",
       "      <td>pro evolution soccer 2011</td>\n",
       "      <td>PSP</td>\n",
       "      <td>2010.0</td>\n",
       "      <td>Sports</td>\n",
       "      <td>0.05</td>\n",
       "      <td>0.30</td>\n",
       "      <td>0.29</td>\n",
       "      <td>0.16</td>\n",
       "      <td>74.0</td>\n",
       "      <td>5.8</td>\n",
       "      <td>E</td>\n",
       "    </tr>\n",
       "    <tr>\n",
       "      <th>15612</th>\n",
       "      <td>uDraw Studio: Instant Artist</td>\n",
       "      <td>X360</td>\n",
       "      <td>2011.0</td>\n",
       "      <td>Misc</td>\n",
       "      <td>0.01</td>\n",
       "      <td>0.01</td>\n",
       "      <td>0.00</td>\n",
       "      <td>0.00</td>\n",
       "      <td>54.0</td>\n",
       "      <td>5.7</td>\n",
       "      <td>E</td>\n",
       "    </tr>\n",
       "    <tr>\n",
       "      <th>14244</th>\n",
       "      <td>NaN</td>\n",
       "      <td>GEN</td>\n",
       "      <td>1993.0</td>\n",
       "      <td>NaN</td>\n",
       "      <td>0.00</td>\n",
       "      <td>0.00</td>\n",
       "      <td>0.03</td>\n",
       "      <td>0.00</td>\n",
       "      <td>NaN</td>\n",
       "      <td>NaN</td>\n",
       "      <td>NaN</td>\n",
       "    </tr>\n",
       "  </tbody>\n",
       "</table>\n",
       "<p>5155 rows × 11 columns</p>\n",
       "</div>"
      ],
      "text/plain": [
       "                          game_name platform  year_of_release     genre  \\\n",
       "3862           Frozen: Olaf's Quest       DS           2013.0  Platform   \n",
       "9507         007: Quantum of Solace       DS           2008.0    Action   \n",
       "4475         007: Quantum of Solace      PS2           2008.0    Action   \n",
       "1785         007: Quantum of Solace      PS3           2008.0    Action   \n",
       "3120         007: Quantum of Solace      Wii           2008.0    Action   \n",
       "...                             ...      ...              ...       ...   \n",
       "3304      pro evolution soccer 2011     X360           2010.0    Sports   \n",
       "4664      pro evolution soccer 2011      PS2           2010.0    Sports   \n",
       "2583      pro evolution soccer 2011      PSP           2010.0    Sports   \n",
       "15612  uDraw Studio: Instant Artist     X360           2011.0      Misc   \n",
       "14244                           NaN      GEN           1993.0       NaN   \n",
       "\n",
       "       na_sales  eu_sales  jp_sales  other_sales  critic_score user_score  \\\n",
       "3862       0.21      0.26      0.00         0.04           NaN        NaN   \n",
       "9507       0.11      0.01      0.00         0.01          65.0        tbd   \n",
       "4475       0.17      0.00      0.00         0.26           NaN        NaN   \n",
       "1785       0.43      0.51      0.02         0.19          65.0        6.6   \n",
       "3120       0.29      0.28      0.01         0.07          54.0        7.5   \n",
       "...         ...       ...       ...          ...           ...        ...   \n",
       "3304       0.09      0.44      0.00         0.07          79.0        5.9   \n",
       "4664       0.04      0.21      0.05         0.11           NaN        6.7   \n",
       "2583       0.05      0.30      0.29         0.16          74.0        5.8   \n",
       "15612      0.01      0.01      0.00         0.00          54.0        5.7   \n",
       "14244      0.00      0.00      0.03         0.00           NaN        NaN   \n",
       "\n",
       "      rating  \n",
       "3862     NaN  \n",
       "9507       T  \n",
       "4475     NaN  \n",
       "1785       T  \n",
       "3120       T  \n",
       "...      ...  \n",
       "3304       E  \n",
       "4664       E  \n",
       "2583       E  \n",
       "15612      E  \n",
       "14244    NaN  \n",
       "\n",
       "[5155 rows x 11 columns]"
      ]
     },
     "execution_count": 9,
     "metadata": {},
     "output_type": "execute_result"
    }
   ],
   "source": [
    "data[data['game_name'].duplicated()].sort_values('game_name')"
   ]
  },
  {
   "cell_type": "markdown",
   "id": "5907e5e0",
   "metadata": {},
   "source": [
    "Тут наличие дубликатов объясняется выходом игры на разных платформах. Позже проверим по каждой\n",
    "\n",
    "Посмотрим как записаны платормы"
   ]
  },
  {
   "cell_type": "code",
   "execution_count": 10,
   "id": "1db34bed",
   "metadata": {
    "scrolled": true
   },
   "outputs": [
    {
     "data": {
      "text/plain": [
       "array(['2600', '3DO', '3DS', 'DC', 'DS', 'GB', 'GBA', 'GC', 'GEN', 'GG',\n",
       "       'N64', 'NES', 'NG', 'PC', 'PCFX', 'PS', 'PS2', 'PS3', 'PS4', 'PSP',\n",
       "       'PSV', 'SAT', 'SCD', 'SNES', 'TG16', 'WS', 'Wii', 'WiiU', 'X360',\n",
       "       'XB', 'XOne'], dtype=object)"
      ]
     },
     "execution_count": 10,
     "metadata": {},
     "output_type": "execute_result"
    }
   ],
   "source": [
    "data['platform'].sort_values().unique()"
   ]
  },
  {
   "cell_type": "markdown",
   "id": "c5aabe48",
   "metadata": {},
   "source": [
    "Тут все хорошо. Теперь проверим нет ли дубликата выхода игры на одной и той же платформе"
   ]
  },
  {
   "cell_type": "code",
   "execution_count": 11,
   "id": "25135d26",
   "metadata": {},
   "outputs": [
    {
     "data": {
      "text/html": [
       "<div>\n",
       "<style scoped>\n",
       "    .dataframe tbody tr th:only-of-type {\n",
       "        vertical-align: middle;\n",
       "    }\n",
       "\n",
       "    .dataframe tbody tr th {\n",
       "        vertical-align: top;\n",
       "    }\n",
       "\n",
       "    .dataframe thead th {\n",
       "        text-align: right;\n",
       "    }\n",
       "</style>\n",
       "<table border=\"1\" class=\"dataframe\">\n",
       "  <thead>\n",
       "    <tr style=\"text-align: right;\">\n",
       "      <th></th>\n",
       "      <th>game_name</th>\n",
       "      <th>platform</th>\n",
       "      <th>year_of_release</th>\n",
       "      <th>genre</th>\n",
       "      <th>na_sales</th>\n",
       "      <th>eu_sales</th>\n",
       "      <th>jp_sales</th>\n",
       "      <th>other_sales</th>\n",
       "      <th>critic_score</th>\n",
       "      <th>user_score</th>\n",
       "      <th>rating</th>\n",
       "    </tr>\n",
       "  </thead>\n",
       "  <tbody>\n",
       "    <tr>\n",
       "      <th>604</th>\n",
       "      <td>Madden NFL 13</td>\n",
       "      <td>PS3</td>\n",
       "      <td>2012.0</td>\n",
       "      <td>Sports</td>\n",
       "      <td>2.11</td>\n",
       "      <td>0.22</td>\n",
       "      <td>0.00</td>\n",
       "      <td>0.23</td>\n",
       "      <td>83.0</td>\n",
       "      <td>5.5</td>\n",
       "      <td>E</td>\n",
       "    </tr>\n",
       "    <tr>\n",
       "      <th>16230</th>\n",
       "      <td>Madden NFL 13</td>\n",
       "      <td>PS3</td>\n",
       "      <td>2012.0</td>\n",
       "      <td>Sports</td>\n",
       "      <td>0.00</td>\n",
       "      <td>0.01</td>\n",
       "      <td>0.00</td>\n",
       "      <td>0.00</td>\n",
       "      <td>83.0</td>\n",
       "      <td>5.5</td>\n",
       "      <td>E</td>\n",
       "    </tr>\n",
       "    <tr>\n",
       "      <th>1190</th>\n",
       "      <td>Need for Speed: Most Wanted</td>\n",
       "      <td>X360</td>\n",
       "      <td>2012.0</td>\n",
       "      <td>Racing</td>\n",
       "      <td>0.62</td>\n",
       "      <td>0.78</td>\n",
       "      <td>0.01</td>\n",
       "      <td>0.15</td>\n",
       "      <td>83.0</td>\n",
       "      <td>8.5</td>\n",
       "      <td>T</td>\n",
       "    </tr>\n",
       "    <tr>\n",
       "      <th>1591</th>\n",
       "      <td>Need for Speed: Most Wanted</td>\n",
       "      <td>X360</td>\n",
       "      <td>2005.0</td>\n",
       "      <td>Racing</td>\n",
       "      <td>1.00</td>\n",
       "      <td>0.13</td>\n",
       "      <td>0.02</td>\n",
       "      <td>0.10</td>\n",
       "      <td>83.0</td>\n",
       "      <td>8.5</td>\n",
       "      <td>T</td>\n",
       "    </tr>\n",
       "    <tr>\n",
       "      <th>5972</th>\n",
       "      <td>Need for Speed: Most Wanted</td>\n",
       "      <td>PC</td>\n",
       "      <td>2005.0</td>\n",
       "      <td>Racing</td>\n",
       "      <td>0.02</td>\n",
       "      <td>0.23</td>\n",
       "      <td>0.00</td>\n",
       "      <td>0.04</td>\n",
       "      <td>82.0</td>\n",
       "      <td>8.5</td>\n",
       "      <td>T</td>\n",
       "    </tr>\n",
       "    <tr>\n",
       "      <th>11715</th>\n",
       "      <td>Need for Speed: Most Wanted</td>\n",
       "      <td>PC</td>\n",
       "      <td>2012.0</td>\n",
       "      <td>Racing</td>\n",
       "      <td>0.00</td>\n",
       "      <td>0.06</td>\n",
       "      <td>0.00</td>\n",
       "      <td>0.02</td>\n",
       "      <td>82.0</td>\n",
       "      <td>8.5</td>\n",
       "      <td>T</td>\n",
       "    </tr>\n",
       "    <tr>\n",
       "      <th>1745</th>\n",
       "      <td>Sonic the Hedgehog</td>\n",
       "      <td>PS3</td>\n",
       "      <td>2006.0</td>\n",
       "      <td>Platform</td>\n",
       "      <td>0.41</td>\n",
       "      <td>0.06</td>\n",
       "      <td>0.04</td>\n",
       "      <td>0.66</td>\n",
       "      <td>43.0</td>\n",
       "      <td>4.1</td>\n",
       "      <td>E10+</td>\n",
       "    </tr>\n",
       "    <tr>\n",
       "      <th>4127</th>\n",
       "      <td>Sonic the Hedgehog</td>\n",
       "      <td>PS3</td>\n",
       "      <td>NaN</td>\n",
       "      <td>Platform</td>\n",
       "      <td>0.00</td>\n",
       "      <td>0.48</td>\n",
       "      <td>0.00</td>\n",
       "      <td>0.00</td>\n",
       "      <td>43.0</td>\n",
       "      <td>4.1</td>\n",
       "      <td>E10+</td>\n",
       "    </tr>\n",
       "    <tr>\n",
       "      <th>659</th>\n",
       "      <td>NaN</td>\n",
       "      <td>GEN</td>\n",
       "      <td>1993.0</td>\n",
       "      <td>NaN</td>\n",
       "      <td>1.78</td>\n",
       "      <td>0.53</td>\n",
       "      <td>0.00</td>\n",
       "      <td>0.08</td>\n",
       "      <td>NaN</td>\n",
       "      <td>NaN</td>\n",
       "      <td>NaN</td>\n",
       "    </tr>\n",
       "    <tr>\n",
       "      <th>14244</th>\n",
       "      <td>NaN</td>\n",
       "      <td>GEN</td>\n",
       "      <td>1993.0</td>\n",
       "      <td>NaN</td>\n",
       "      <td>0.00</td>\n",
       "      <td>0.00</td>\n",
       "      <td>0.03</td>\n",
       "      <td>0.00</td>\n",
       "      <td>NaN</td>\n",
       "      <td>NaN</td>\n",
       "      <td>NaN</td>\n",
       "    </tr>\n",
       "  </tbody>\n",
       "</table>\n",
       "</div>"
      ],
      "text/plain": [
       "                         game_name platform  year_of_release     genre  \\\n",
       "604                  Madden NFL 13      PS3           2012.0    Sports   \n",
       "16230                Madden NFL 13      PS3           2012.0    Sports   \n",
       "1190   Need for Speed: Most Wanted     X360           2012.0    Racing   \n",
       "1591   Need for Speed: Most Wanted     X360           2005.0    Racing   \n",
       "5972   Need for Speed: Most Wanted       PC           2005.0    Racing   \n",
       "11715  Need for Speed: Most Wanted       PC           2012.0    Racing   \n",
       "1745            Sonic the Hedgehog      PS3           2006.0  Platform   \n",
       "4127            Sonic the Hedgehog      PS3              NaN  Platform   \n",
       "659                            NaN      GEN           1993.0       NaN   \n",
       "14244                          NaN      GEN           1993.0       NaN   \n",
       "\n",
       "       na_sales  eu_sales  jp_sales  other_sales  critic_score user_score  \\\n",
       "604        2.11      0.22      0.00         0.23          83.0        5.5   \n",
       "16230      0.00      0.01      0.00         0.00          83.0        5.5   \n",
       "1190       0.62      0.78      0.01         0.15          83.0        8.5   \n",
       "1591       1.00      0.13      0.02         0.10          83.0        8.5   \n",
       "5972       0.02      0.23      0.00         0.04          82.0        8.5   \n",
       "11715      0.00      0.06      0.00         0.02          82.0        8.5   \n",
       "1745       0.41      0.06      0.04         0.66          43.0        4.1   \n",
       "4127       0.00      0.48      0.00         0.00          43.0        4.1   \n",
       "659        1.78      0.53      0.00         0.08           NaN        NaN   \n",
       "14244      0.00      0.00      0.03         0.00           NaN        NaN   \n",
       "\n",
       "      rating  \n",
       "604        E  \n",
       "16230      E  \n",
       "1190       T  \n",
       "1591       T  \n",
       "5972       T  \n",
       "11715      T  \n",
       "1745    E10+  \n",
       "4127    E10+  \n",
       "659      NaN  \n",
       "14244    NaN  "
      ]
     },
     "execution_count": 11,
     "metadata": {},
     "output_type": "execute_result"
    }
   ],
   "source": [
    "data[data[['game_name','platform']].duplicated(keep = False)].sort_values('game_name')"
   ]
  },
  {
   "cell_type": "markdown",
   "id": "e00a361c",
   "metadata": {},
   "source": [
    "индексы 16230 и 4127 без сомнений являются дубликатами, сложим значения в колонке продаж и удалим эти строки.\n",
    "индексы 1591 и 11715 не являются дубликатами, т.к. эти игры действительно разные\n",
    "с NaN пока ничего делать не будем"
   ]
  },
  {
   "cell_type": "code",
   "execution_count": 12,
   "id": "789c1da5",
   "metadata": {},
   "outputs": [],
   "source": [
    "data.loc[604, ['na_sales', 'eu_sales', 'jp_sales', 'other_sales']] += data.loc[16230, ['na_sales', 'eu_sales', 'jp_sales', 'other_sales']]\n",
    "data.loc[1745, ['na_sales', 'eu_sales', 'jp_sales', 'other_sales']] += data.loc[4127, ['na_sales', 'eu_sales', 'jp_sales', 'other_sales']]\n",
    "data.drop([16230, 4127], inplace = True)"
   ]
  },
  {
   "cell_type": "code",
   "execution_count": 13,
   "id": "2ab5682c",
   "metadata": {},
   "outputs": [],
   "source": [
    "data.reset_index(drop = True, inplace = True)"
   ]
  },
  {
   "cell_type": "markdown",
   "id": "cb33dbc4",
   "metadata": {},
   "source": [
    "теперь все хорошо. проверим неявные дубликаты по жанрам"
   ]
  },
  {
   "cell_type": "code",
   "execution_count": 14,
   "id": "5c0bade2",
   "metadata": {},
   "outputs": [
    {
     "data": {
      "text/plain": [
       "array(['Action', 'Adventure', 'Fighting', 'Misc', 'Platform', 'Puzzle',\n",
       "       'Racing', 'Role-Playing', 'Shooter', 'Simulation', 'Sports',\n",
       "       'Strategy', nan], dtype=object)"
      ]
     },
     "execution_count": 14,
     "metadata": {},
     "output_type": "execute_result"
    }
   ],
   "source": [
    "data['genre'].sort_values().unique()"
   ]
  },
  {
   "cell_type": "markdown",
   "id": "cac805ef",
   "metadata": {},
   "source": [
    "Все ок. Неявных дубликатов в датафрейме нет"
   ]
  },
  {
   "cell_type": "markdown",
   "id": "eccee7b7",
   "metadata": {},
   "source": [
    "### 2.3 Работа с пропусками"
   ]
  },
  {
   "cell_type": "markdown",
   "id": "b237c691",
   "metadata": {},
   "source": [
    "Посмотрим еще раз на пропуски"
   ]
  },
  {
   "cell_type": "code",
   "execution_count": 15,
   "id": "c4e18e01",
   "metadata": {},
   "outputs": [
    {
     "data": {
      "text/html": [
       "<style  type=\"text/css\" >\n",
       "#T_1f3ed_row0_col0,#T_1f3ed_row0_col1,#T_1f3ed_row1_col0,#T_1f3ed_row1_col1,#T_1f3ed_row3_col0,#T_1f3ed_row3_col1,#T_1f3ed_row4_col0,#T_1f3ed_row4_col1,#T_1f3ed_row5_col0,#T_1f3ed_row5_col1,#T_1f3ed_row6_col0,#T_1f3ed_row6_col1,#T_1f3ed_row7_col0,#T_1f3ed_row7_col1{\n",
       "            background-color:  #3b4cc0;\n",
       "            color:  #f1f1f1;\n",
       "        }#T_1f3ed_row2_col0,#T_1f3ed_row2_col1{\n",
       "            background-color:  #4358cb;\n",
       "            color:  #f1f1f1;\n",
       "        }#T_1f3ed_row8_col0,#T_1f3ed_row8_col1{\n",
       "            background-color:  #b40426;\n",
       "            color:  #f1f1f1;\n",
       "        }#T_1f3ed_row9_col0,#T_1f3ed_row9_col1{\n",
       "            background-color:  #f18d6f;\n",
       "            color:  #000000;\n",
       "        }#T_1f3ed_row10_col0,#T_1f3ed_row10_col1{\n",
       "            background-color:  #f08a6c;\n",
       "            color:  #000000;\n",
       "        }</style><table id=\"T_1f3ed_\" ><thead>    <tr>        <th class=\"blank level0\" ></th>        <th class=\"col_heading level0 col0\" >nan_sum</th>        <th class=\"col_heading level0 col1\" >nan_percent</th>    </tr></thead><tbody>\n",
       "                <tr>\n",
       "                        <th id=\"T_1f3ed_level0_row0\" class=\"row_heading level0 row0\" >game_name</th>\n",
       "                        <td id=\"T_1f3ed_row0_col0\" class=\"data row0 col0\" >2</td>\n",
       "                        <td id=\"T_1f3ed_row0_col1\" class=\"data row0 col1\" >0.011967</td>\n",
       "            </tr>\n",
       "            <tr>\n",
       "                        <th id=\"T_1f3ed_level0_row1\" class=\"row_heading level0 row1\" >platform</th>\n",
       "                        <td id=\"T_1f3ed_row1_col0\" class=\"data row1 col0\" >0</td>\n",
       "                        <td id=\"T_1f3ed_row1_col1\" class=\"data row1 col1\" >0.000000</td>\n",
       "            </tr>\n",
       "            <tr>\n",
       "                        <th id=\"T_1f3ed_level0_row2\" class=\"row_heading level0 row2\" >year_of_release</th>\n",
       "                        <td id=\"T_1f3ed_row2_col0\" class=\"data row2 col0\" >268</td>\n",
       "                        <td id=\"T_1f3ed_row2_col1\" class=\"data row2 col1\" >1.603542</td>\n",
       "            </tr>\n",
       "            <tr>\n",
       "                        <th id=\"T_1f3ed_level0_row3\" class=\"row_heading level0 row3\" >genre</th>\n",
       "                        <td id=\"T_1f3ed_row3_col0\" class=\"data row3 col0\" >2</td>\n",
       "                        <td id=\"T_1f3ed_row3_col1\" class=\"data row3 col1\" >0.011967</td>\n",
       "            </tr>\n",
       "            <tr>\n",
       "                        <th id=\"T_1f3ed_level0_row4\" class=\"row_heading level0 row4\" >na_sales</th>\n",
       "                        <td id=\"T_1f3ed_row4_col0\" class=\"data row4 col0\" >0</td>\n",
       "                        <td id=\"T_1f3ed_row4_col1\" class=\"data row4 col1\" >0.000000</td>\n",
       "            </tr>\n",
       "            <tr>\n",
       "                        <th id=\"T_1f3ed_level0_row5\" class=\"row_heading level0 row5\" >eu_sales</th>\n",
       "                        <td id=\"T_1f3ed_row5_col0\" class=\"data row5 col0\" >0</td>\n",
       "                        <td id=\"T_1f3ed_row5_col1\" class=\"data row5 col1\" >0.000000</td>\n",
       "            </tr>\n",
       "            <tr>\n",
       "                        <th id=\"T_1f3ed_level0_row6\" class=\"row_heading level0 row6\" >jp_sales</th>\n",
       "                        <td id=\"T_1f3ed_row6_col0\" class=\"data row6 col0\" >0</td>\n",
       "                        <td id=\"T_1f3ed_row6_col1\" class=\"data row6 col1\" >0.000000</td>\n",
       "            </tr>\n",
       "            <tr>\n",
       "                        <th id=\"T_1f3ed_level0_row7\" class=\"row_heading level0 row7\" >other_sales</th>\n",
       "                        <td id=\"T_1f3ed_row7_col0\" class=\"data row7 col0\" >0</td>\n",
       "                        <td id=\"T_1f3ed_row7_col1\" class=\"data row7 col1\" >0.000000</td>\n",
       "            </tr>\n",
       "            <tr>\n",
       "                        <th id=\"T_1f3ed_level0_row8\" class=\"row_heading level0 row8\" >critic_score</th>\n",
       "                        <td id=\"T_1f3ed_row8_col0\" class=\"data row8 col0\" >8578</td>\n",
       "                        <td id=\"T_1f3ed_row8_col1\" class=\"data row8 col1\" >51.325316</td>\n",
       "            </tr>\n",
       "            <tr>\n",
       "                        <th id=\"T_1f3ed_level0_row9\" class=\"row_heading level0 row9\" >user_score</th>\n",
       "                        <td id=\"T_1f3ed_row9_col0\" class=\"data row9 col0\" >6701</td>\n",
       "                        <td id=\"T_1f3ed_row9_col1\" class=\"data row9 col1\" >40.094537</td>\n",
       "            </tr>\n",
       "            <tr>\n",
       "                        <th id=\"T_1f3ed_level0_row10\" class=\"row_heading level0 row10\" >rating</th>\n",
       "                        <td id=\"T_1f3ed_row10_col0\" class=\"data row10 col0\" >6766</td>\n",
       "                        <td id=\"T_1f3ed_row10_col1\" class=\"data row10 col1\" >40.483456</td>\n",
       "            </tr>\n",
       "    </tbody></table>"
      ],
      "text/plain": [
       "<pandas.io.formats.style.Styler at 0x1c15fcf8a00>"
      ]
     },
     "execution_count": 15,
     "metadata": {},
     "output_type": "execute_result"
    }
   ],
   "source": [
    "pd.concat([data.isna().sum(), data.isna().mean() * 100], axis = 1)\\\n",
    ".rename(columns = {0:'nan_sum',1:'nan_percent'})\\\n",
    ".style.background_gradient('coolwarm')"
   ]
  },
  {
   "cell_type": "markdown",
   "id": "1b58831e",
   "metadata": {},
   "source": [
    "Довольно много пропущенных значений в рейтинге и оценках. Посмотрим отдельно на каждое значение"
   ]
  },
  {
   "cell_type": "markdown",
   "id": "8f249546",
   "metadata": {},
   "source": [
    "#### 2.3.1 Убираем пропуски в `game_name`, `genre`"
   ]
  },
  {
   "cell_type": "code",
   "execution_count": 16,
   "id": "d6bb8c24",
   "metadata": {},
   "outputs": [
    {
     "data": {
      "text/html": [
       "<div>\n",
       "<style scoped>\n",
       "    .dataframe tbody tr th:only-of-type {\n",
       "        vertical-align: middle;\n",
       "    }\n",
       "\n",
       "    .dataframe tbody tr th {\n",
       "        vertical-align: top;\n",
       "    }\n",
       "\n",
       "    .dataframe thead th {\n",
       "        text-align: right;\n",
       "    }\n",
       "</style>\n",
       "<table border=\"1\" class=\"dataframe\">\n",
       "  <thead>\n",
       "    <tr style=\"text-align: right;\">\n",
       "      <th></th>\n",
       "      <th>game_name</th>\n",
       "      <th>platform</th>\n",
       "      <th>year_of_release</th>\n",
       "      <th>genre</th>\n",
       "      <th>na_sales</th>\n",
       "      <th>eu_sales</th>\n",
       "      <th>jp_sales</th>\n",
       "      <th>other_sales</th>\n",
       "      <th>critic_score</th>\n",
       "      <th>user_score</th>\n",
       "      <th>rating</th>\n",
       "    </tr>\n",
       "  </thead>\n",
       "  <tbody>\n",
       "    <tr>\n",
       "      <th>659</th>\n",
       "      <td>NaN</td>\n",
       "      <td>GEN</td>\n",
       "      <td>1993.0</td>\n",
       "      <td>NaN</td>\n",
       "      <td>1.78</td>\n",
       "      <td>0.53</td>\n",
       "      <td>0.00</td>\n",
       "      <td>0.08</td>\n",
       "      <td>NaN</td>\n",
       "      <td>NaN</td>\n",
       "      <td>NaN</td>\n",
       "    </tr>\n",
       "    <tr>\n",
       "      <th>14243</th>\n",
       "      <td>NaN</td>\n",
       "      <td>GEN</td>\n",
       "      <td>1993.0</td>\n",
       "      <td>NaN</td>\n",
       "      <td>0.00</td>\n",
       "      <td>0.00</td>\n",
       "      <td>0.03</td>\n",
       "      <td>0.00</td>\n",
       "      <td>NaN</td>\n",
       "      <td>NaN</td>\n",
       "      <td>NaN</td>\n",
       "    </tr>\n",
       "  </tbody>\n",
       "</table>\n",
       "</div>"
      ],
      "text/plain": [
       "      game_name platform  year_of_release genre  na_sales  eu_sales  jp_sales  \\\n",
       "659         NaN      GEN           1993.0   NaN      1.78      0.53      0.00   \n",
       "14243       NaN      GEN           1993.0   NaN      0.00      0.00      0.03   \n",
       "\n",
       "       other_sales  critic_score user_score rating  \n",
       "659           0.08           NaN        NaN    NaN  \n",
       "14243         0.00           NaN        NaN    NaN  "
      ]
     },
     "execution_count": 16,
     "metadata": {},
     "output_type": "execute_result"
    }
   ],
   "source": [
    "data[data['game_name'].isna()]"
   ]
  },
  {
   "cell_type": "markdown",
   "id": "2d7d9db8",
   "metadata": {},
   "source": [
    "1993 год, один из лидеров продаж. Вряд ли игры с датой выхода 1993 приносят много выручки и являются критичными для планирования стратегии продаж. Смело ставим заглушку\n",
    "\n",
    "Замечаем, что 2 пропуска из жанра по таблице выше находятся под теми же самыми индексами. Ставим ту же заглушку туда."
   ]
  },
  {
   "cell_type": "code",
   "execution_count": 17,
   "id": "8d8ea600",
   "metadata": {},
   "outputs": [],
   "source": [
    "data[['game_name','genre']] = data[['game_name', 'genre']].fillna('Unknown')"
   ]
  },
  {
   "cell_type": "code",
   "execution_count": 18,
   "id": "d47cb717",
   "metadata": {},
   "outputs": [
    {
     "data": {
      "text/html": [
       "<div>\n",
       "<style scoped>\n",
       "    .dataframe tbody tr th:only-of-type {\n",
       "        vertical-align: middle;\n",
       "    }\n",
       "\n",
       "    .dataframe tbody tr th {\n",
       "        vertical-align: top;\n",
       "    }\n",
       "\n",
       "    .dataframe thead th {\n",
       "        text-align: right;\n",
       "    }\n",
       "</style>\n",
       "<table border=\"1\" class=\"dataframe\">\n",
       "  <thead>\n",
       "    <tr style=\"text-align: right;\">\n",
       "      <th></th>\n",
       "      <th>game_name</th>\n",
       "      <th>platform</th>\n",
       "      <th>year_of_release</th>\n",
       "      <th>genre</th>\n",
       "      <th>na_sales</th>\n",
       "      <th>eu_sales</th>\n",
       "      <th>jp_sales</th>\n",
       "      <th>other_sales</th>\n",
       "      <th>critic_score</th>\n",
       "      <th>user_score</th>\n",
       "      <th>rating</th>\n",
       "    </tr>\n",
       "  </thead>\n",
       "  <tbody>\n",
       "    <tr>\n",
       "      <th>659</th>\n",
       "      <td>Unknown</td>\n",
       "      <td>GEN</td>\n",
       "      <td>1993.0</td>\n",
       "      <td>Unknown</td>\n",
       "      <td>1.78</td>\n",
       "      <td>0.53</td>\n",
       "      <td>0.00</td>\n",
       "      <td>0.08</td>\n",
       "      <td>NaN</td>\n",
       "      <td>NaN</td>\n",
       "      <td>NaN</td>\n",
       "    </tr>\n",
       "    <tr>\n",
       "      <th>14243</th>\n",
       "      <td>Unknown</td>\n",
       "      <td>GEN</td>\n",
       "      <td>1993.0</td>\n",
       "      <td>Unknown</td>\n",
       "      <td>0.00</td>\n",
       "      <td>0.00</td>\n",
       "      <td>0.03</td>\n",
       "      <td>0.00</td>\n",
       "      <td>NaN</td>\n",
       "      <td>NaN</td>\n",
       "      <td>NaN</td>\n",
       "    </tr>\n",
       "  </tbody>\n",
       "</table>\n",
       "</div>"
      ],
      "text/plain": [
       "      game_name platform  year_of_release    genre  na_sales  eu_sales  \\\n",
       "659     Unknown      GEN           1993.0  Unknown      1.78      0.53   \n",
       "14243   Unknown      GEN           1993.0  Unknown      0.00      0.00   \n",
       "\n",
       "       jp_sales  other_sales  critic_score user_score rating  \n",
       "659        0.00         0.08           NaN        NaN    NaN  \n",
       "14243      0.03         0.00           NaN        NaN    NaN  "
      ]
     },
     "execution_count": 18,
     "metadata": {},
     "output_type": "execute_result"
    }
   ],
   "source": [
    "data[data['game_name'] == 'Unknown']"
   ]
  },
  {
   "cell_type": "markdown",
   "id": "a20e8df4",
   "metadata": {},
   "source": [
    "#### 2.3.2 Убираем пропуски в `year_of_release`"
   ]
  },
  {
   "cell_type": "markdown",
   "id": "847fada9",
   "metadata": {},
   "source": [
    "Заполнить пропуски достоверно не сможем. Минимальное значение 1980 год, максимальное - 2016. Поставим значение 1970, которое не будет мешать визуализации"
   ]
  },
  {
   "cell_type": "code",
   "execution_count": 19,
   "id": "4648416f",
   "metadata": {},
   "outputs": [],
   "source": [
    "data['year_of_release'] = data['year_of_release'].fillna(1970)"
   ]
  },
  {
   "cell_type": "markdown",
   "id": "8e890094",
   "metadata": {},
   "source": [
    "#### 2.3.3 Убираем пропуски в `critic_score`,`user_score`"
   ]
  },
  {
   "cell_type": "markdown",
   "id": "9cf0dde4",
   "metadata": {},
   "source": [
    "Многие игры выпускаются на разных платформах, но имеют на каждой из них свои рейтинги, которые могут кардинально отличаться. Ставим заглушку. \n",
    "\n",
    "Но, чтобы не полагаться на мнение, все равно проверим как эти оценки коррелируют между собой. Для этого приведем данные из столбцов `user_score`,`rating` в нужный тип"
   ]
  },
  {
   "cell_type": "code",
   "execution_count": 20,
   "id": "977d125d",
   "metadata": {},
   "outputs": [
    {
     "data": {
      "text/html": [
       "<div>\n",
       "<style scoped>\n",
       "    .dataframe tbody tr th:only-of-type {\n",
       "        vertical-align: middle;\n",
       "    }\n",
       "\n",
       "    .dataframe tbody tr th {\n",
       "        vertical-align: top;\n",
       "    }\n",
       "\n",
       "    .dataframe thead th {\n",
       "        text-align: right;\n",
       "    }\n",
       "</style>\n",
       "<table border=\"1\" class=\"dataframe\">\n",
       "  <thead>\n",
       "    <tr style=\"text-align: right;\">\n",
       "      <th></th>\n",
       "      <th>year_of_release</th>\n",
       "      <th>na_sales</th>\n",
       "      <th>eu_sales</th>\n",
       "      <th>jp_sales</th>\n",
       "      <th>other_sales</th>\n",
       "      <th>critic_score</th>\n",
       "    </tr>\n",
       "  </thead>\n",
       "  <tbody>\n",
       "    <tr>\n",
       "      <th>year_of_release</th>\n",
       "      <td>1.000000</td>\n",
       "      <td>-0.068406</td>\n",
       "      <td>0.011847</td>\n",
       "      <td>-0.118790</td>\n",
       "      <td>0.036135</td>\n",
       "      <td>0.016474</td>\n",
       "    </tr>\n",
       "    <tr>\n",
       "      <th>na_sales</th>\n",
       "      <td>-0.068406</td>\n",
       "      <td>1.000000</td>\n",
       "      <td>0.765358</td>\n",
       "      <td>0.449589</td>\n",
       "      <td>0.638646</td>\n",
       "      <td>0.240784</td>\n",
       "    </tr>\n",
       "    <tr>\n",
       "      <th>eu_sales</th>\n",
       "      <td>0.011847</td>\n",
       "      <td>0.765358</td>\n",
       "      <td>1.000000</td>\n",
       "      <td>0.435060</td>\n",
       "      <td>0.722987</td>\n",
       "      <td>0.220779</td>\n",
       "    </tr>\n",
       "    <tr>\n",
       "      <th>jp_sales</th>\n",
       "      <td>-0.118790</td>\n",
       "      <td>0.449589</td>\n",
       "      <td>0.435060</td>\n",
       "      <td>1.000000</td>\n",
       "      <td>0.291083</td>\n",
       "      <td>0.152614</td>\n",
       "    </tr>\n",
       "    <tr>\n",
       "      <th>other_sales</th>\n",
       "      <td>0.036135</td>\n",
       "      <td>0.638646</td>\n",
       "      <td>0.722987</td>\n",
       "      <td>0.291083</td>\n",
       "      <td>1.000000</td>\n",
       "      <td>0.198580</td>\n",
       "    </tr>\n",
       "    <tr>\n",
       "      <th>critic_score</th>\n",
       "      <td>0.016474</td>\n",
       "      <td>0.240784</td>\n",
       "      <td>0.220779</td>\n",
       "      <td>0.152614</td>\n",
       "      <td>0.198580</td>\n",
       "      <td>1.000000</td>\n",
       "    </tr>\n",
       "  </tbody>\n",
       "</table>\n",
       "</div>"
      ],
      "text/plain": [
       "                 year_of_release  na_sales  eu_sales  jp_sales  other_sales  \\\n",
       "year_of_release         1.000000 -0.068406  0.011847 -0.118790     0.036135   \n",
       "na_sales               -0.068406  1.000000  0.765358  0.449589     0.638646   \n",
       "eu_sales                0.011847  0.765358  1.000000  0.435060     0.722987   \n",
       "jp_sales               -0.118790  0.449589  0.435060  1.000000     0.291083   \n",
       "other_sales             0.036135  0.638646  0.722987  0.291083     1.000000   \n",
       "critic_score            0.016474  0.240784  0.220779  0.152614     0.198580   \n",
       "\n",
       "                 critic_score  \n",
       "year_of_release      0.016474  \n",
       "na_sales             0.240784  \n",
       "eu_sales             0.220779  \n",
       "jp_sales             0.152614  \n",
       "other_sales          0.198580  \n",
       "critic_score         1.000000  "
      ]
     },
     "execution_count": 20,
     "metadata": {},
     "output_type": "execute_result"
    }
   ],
   "source": [
    "data.corr()"
   ]
  },
  {
   "cell_type": "code",
   "execution_count": 21,
   "id": "f8ad90be",
   "metadata": {},
   "outputs": [
    {
     "data": {
      "text/plain": [
       "array(['8', nan, '8.3', '8.5', '6.6', '8.4', '8.6', '7.7', '6.3', '7.4',\n",
       "       '8.2', '9', '7.9', '8.1', '8.7', '7.1', '3.4', '5.3', '4.8', '3.2',\n",
       "       '8.9', '6.4', '7.8', '7.5', '2.6', '7.2', '9.2', '7', '7.3', '4.3',\n",
       "       '7.6', '5.7', '5', '9.1', '6.5', 'tbd', '8.8', '6.9', '9.4', '6.8',\n",
       "       '6.1', '6.7', '5.4', '4', '4.9', '4.5', '9.3', '6.2', '4.2', '6',\n",
       "       '3.7', '4.1', '5.8', '5.6', '5.5', '4.4', '4.6', '5.9', '3.9',\n",
       "       '3.1', '2.9', '5.2', '3.3', '4.7', '5.1', '3.5', '2.5', '1.9', '3',\n",
       "       '2.7', '2.2', '2', '9.5', '2.1', '3.6', '2.8', '1.8', '3.8', '0',\n",
       "       '1.6', '9.6', '2.4', '1.7', '1.1', '0.3', '1.5', '0.7', '1.2',\n",
       "       '2.3', '0.5', '1.3', '0.2', '0.6', '1.4', '0.9', '1', '9.7'],\n",
       "      dtype=object)"
      ]
     },
     "execution_count": 21,
     "metadata": {},
     "output_type": "execute_result"
    }
   ],
   "source": [
    "data['user_score'].unique()"
   ]
  },
  {
   "cell_type": "markdown",
   "id": "aa237b16",
   "metadata": {},
   "source": [
    "Значение `tbd` обозначает, что игра имет мало отзывов и ее рейтинг не определен. Заменим пока что на NaN"
   ]
  },
  {
   "cell_type": "code",
   "execution_count": 22,
   "id": "4593bcd0",
   "metadata": {},
   "outputs": [],
   "source": [
    "data.loc[data['user_score'] == 'tbd','user_score'] = float('nan')\n",
    "data['user_score'] = data['user_score'].astype('float')"
   ]
  },
  {
   "cell_type": "markdown",
   "id": "2aae4052",
   "metadata": {},
   "source": [
    "Проверим корреляцию. Заодно посмотрим на диаграмму рассеяния."
   ]
  },
  {
   "cell_type": "code",
   "execution_count": 23,
   "id": "d29802f5",
   "metadata": {},
   "outputs": [
    {
     "name": "stdout",
     "output_type": "stream",
     "text": [
      "0.5808724601570316\n"
     ]
    },
    {
     "data": {
      "image/png": "[encoded data removed]",
      "text/plain": [
       "<Figure size 1080x288 with 1 Axes>"
      ]
     },
     "metadata": {},
     "output_type": "display_data"
    }
   ],
   "source": [
    "print(data['critic_score'].corr(data['user_score']))\n",
    "data.plot(\n",
    "    x = 'user_score', \n",
    "    y = 'critic_score', \n",
    "    kind = 'scatter', \n",
    "    title = 'Зависимость оценки критиков от оценки пользователей', alpha = 0.3,\n",
    "    figsize = (15,4)\n",
    ")\n",
    "plt.show()"
   ]
  },
  {
   "cell_type": "markdown",
   "id": "03b6852d",
   "metadata": {},
   "source": [
    "Корреляция прямая, но сильной зависимости нет. Ставим заглушки в обоих столбцах. Пусть будет `-1` чтобы ни с чем не спутать."
   ]
  },
  {
   "cell_type": "code",
   "execution_count": 24,
   "id": "28faf483",
   "metadata": {},
   "outputs": [],
   "source": [
    "data[['user_score', 'critic_score']] = data[['user_score', 'critic_score']].fillna(-1)"
   ]
  },
  {
   "cell_type": "markdown",
   "id": "edafd3dd",
   "metadata": {},
   "source": [
    "#### 2.3.3 Убираем пропуски в `rating`"
   ]
  },
  {
   "cell_type": "markdown",
   "id": "315c2c8c",
   "metadata": {},
   "source": [
    "Общая идея заполнения пропусков в `rating`:\n",
    "\n",
    "Игры в датафрейме зачастую выпускаются на нескольких плптформах. При этом, на одной платформе рейтинг может быть определен, а на другой - нет. Соответственно, мы можем выделить такие игры в отдельный словарь и по его значениям заполнить все пропуски\n",
    "\n",
    "С другой стороны, игры на разных платформах могут отличаться друг от друга. Поэтому, для начала нам стоит посмотреть на количество таких игр в нашем датафрейме."
   ]
  },
  {
   "cell_type": "code",
   "execution_count": 25,
   "id": "d40b7acc",
   "metadata": {},
   "outputs": [],
   "source": [
    "data['rating'] = data['rating'].fillna('undefined')"
   ]
  },
  {
   "cell_type": "code",
   "execution_count": 26,
   "id": "ceb91df2",
   "metadata": {},
   "outputs": [
    {
     "data": {
      "text/html": [
       "<div>\n",
       "<style scoped>\n",
       "    .dataframe tbody tr th:only-of-type {\n",
       "        vertical-align: middle;\n",
       "    }\n",
       "\n",
       "    .dataframe tbody tr th {\n",
       "        vertical-align: top;\n",
       "    }\n",
       "\n",
       "    .dataframe thead th {\n",
       "        text-align: right;\n",
       "    }\n",
       "</style>\n",
       "<table border=\"1\" class=\"dataframe\">\n",
       "  <thead>\n",
       "    <tr style=\"text-align: right;\">\n",
       "      <th></th>\n",
       "      <th></th>\n",
       "      <th>critic_score</th>\n",
       "      <th>eu_sales</th>\n",
       "      <th>jp_sales</th>\n",
       "      <th>na_sales</th>\n",
       "      <th>other_sales</th>\n",
       "      <th>user_score</th>\n",
       "      <th>year_of_release</th>\n",
       "    </tr>\n",
       "    <tr>\n",
       "      <th>rating</th>\n",
       "      <th>game_name</th>\n",
       "      <th></th>\n",
       "      <th></th>\n",
       "      <th></th>\n",
       "      <th></th>\n",
       "      <th></th>\n",
       "      <th></th>\n",
       "      <th></th>\n",
       "    </tr>\n",
       "  </thead>\n",
       "  <tbody>\n",
       "    <tr>\n",
       "      <th>E</th>\n",
       "      <th>Astro Boy: The Video Game</th>\n",
       "      <td>34.000000</td>\n",
       "      <td>0.000000</td>\n",
       "      <td>0.0</td>\n",
       "      <td>0.090000</td>\n",
       "      <td>0.010000</td>\n",
       "      <td>-1.000000</td>\n",
       "      <td>2009.0</td>\n",
       "    </tr>\n",
       "    <tr>\n",
       "      <th>E10+</th>\n",
       "      <th>Astro Boy: The Video Game</th>\n",
       "      <td>54.666667</td>\n",
       "      <td>0.013333</td>\n",
       "      <td>0.0</td>\n",
       "      <td>0.063333</td>\n",
       "      <td>0.006667</td>\n",
       "      <td>2.500000</td>\n",
       "      <td>2009.0</td>\n",
       "    </tr>\n",
       "    <tr>\n",
       "      <th>E</th>\n",
       "      <th>Avatar: The Last Airbender</th>\n",
       "      <td>64.000000</td>\n",
       "      <td>0.010000</td>\n",
       "      <td>0.0</td>\n",
       "      <td>0.300000</td>\n",
       "      <td>0.030000</td>\n",
       "      <td>6.400000</td>\n",
       "      <td>2006.0</td>\n",
       "    </tr>\n",
       "    <tr>\n",
       "      <th>E10+</th>\n",
       "      <th>Avatar: The Last Airbender</th>\n",
       "      <td>57.666667</td>\n",
       "      <td>0.040000</td>\n",
       "      <td>0.0</td>\n",
       "      <td>0.240000</td>\n",
       "      <td>0.013333</td>\n",
       "      <td>6.200000</td>\n",
       "      <td>2006.0</td>\n",
       "    </tr>\n",
       "    <tr>\n",
       "      <th>E</th>\n",
       "      <th>Barnyard</th>\n",
       "      <td>56.000000</td>\n",
       "      <td>0.010000</td>\n",
       "      <td>0.0</td>\n",
       "      <td>0.030000</td>\n",
       "      <td>0.000000</td>\n",
       "      <td>-1.000000</td>\n",
       "      <td>2006.0</td>\n",
       "    </tr>\n",
       "    <tr>\n",
       "      <th>...</th>\n",
       "      <th>...</th>\n",
       "      <td>...</td>\n",
       "      <td>...</td>\n",
       "      <td>...</td>\n",
       "      <td>...</td>\n",
       "      <td>...</td>\n",
       "      <td>...</td>\n",
       "      <td>...</td>\n",
       "    </tr>\n",
       "    <tr>\n",
       "      <th rowspan=\"2\" valign=\"top\">E10+</th>\n",
       "      <th>Young Justice: Legacy</th>\n",
       "      <td>-1.000000</td>\n",
       "      <td>0.000000</td>\n",
       "      <td>0.0</td>\n",
       "      <td>0.030000</td>\n",
       "      <td>0.000000</td>\n",
       "      <td>7.100000</td>\n",
       "      <td>2013.0</td>\n",
       "    </tr>\n",
       "    <tr>\n",
       "      <th>Ys: The Ark of Napishtim</th>\n",
       "      <td>64.000000</td>\n",
       "      <td>0.000000</td>\n",
       "      <td>0.0</td>\n",
       "      <td>0.040000</td>\n",
       "      <td>0.000000</td>\n",
       "      <td>7.300000</td>\n",
       "      <td>2006.0</td>\n",
       "    </tr>\n",
       "    <tr>\n",
       "      <th>T</th>\n",
       "      <th>Ys: The Ark of Napishtim</th>\n",
       "      <td>72.000000</td>\n",
       "      <td>0.050000</td>\n",
       "      <td>0.0</td>\n",
       "      <td>0.070000</td>\n",
       "      <td>0.020000</td>\n",
       "      <td>8.800000</td>\n",
       "      <td>2005.0</td>\n",
       "    </tr>\n",
       "    <tr>\n",
       "      <th>E</th>\n",
       "      <th>de Blob 2</th>\n",
       "      <td>75.000000</td>\n",
       "      <td>0.020000</td>\n",
       "      <td>0.0</td>\n",
       "      <td>0.080000</td>\n",
       "      <td>0.010000</td>\n",
       "      <td>8.200000</td>\n",
       "      <td>2011.0</td>\n",
       "    </tr>\n",
       "    <tr>\n",
       "      <th>E10+</th>\n",
       "      <th>de Blob 2</th>\n",
       "      <td>76.666667</td>\n",
       "      <td>0.056667</td>\n",
       "      <td>0.0</td>\n",
       "      <td>0.106667</td>\n",
       "      <td>0.020000</td>\n",
       "      <td>7.566667</td>\n",
       "      <td>2011.0</td>\n",
       "    </tr>\n",
       "  </tbody>\n",
       "</table>\n",
       "<p>353 rows × 7 columns</p>\n",
       "</div>"
      ],
      "text/plain": [
       "                                   critic_score  eu_sales  jp_sales  na_sales  \\\n",
       "rating game_name                                                                \n",
       "E      Astro Boy: The Video Game      34.000000  0.000000       0.0  0.090000   \n",
       "E10+   Astro Boy: The Video Game      54.666667  0.013333       0.0  0.063333   \n",
       "E      Avatar: The Last Airbender     64.000000  0.010000       0.0  0.300000   \n",
       "E10+   Avatar: The Last Airbender     57.666667  0.040000       0.0  0.240000   \n",
       "E      Barnyard                       56.000000  0.010000       0.0  0.030000   \n",
       "...                                         ...       ...       ...       ...   \n",
       "E10+   Young Justice: Legacy          -1.000000  0.000000       0.0  0.030000   \n",
       "       Ys: The Ark of Napishtim       64.000000  0.000000       0.0  0.040000   \n",
       "T      Ys: The Ark of Napishtim       72.000000  0.050000       0.0  0.070000   \n",
       "E      de Blob 2                      75.000000  0.020000       0.0  0.080000   \n",
       "E10+   de Blob 2                      76.666667  0.056667       0.0  0.106667   \n",
       "\n",
       "                                   other_sales  user_score  year_of_release  \n",
       "rating game_name                                                             \n",
       "E      Astro Boy: The Video Game      0.010000   -1.000000           2009.0  \n",
       "E10+   Astro Boy: The Video Game      0.006667    2.500000           2009.0  \n",
       "E      Avatar: The Last Airbender     0.030000    6.400000           2006.0  \n",
       "E10+   Avatar: The Last Airbender     0.013333    6.200000           2006.0  \n",
       "E      Barnyard                       0.000000   -1.000000           2006.0  \n",
       "...                                        ...         ...              ...  \n",
       "E10+   Young Justice: Legacy          0.000000    7.100000           2013.0  \n",
       "       Ys: The Ark of Napishtim       0.000000    7.300000           2006.0  \n",
       "T      Ys: The Ark of Napishtim       0.020000    8.800000           2005.0  \n",
       "E      de Blob 2                      0.010000    8.200000           2011.0  \n",
       "E10+   de Blob 2                      0.020000    7.566667           2011.0  \n",
       "\n",
       "[353 rows x 7 columns]"
      ]
     },
     "execution_count": 26,
     "metadata": {},
     "output_type": "execute_result"
    }
   ],
   "source": [
    "data.pivot_table(index = ['rating', 'game_name']) \\\n",
    "    .query('rating != \"undefined\"') \\\n",
    "    .query('game_name.duplicated(keep = False)') \\\n",
    "    .sort_values('game_name')"
   ]
  },
  {
   "cell_type": "markdown",
   "id": "721f9062",
   "metadata": {},
   "source": [
    "Таким образом, видим, что игры с разным рейтингом, исключая пропуски, повторяются в сводной таблице 353 раза. То есть всего игр из датафрейма, имеющих разный рейтинг минимум в 2 раза меньше. Посмотрим, сколько всего уникальных названий игр есть в датафрейме"
   ]
  },
  {
   "cell_type": "code",
   "execution_count": 27,
   "id": "e161fc00",
   "metadata": {},
   "outputs": [
    {
     "data": {
      "text/plain": [
       "11560"
      ]
     },
     "execution_count": 27,
     "metadata": {},
     "output_type": "execute_result"
    }
   ],
   "source": [
    "len(data['game_name'].unique())"
   ]
  },
  {
   "cell_type": "code",
   "execution_count": 28,
   "id": "7cff8b5f",
   "metadata": {},
   "outputs": [
    {
     "data": {
      "text/plain": [
       "6066"
      ]
     },
     "execution_count": 28,
     "metadata": {},
     "output_type": "execute_result"
    }
   ],
   "source": [
    "len(data.query('rating != \"undefined\"')['game_name'].unique())"
   ]
  },
  {
   "cell_type": "markdown",
   "id": "648fae91",
   "metadata": {},
   "source": [
    "Из 6066 повторяющихся названий игр, не имеющих пропусков в рейтинге, имеем 353 / 2 = 176 игр, где этот рейтинг различается"
   ]
  },
  {
   "cell_type": "code",
   "execution_count": 29,
   "id": "94d65058",
   "metadata": {},
   "outputs": [
    {
     "data": {
      "text/plain": [
       "2.90141773821299"
      ]
     },
     "execution_count": 29,
     "metadata": {},
     "output_type": "execute_result"
    }
   ],
   "source": [
    "176 / 6066 * 100"
   ]
  },
  {
   "cell_type": "markdown",
   "id": "f6d420f6",
   "metadata": {},
   "source": [
    "судя по датасету, вероятность \"не попасть\" с подобной методикой проставления рейтинга всего 2,9%. Создадим словарь с ключами - названиями игр, значениями - рейтингом."
   ]
  },
  {
   "cell_type": "code",
   "execution_count": 30,
   "id": "45080f10",
   "metadata": {},
   "outputs": [
    {
     "data": {
      "text/plain": [
       "0        None\n",
       "1        None\n",
       "2        None\n",
       "3        None\n",
       "4        None\n",
       "         ... \n",
       "16708    None\n",
       "16709    None\n",
       "16710    None\n",
       "16711    None\n",
       "16712    None\n",
       "Length: 16713, dtype: object"
      ]
     },
     "execution_count": 30,
     "metadata": {},
     "output_type": "execute_result"
    }
   ],
   "source": [
    "a = {}\n",
    "def rating_determing(row):\n",
    "    if row['game_name'] not in a and row['rating'] != 'undefined':\n",
    "        a[row['game_name']] = row['rating']\n",
    "data.apply(rating_determing, axis = 1)"
   ]
  },
  {
   "cell_type": "code",
   "execution_count": 31,
   "id": "211e4dc9",
   "metadata": {
    "scrolled": true
   },
   "outputs": [
    {
     "name": "stdout",
     "output_type": "stream",
     "text": [
      "6066\n"
     ]
    },
    {
     "data": {
      "text/plain": [
       "{'Wii Sports': 'E',\n",
       " 'Mario Kart Wii': 'E',\n",
       " 'Wii Sports Resort': 'E',\n",
       " 'New Super Mario Bros.': 'E',\n",
       " 'Wii Play': 'E',\n",
       " 'New Super Mario Bros. Wii': 'E',\n",
       " 'Mario Kart DS': 'E',\n",
       " 'Wii Fit': 'E',\n",
       " 'Kinect Adventures!': 'E',\n",
       " 'Wii Fit Plus': 'E',\n",
       " 'Grand Theft Auto V': 'M',\n",
       " 'Grand Theft Auto: San Andreas': 'M',\n",
       " 'Brain Age: Train Your Brain in Minutes a Day': 'E',\n",
       " 'Grand Theft Auto: Vice City': 'M',\n",
       " 'Brain Age 2: More Training in Minutes a Day': 'E',\n",
       " 'Gran Turismo 3: A-Spec': 'E',\n",
       " 'Call of Duty: Modern Warfare 3': 'M',\n",
       " 'Call of Duty: Black Ops': 'M',\n",
       " 'Call of Duty: Black Ops II': 'M',\n",
       " 'Call of Duty: Modern Warfare 2': 'M',\n",
       " 'Grand Theft Auto III': 'M',\n",
       " 'Super Smash Bros. Brawl': 'T',\n",
       " 'Mario Kart 7': 'E',\n",
       " 'Animal Crossing: Wild World': 'E',\n",
       " 'Halo 3': 'M',\n",
       " 'Gran Turismo 4': 'E',\n",
       " 'Super Mario Galaxy': 'E',\n",
       " 'Grand Theft Auto IV': 'M',\n",
       " 'Gran Turismo': 'E',\n",
       " 'Super Mario 3D Land': 'E',\n",
       " 'Gran Turismo 5': 'E',\n",
       " 'Call of Duty: Ghosts': 'M',\n",
       " 'Just Dance 3': 'E10+',\n",
       " 'New Super Mario Bros. 2': 'E',\n",
       " 'Halo: Reach': 'M',\n",
       " 'Final Fantasy VII': 'T',\n",
       " 'Halo 4': 'M',\n",
       " 'Gran Turismo 2': 'T',\n",
       " 'Just Dance 2': 'E10+',\n",
       " 'Call of Duty 4: Modern Warfare': 'M',\n",
       " 'Animal Crossing: New Leaf': 'E',\n",
       " 'Mario Party DS': 'E',\n",
       " 'The Elder Scrolls V: Skyrim': 'M',\n",
       " 'FIFA 16': 'E',\n",
       " 'Halo 2': 'M',\n",
       " 'Wii Party': 'E',\n",
       " 'Mario Party 8': 'E',\n",
       " 'FIFA Soccer 13': 'E',\n",
       " 'Final Fantasy X': 'T',\n",
       " 'The Sims 3': 'T',\n",
       " 'Final Fantasy VIII': 'T',\n",
       " 'Pokémon Platinum Version': 'E',\n",
       " 'Grand Theft Auto: Liberty City Stories': 'M',\n",
       " 'Call of Duty: Advanced Warfare': 'M',\n",
       " 'FIFA 17': 'E',\n",
       " 'Super Mario Galaxy 2': 'E',\n",
       " 'Call of Duty: World at War': 'M',\n",
       " 'Battlefield 3': 'M',\n",
       " 'Need for Speed Underground': 'E',\n",
       " 'Just Dance': 'E10+',\n",
       " 'Fallout 4': 'M',\n",
       " 'Tekken 3': 'T',\n",
       " 'The Legend of Zelda: Twilight Princess': 'T',\n",
       " 'Crash Bandicoot 3: Warped': 'E',\n",
       " 'Mario Kart 8': 'E',\n",
       " 'Super Smash Bros. Melee': 'T',\n",
       " 'Need for Speed Underground 2': 'E',\n",
       " 'Medal of Honor: Frontline': 'T',\n",
       " 'Just Dance 4': 'E10+',\n",
       " 'Gears of War 2': 'M',\n",
       " \"Uncharted 3: Drake's Deception\": 'T',\n",
       " 'Zumba Fitness': 'E',\n",
       " 'Uncharted 2: Among Thieves': 'T',\n",
       " 'Big Brain Academy': 'E',\n",
       " 'Red Dead Redemption': 'M',\n",
       " 'FIFA 14': 'E',\n",
       " \"Assassin's Creed III\": 'M',\n",
       " 'Donkey Kong Country Returns': 'E',\n",
       " 'Halo: Combat Evolved': 'M',\n",
       " 'Pokémon Emerald Version': 'E',\n",
       " 'Kingdom Hearts': 'E',\n",
       " 'Halo 3: ODST': 'M',\n",
       " 'Super Mario Sunshine': 'E',\n",
       " 'World of Warcraft': 'T',\n",
       " 'Driver': 'T',\n",
       " 'Gears of War 3': 'M',\n",
       " 'Kinect Sports': 'E10+',\n",
       " 'Gears of War': 'M',\n",
       " 'FIFA 15': 'E',\n",
       " 'Metal Gear Solid 2: Sons of Liberty': 'M',\n",
       " 'Metal Gear Solid': 'M',\n",
       " 'Metal Gear Solid 4: Guns of the Patriots': 'M',\n",
       " 'Final Fantasy XII': 'T',\n",
       " 'The Last of Us': 'M',\n",
       " 'LittleBigPlanet': 'E',\n",
       " 'Resident Evil 2': 'M',\n",
       " 'Dragon Quest IX: Sentinels of the Starry Skies': 'E10+',\n",
       " 'Tekken 2': 'T',\n",
       " 'Destiny': 'T',\n",
       " 'LEGO Star Wars: The Complete Saga': 'E10+',\n",
       " 'Cooking Mama': 'E',\n",
       " \"Assassin's Creed II\": 'M',\n",
       " \"Assassin's Creed\": 'M',\n",
       " 'Forza Motorsport 3': 'E',\n",
       " 'Super Mario Advance': 'E',\n",
       " 'Monster Hunter Freedom Unite': 'T',\n",
       " 'Batman: Arkham City': 'T',\n",
       " 'Mario Kart: Super Circuit': 'E',\n",
       " 'Crash Bandicoot: The Wrath of Cortex': 'E',\n",
       " \"Uncharted 4: A Thief's End\": 'T',\n",
       " 'Final Fantasy XIII': 'T',\n",
       " 'Final Fantasy IX': 'T',\n",
       " 'Final Fantasy X-2': 'T',\n",
       " 'Tomb Raider II': 'T',\n",
       " 'Madden NFL 2004': 'E',\n",
       " 'New Super Mario Bros. U': 'E',\n",
       " 'Dragon Quest VIII: Journey of the Cursed King': 'T',\n",
       " 'Professor Layton and the Curious Village': 'E',\n",
       " 'Diablo III': 'M',\n",
       " 'Medal of Honor: Rising Sun': 'T',\n",
       " 'Guitar Hero II': 'T',\n",
       " 'Fable III': 'M',\n",
       " 'Resident Evil 5': 'M',\n",
       " 'The Legend of Zelda: Phantom Hourglass': 'E',\n",
       " 'FIFA Soccer 11': 'E',\n",
       " 'Resident Evil': 'M',\n",
       " 'Grand Theft Auto: Vice City Stories': 'M',\n",
       " \"Tony Hawk's Pro Skater\": 'T',\n",
       " 'Guitar Hero III: Legends of Rock': 'T',\n",
       " \"Link's Crossbow Training\": 'T',\n",
       " 'Fallout 3': 'M',\n",
       " \"Uncharted: Drake's Fortune\": 'T',\n",
       " 'Madden NFL 06': 'E',\n",
       " 'StarCraft II: Wings of Liberty': 'T',\n",
       " 'God of War III': 'M',\n",
       " 'Crash Team Racing': 'E',\n",
       " 'Driver 2': 'T',\n",
       " \"Tony Hawk's Pro Skater 2\": 'T',\n",
       " 'The Lord of the Rings: The Two Towers': 'T',\n",
       " 'Tomb Raider': 'T',\n",
       " 'Animal Crossing: City Folk': 'E',\n",
       " 'Uncharted: The Nathan Drake Collection': 'T',\n",
       " 'The Legend of Zelda: The Wind Waker': 'E',\n",
       " \"Luigi's Mansion: Dark Moon\": 'E',\n",
       " 'Forza Motorsport 4': 'E',\n",
       " 'Madden NFL 2005': 'E',\n",
       " 'Madden NFL 07': 'E',\n",
       " 'Halo 5: Guardians': 'T',\n",
       " 'Spider-Man: The Movie': 'E',\n",
       " 'Call of Duty: Infinite Warfare': 'M',\n",
       " 'God of War': 'M',\n",
       " 'Splatoon': 'E10+',\n",
       " 'Nintendo Land': 'E10+',\n",
       " \"Tony Hawk's Pro Skater 3\": 'T',\n",
       " 'Winning Eleven: Pro Evolution Soccer 2007': 'E',\n",
       " 'The Elder Scrolls IV: Oblivion': 'M',\n",
       " 'Need for Speed: Most Wanted': 'T',\n",
       " 'Michael Jackson: The Experience': 'E10+',\n",
       " 'Resistance: Fall of Man': 'M',\n",
       " 'Kingdom Hearts II': 'E10+',\n",
       " 'Super Mario 3D World': 'E',\n",
       " 'Fable II': 'M',\n",
       " 'Namco Museum': 'E',\n",
       " 'Batman: Arkham Asylum': 'T',\n",
       " 'Metal Gear Solid 3: Snake Eater': 'M',\n",
       " \"Assassin's Creed: Revelations\": 'M',\n",
       " 'Daxter': 'E10+',\n",
       " 'FIFA Soccer 06': 'E',\n",
       " 'EyeToy Play': 'E',\n",
       " 'Gran Turismo 5 Prologue': 'E',\n",
       " 'Street Fighter IV': 'T',\n",
       " 'Madden NFL 2003': 'E',\n",
       " 'Half-Life': 'M',\n",
       " 'World of Warcraft: The Burning Crusade': 'T',\n",
       " 'Battlefield 1': 'M',\n",
       " 'God of War II': 'M',\n",
       " 'World Soccer Winning Eleven 9': 'E',\n",
       " 'Fallout: New Vegas': 'M',\n",
       " 'Forza Motorsport 2': 'E',\n",
       " 'Carnival Games': 'E',\n",
       " 'Watch Dogs': 'M',\n",
       " 'Tekken Tag Tournament': 'T',\n",
       " 'Far Cry 4': 'M',\n",
       " 'Namco Museum: 50th Anniversary': 'E10+',\n",
       " 'Left 4 Dead 2': 'M',\n",
       " 'The Witcher 3: Wild Hunt': 'M',\n",
       " \"Assassin's Creed: Unity\": 'M',\n",
       " 'Batman: Arkham Knight': 'M',\n",
       " 'The Legend of Zelda: Skyward Sword': 'E10+',\n",
       " 'Professor Layton and the Diabolical Box': 'E10+',\n",
       " 'EA Sports Active': 'E',\n",
       " \"Tony Hawk's Underground\": 'T',\n",
       " 'Monster Hunter 4 Ultimate': 'T',\n",
       " 'NBA 2K16': 'E10+',\n",
       " 'Tekken 5': 'T',\n",
       " 'MotorStorm': 'T',\n",
       " 'World Soccer Winning Eleven 8 International': 'E',\n",
       " 'Sports Champions': 'E10+',\n",
       " 'Flash Focus: Vision Training in Minutes a Day': 'E',\n",
       " \"Tom Clancy's The Division\": 'M',\n",
       " 'Big Brain Academy: Wii Degree': 'E',\n",
       " 'LEGO Indiana Jones: The Original Adventures': 'E10+',\n",
       " 'The Sims: Unleashed': 'T',\n",
       " \"Harry Potter and the Sorcerer's Stone\": 'E',\n",
       " 'Super Paper Mario': 'E',\n",
       " 'Spyro: Year of the Dragon': 'E',\n",
       " \"Assassin's Creed IV: Black Flag\": 'M',\n",
       " 'FIFA Soccer 2005': 'E',\n",
       " \"Tony Hawk's Pro Skater 4\": 'T',\n",
       " 'MySims': 'E',\n",
       " 'Midnight Club 3: DUB Edition': 'E10+',\n",
       " 'SOCOM: U.S. Navy SEALs': 'M',\n",
       " 'Jak and Daxter: The Precursor Legacy': 'E',\n",
       " 'Pro Evolution Soccer 2008': 'E',\n",
       " 'Resident Evil 4': 'M',\n",
       " 'Guitar Hero: World Tour': 'T',\n",
       " 'FIFA Soccer 10': 'E',\n",
       " 'Star Wars: Battlefront': 'T',\n",
       " 'The Simpsons: Road Rage': 'T',\n",
       " \"Luigi's Mansion\": 'E',\n",
       " 'Battlefield 4': 'M',\n",
       " 'Star Wars: Battlefront II': 'T',\n",
       " 'Just Dance 2014': 'E10+',\n",
       " 'Cooking Mama 2: Dinner With Friends': 'E',\n",
       " 'The Getaway': 'M',\n",
       " 'James Bond 007: Agent Under Fire': 'T',\n",
       " 'Left 4 Dead': 'M',\n",
       " \"Assassin's Creed: Brotherhood\": 'M',\n",
       " 'FIFA Soccer 2004': 'E',\n",
       " 'Battlefield: Bad Company 2': 'M',\n",
       " 'Guitar Hero: On Tour': 'E10+',\n",
       " 'Clubhouse Games': 'E',\n",
       " 'Borderlands': 'M',\n",
       " 'Tekken 4': 'T',\n",
       " 'Grand Theft Auto 2': 'T',\n",
       " 'Metal Gear Solid V: The Phantom Pain': 'M',\n",
       " 'Spider-Man 2': 'T',\n",
       " 'FIFA Soccer 2003': 'E',\n",
       " 'LittleBigPlanet 2': 'E',\n",
       " 'Crash Bash': 'E',\n",
       " \"Assassin's Creed Syndicate\": 'M',\n",
       " 'LEGO Batman: The Videogame': 'E10+',\n",
       " 'Far Cry 3': 'M',\n",
       " 'James Bond 007: Nightfire': 'T',\n",
       " 'Star Wars Episode III: Revenge of the Sith': 'T',\n",
       " 'The Legend of Zelda: Spirit Tracks': 'E10+',\n",
       " 'Max Payne': 'M',\n",
       " 'The Lord of the Rings: The Return of the King': 'T',\n",
       " 'Gears of War: Ultimate Edition': 'M',\n",
       " 'True Crime: Streets of LA': 'M',\n",
       " 'Professor Layton and the Unwound Future': 'E10+',\n",
       " 'Wii Music': 'E',\n",
       " 'Madden NFL 16': 'E',\n",
       " 'Gran Turismo 6': 'E',\n",
       " 'Halo: The Master Chief Collection': 'M',\n",
       " 'Super Mario Maker': 'E',\n",
       " 'God of War: Chains of Olympus': 'M',\n",
       " 'Enter the Matrix': 'T',\n",
       " 'Crisis Core: Final Fantasy VII': 'T',\n",
       " 'Dance Central': 'T',\n",
       " 'L.A. Noire': 'M',\n",
       " 'Ace Combat 04: Shattered Skies': 'E',\n",
       " 'Animal Crossing': 'E',\n",
       " 'FIFA Soccer 08': 'E',\n",
       " 'Club Penguin: Elite Penguin Force': 'E',\n",
       " 'Spider-Man': 'E',\n",
       " 'Mario Party 9': 'E',\n",
       " 'Need for Speed III: Hot Pursuit': 'E',\n",
       " 'Sonic Rush': 'E',\n",
       " 'Rhythm Heaven': 'E',\n",
       " 'Personal Trainer: Cooking': 'E',\n",
       " 'The Legend of Zelda: A Link Between Worlds': 'E',\n",
       " 'Resident Evil 6': 'M',\n",
       " 'Mass Effect 2': 'M',\n",
       " 'Dragon Ball Z: Budokai': 'T',\n",
       " 'Madden NFL 2002': 'E',\n",
       " 'The Sims: Vacation': 'T',\n",
       " 'Animal Crossing: Happy Home Designer': 'E',\n",
       " 'The Sims 4': 'T',\n",
       " 'Borderlands 2': 'M',\n",
       " 'Kung Fu Panda': 'E10+',\n",
       " 'Mass Effect 3': 'M',\n",
       " 'Heavy Rain': 'M',\n",
       " 'Saints Row 2': 'M',\n",
       " \"Tom Clancy's Splinter Cell\": 'T',\n",
       " 'Killzone 2': 'M',\n",
       " 'Epic Mickey': 'E',\n",
       " 'NBA 2K13': 'E',\n",
       " 'Dragon Ball Z: Budokai Tenkaichi 3': 'T',\n",
       " 'The Sims: Livin Large': 'T',\n",
       " 'World Soccer Winning Eleven 6 International': 'E',\n",
       " 'Devil May Cry': 'M',\n",
       " 'Star Wars: The Old Republic': 'T',\n",
       " 'Middle-Earth: Shadow of Mordor': 'M',\n",
       " 'Sonic Heroes': 'E',\n",
       " 'Hitman 2: Silent Assassin': 'M',\n",
       " 'Titanfall': 'M',\n",
       " 'SOCOM II: U.S. Navy SEALs': 'M',\n",
       " 'Pac-Man Collection': 'E',\n",
       " 'inFAMOUS': 'T',\n",
       " 'Kirby Super Star Ultra': 'E',\n",
       " 'Mass Effect': 'M',\n",
       " 'Sonic Mega Collection Plus': 'E',\n",
       " 'World Soccer Winning Eleven 7 International': 'E',\n",
       " 'Sega Superstars Tennis': 'E10+',\n",
       " 'Hot Shots Golf 3': 'E',\n",
       " 'Cooking Mama: Cook Off': 'E',\n",
       " 'Call of Duty: Finest Hour': 'T',\n",
       " 'WarioWare: Smooth Moves': 'E10+',\n",
       " 'Imagine: Babyz': 'E',\n",
       " 'Madden NFL 13': 'E',\n",
       " 'The Elder Scrolls III: Morrowind': 'T',\n",
       " 'Mortal Kombat': 'M',\n",
       " 'Madden NFL 10': 'E',\n",
       " 'BioShock': 'M',\n",
       " 'Metroid Prime': 'T',\n",
       " 'Finding Nemo': 'E',\n",
       " 'Zumba Fitness 2': 'T',\n",
       " 'Medal of Honor': 'M',\n",
       " 'Imagine: Fashion Designer': 'E',\n",
       " 'inFAMOUS: Second Son': 'T',\n",
       " 'NBA Street': 'E',\n",
       " 'Jak II': 'T',\n",
       " 'Need for Speed: Hot Pursuit': 'E10+',\n",
       " \"Skylanders: Spyro's Adventure\": 'E10+',\n",
       " 'Mortal Kombat X': 'M',\n",
       " 'The Sims': 'T',\n",
       " 'Killzone 3': 'M',\n",
       " 'Star Wars: The Force Unleashed': 'T',\n",
       " \"Yoshi's Island DS\": 'E',\n",
       " 'Saints Row: The Third': 'M',\n",
       " 'Tekken 6': 'T',\n",
       " 'Sonic and the Secret Rings': 'E',\n",
       " 'The Legend of Zelda: A Link to the Past': 'E',\n",
       " 'Onimusha: Warlords': 'M',\n",
       " 'Call of Duty 3': 'T',\n",
       " 'Madden NFL 12': 'E',\n",
       " 'LEGO Star Wars II: The Original Trilogy': 'E10+',\n",
       " 'Killzone: Shadow Fall': 'M',\n",
       " 'Madden NFL 11': 'E',\n",
       " 'Burnout 3: Takedown': 'T',\n",
       " 'Mario vs. Donkey Kong: Mini-Land Mayhem!': 'E',\n",
       " 'Professor Layton and the Last Specter': 'E10+',\n",
       " 'Call Of Duty 2: Big Red One': 'T',\n",
       " 'Fable': 'M',\n",
       " 'Hannah Montana': 'E',\n",
       " 'Need for Speed: Shift': 'E',\n",
       " 'Medal of Honor Heroes': 'T',\n",
       " 'Final Fantasy XIII-2': 'T',\n",
       " 'Midnight Club: Street Racing': 'T',\n",
       " 'Skate 3': 'T',\n",
       " 'ESPN NFL 2K5': 'E',\n",
       " 'Halo Wars': 'T',\n",
       " 'NBA 2K12': 'E',\n",
       " 'Harry Potter and the Chamber of Secrets': 'E',\n",
       " 'God of War Collection': 'M',\n",
       " 'NBA Live 2005': 'E',\n",
       " 'Mario Strikers Charged': 'E10+',\n",
       " 'FIFA Soccer 09': 'E',\n",
       " 'Style Savvy': 'E',\n",
       " 'WWE SmackDown vs. RAW 2007': 'T',\n",
       " 'Madden NFL 08': 'E',\n",
       " 'Monster Hunter Freedom 2': 'T',\n",
       " 'Sonic Adventure 2 Battle': 'E',\n",
       " 'Dragon Age: Origins': 'M',\n",
       " 'Pokémon Colosseum': 'E',\n",
       " 'Madden NFL 09': 'E',\n",
       " 'Crazy Taxi': 'T',\n",
       " 'Art Academy': 'E',\n",
       " 'NBA 2K14': 'E',\n",
       " 'Skylanders Giants': 'E10+',\n",
       " 'Deca Sports': 'E',\n",
       " 'Marvel: Ultimate Alliance': 'T',\n",
       " 'Mortal Kombat: Deadly Alliance': 'M',\n",
       " 'Game Party': 'E',\n",
       " 'Bloodborne': 'M',\n",
       " 'Mario Party 4': 'E',\n",
       " 'Pure': 'E',\n",
       " 'Rock Band': 'T',\n",
       " 'Resistance 2': 'M',\n",
       " 'NBA 2K15': 'E',\n",
       " 'Final Fantasy Tactics': 'T',\n",
       " 'Midnight Club: Los Angeles': 'T',\n",
       " \"The Sims: Bustin' Out\": 'T',\n",
       " 'Riven: The Sequel to Myst': 'E',\n",
       " 'LEGO Harry Potter: Years 1-4': 'E10+',\n",
       " \"Tom Clancy's Rainbow Six: Vegas 2\": 'M',\n",
       " 'uDraw Studio': 'E',\n",
       " 'Need for Speed Carbon: Own the City': 'E10+',\n",
       " 'Dragon Ball Z: Budokai 2': 'T',\n",
       " 'pro evolution soccer 2011': 'E',\n",
       " 'ATV Offroad Fury': 'E',\n",
       " 'Need for Speed: ProStreet': 'E10+',\n",
       " 'Halo: Combat Evolved Anniversary': 'M',\n",
       " 'Theme Hospital': 'K-A',\n",
       " \"Frogger's Adventures: Temple of the Frog\": 'E',\n",
       " 'Guitar Hero': 'T',\n",
       " 'Dead Island': 'M',\n",
       " 'Half-Life 2': 'M',\n",
       " 'The Incredibles': 'T',\n",
       " \"Tony Hawk's Underground 2\": 'T',\n",
       " 'Kinect: Disneyland Adventures': 'E10+',\n",
       " 'WWE SmackDown vs Raw 2008': 'T',\n",
       " \"The Legend of Zelda: Majora's Mask 3D\": 'E10+',\n",
       " 'Resident Evil - Code: Veronica X': 'M',\n",
       " 'Kinect Sports: Season Two': 'E',\n",
       " 'My Fitness Coach': 'E',\n",
       " 'James Bond 007: Everything or Nothing': 'T',\n",
       " 'Need For Speed: High Stakes': 'E',\n",
       " 'Guild Wars 2': 'T',\n",
       " 'Paper Mario: Sticker Star': 'E',\n",
       " 'Batman: Arkham Origins': 'T',\n",
       " 'Pro Evolution Soccer 2010': 'E',\n",
       " 'Pokemon Ranger: Shadows of Almia': 'E',\n",
       " 'Kirby: Nightmare in Dream Land': 'E',\n",
       " 'Wario Land 4': 'E',\n",
       " \"Sonic's Ultimate Genesis Collection\": 'E10+',\n",
       " 'Far Cry: Primal': 'M',\n",
       " \"Onimusha 2: Samurai's Destiny\": 'M',\n",
       " 'Paper Mario: The Thousand-Year Door': 'E',\n",
       " 'God of War: Ascension': 'M',\n",
       " 'Sonic Advance': 'E',\n",
       " 'Super Monkey Ball: Banana Blitz': 'E',\n",
       " 'Just Dance Kids': 'E',\n",
       " 'New Super Luigi U': 'E',\n",
       " 'Spyro: Season of Ice': 'E',\n",
       " 'Dissidia: Final Fantasy': 'T',\n",
       " 'Madden NFL 25': 'E',\n",
       " 'Dance Dance Revolution X2': 'E10+',\n",
       " 'Prince of Persia: The Sands of Time': 'T',\n",
       " 'Monster Hunter Tri': 'T',\n",
       " 'LEGO Marvel Super Heroes': 'E10+',\n",
       " \"Tom Clancy's Rainbow Six: Siege\": 'M',\n",
       " 'Forza Motorsport 5': 'E',\n",
       " 'Rock Band 2': 'T',\n",
       " 'BioShock 2': 'M',\n",
       " 'Star Wars: Knights of the Old Republic': 'T',\n",
       " 'Madden NFL 15': 'E',\n",
       " 'Pro Evolution Soccer 2012': 'E',\n",
       " 'Saints Row': 'M',\n",
       " 'ATV Offroad Fury 2': 'E',\n",
       " 'The Sims: House Party': 'T',\n",
       " 'Scribblenauts': 'E10+',\n",
       " 'Sonic Unleashed': 'E10+',\n",
       " 'Pokemon Ranger': 'E',\n",
       " 'Skylanders SWAP Force': 'E10+',\n",
       " 'Overwatch': 'T',\n",
       " 'Hitman: Absolution': 'M',\n",
       " 'Call of Duty: Roads to Victory': 'T',\n",
       " 'Dance Dance Revolution Extreme': 'E',\n",
       " 'Final Fantasy Tactics Advance': 'E',\n",
       " 'Your Shape featuring Jenny McCarthy': 'E',\n",
       " 'Project Gotham Racing': 'E',\n",
       " 'Need for Speed: Hot Pursuit 2': 'E',\n",
       " 'Dynasty Warriors 4': 'T',\n",
       " 'Parasite Eve': 'M',\n",
       " 'Tetris DS': 'E',\n",
       " 'Battlefield: Hardline': 'M',\n",
       " \"Devil May Cry 3: Dante's Awakening\": 'M',\n",
       " 'NBA 2K11': 'E',\n",
       " 'Dying Light': 'M',\n",
       " 'Dead Rising': 'M',\n",
       " 'World of Warcraft: Cataclysm': 'T',\n",
       " 'Tetris Worlds': 'E',\n",
       " 'Final Fantasy III': 'E10+',\n",
       " 'Sim Theme Park': 'E',\n",
       " 'Mario Party 5': 'E',\n",
       " 'Portal 2': 'E10+',\n",
       " 'Mario Sports Mix': 'E',\n",
       " 'Need for Speed: Most Wanted 5-1-0': 'E10+',\n",
       " 'The Sims 2: Pets': 'E',\n",
       " 'Dance Dance Revolution: Hottest Party': 'E10+',\n",
       " 'DriveClub': 'E',\n",
       " 'UFC 2009 Undisputed': 'T',\n",
       " 'Metal Gear Solid: Peace Walker': 'T',\n",
       " 'Kingdom Hearts: Birth by Sleep': 'E10+',\n",
       " 'SoulCalibur II': 'T',\n",
       " 'Sonic Mega Collection': 'E',\n",
       " 'Need For Speed: Undercover': 'T',\n",
       " 'SOCOM: U.S. Navy SEALs: Combined Assault': 'T',\n",
       " \"Peter Jackson's King Kong: The Official Game of the Movie\": 'T',\n",
       " 'Donkey Kong Country': 'E',\n",
       " 'Dance Central 2': 'T',\n",
       " 'NBA Live 2004': 'E',\n",
       " 'Call of Duty 2': 'T',\n",
       " 'Rayman Raving Rabbids: TV Party': 'E10+',\n",
       " 'Pokémon Mystery Dungeon: Blue Rescue Team': 'E',\n",
       " 'Dark Souls': 'M',\n",
       " 'Fire Emblem: Awakening': 'T',\n",
       " 'Need for Speed: The Run': 'T',\n",
       " 'Just Dance 2015': 'E10+',\n",
       " 'Dragon Age: Inquisition': 'M',\n",
       " 'Dead Space': 'M',\n",
       " 'Mortal Kombat vs. DC Universe': 'T',\n",
       " 'TouchMaster': 'E10+',\n",
       " 'Tenchu: Stealth Assassins': 'M',\n",
       " 'Kingdom Hearts 358/2 Days': 'E10+',\n",
       " 'Need for Speed Rivals': 'E10+',\n",
       " 'Spyro: Enter the Dragonfly': 'E',\n",
       " 'Devil May Cry 2': 'M',\n",
       " 'Hot Shots Golf: Open Tee': 'E10+',\n",
       " 'Forza Horizon': 'T',\n",
       " \"Tom Clancy's Rainbow Six: Vegas\": 'M',\n",
       " 'Crash Nitro Kart': 'E',\n",
       " 'NBA Street Vol. 2': 'E',\n",
       " 'Def Jam Vendetta': 'T',\n",
       " 'Kirby Squeak Squad': 'E',\n",
       " 'Burnout Paradise': 'E10+',\n",
       " 'Who wants to be a millionaire': 'E',\n",
       " 'Scooby Doo and the Cyber Chase': 'E',\n",
       " 'Dragon Ball Z: Budokai 3': 'T',\n",
       " \"Tom Clancy's Ghost Recon\": 'M',\n",
       " 'BioShock Infinite': 'M',\n",
       " 'X-Men Legends': 'T',\n",
       " 'Destiny: The Taken King': 'T',\n",
       " 'Red Faction': 'M',\n",
       " \"The Sims: Makin' Magic\": 'T',\n",
       " 'Mario Party: Island Tour': 'E',\n",
       " 'MX Unleashed': 'E',\n",
       " 'PaRappa The Rapper': 'K-A',\n",
       " 'LittleBigPlanet 3': 'E',\n",
       " 'Star Wars Rogue Leader: Rogue Squadron II': 'T',\n",
       " 'Mario Super Sluggers': 'E',\n",
       " 'Monopoly': 'E',\n",
       " 'Game Party 2': 'E',\n",
       " 'Mortal Kombat: Deception': 'M',\n",
       " 'NBA 2K17': 'E',\n",
       " 'Toy Story Mania!': 'E',\n",
       " 'Star Fox Adventures': 'T',\n",
       " 'Dynasty Warriors 3': 'T',\n",
       " 'Shrek 2': 'E',\n",
       " 'The Legend of Dragoon': 'T',\n",
       " 'NBA Live 2002': 'E',\n",
       " 'Just Cause 3': 'M',\n",
       " 'Chrono Cross': 'T',\n",
       " 'Jak 3': 'T',\n",
       " 'Kingdom Hearts: Chain of Memories': 'E',\n",
       " 'Max Payne 3': 'M',\n",
       " 'Phineas and Ferb': 'E',\n",
       " 'NCAA Football 06': 'E',\n",
       " 'Rayman Raving Rabbids 2': 'E10+',\n",
       " 'Kirby: Triple Deluxe': 'E',\n",
       " 'Sonic Classic Collection': 'E',\n",
       " 'inFAMOUS 2': 'T',\n",
       " 'World of Warcraft: Mists of Pandaria': 'T',\n",
       " 'The Sims: Hot Date': 'T',\n",
       " \"Demon's Souls\": 'M',\n",
       " 'The Orange Box': 'M',\n",
       " 'DDRMAX2: Dance Dance Revolution': 'E',\n",
       " 'Virtua Fighter 4': 'T',\n",
       " 'Mafia III': 'M',\n",
       " 'Sly 2: Band of Thieves': 'E',\n",
       " 'Sonic Advance 2': 'E',\n",
       " 'Forza Motorsport 6': 'E',\n",
       " 'The Evil Within': 'M',\n",
       " 'Metroid Prime 3: Corruption': 'T',\n",
       " 'Midnight Club II': 'T',\n",
       " 'The Getaway: Black Monday': 'M',\n",
       " '50 Cent: Bulletproof': 'M',\n",
       " 'Dead or Alive 3': 'T',\n",
       " 'Dragon Quest Monsters: Joker': 'E10+',\n",
       " 'LEGO Star Wars III: The Clone Wars': 'E10+',\n",
       " 'The SpongeBob SquarePants Movie': 'E',\n",
       " 'Golden Sun': 'E',\n",
       " 'Def Jam: Fight for NY': 'M',\n",
       " 'State of Emergency': 'M',\n",
       " 'The Urbz: Sims in the City': 'T',\n",
       " 'Star Wars: Starfighter': 'T',\n",
       " 'Madden NFL 17': 'E',\n",
       " 'Just Cause 2': 'M',\n",
       " 'Crackdown': 'M',\n",
       " 'Wii Party U': 'E',\n",
       " 'Dance Dance Revolution X': 'E10+',\n",
       " 'Xenosaga Episode I: Der Wille zur Macht': 'T',\n",
       " 'Kinect Star Wars': 'T',\n",
       " \"Dragon's Dogma\": 'M',\n",
       " 'The Order: 1886': 'M',\n",
       " 'SSX Tricky': 'E',\n",
       " 'Knack': 'E10+',\n",
       " 'Dragon Quest VI: Realms of Revelation': 'T',\n",
       " 'Crash Bandicoot: The Huge Adventure': 'E',\n",
       " 'The Crew': 'T',\n",
       " 'Star Ocean: Till The End of Time': 'T',\n",
       " 'Dishonored': 'M',\n",
       " 'The Beatles: Rock Band': 'T',\n",
       " 'Ace Combat 5: The Unsung War': 'T',\n",
       " 'Imagine: Teacher': 'E',\n",
       " 'Deal or No Deal': 'E',\n",
       " 'NCAA Football 07': 'E',\n",
       " 'The Sims 3: Late Night Expansion Pack': 'T',\n",
       " \"No Man's Sky\": 'T',\n",
       " \"Cabela's Big Game Hunter 2010\": 'T',\n",
       " 'SOCOM 3: U.S. Navy SEALs': 'M',\n",
       " 'Dragon Ball Z: The Legacy of Goku': 'E',\n",
       " 'Personal Trainer: Math': 'E',\n",
       " 'Game Party 3': 'E',\n",
       " 'Sonic Colors': 'E',\n",
       " \"Sid Meier's Civilization V\": 'E10+',\n",
       " 'The Sims: Superstar': 'T',\n",
       " 'Metroid Fusion': 'E',\n",
       " 'We Ski': 'E',\n",
       " 'Star Wars Battlefront: Renegade Squadron': 'T',\n",
       " 'SSX 3': 'E',\n",
       " 'Madden NFL 2001': 'E',\n",
       " 'Monsters, Inc.': 'E',\n",
       " 'Spy Hunter': 'T',\n",
       " 'NCAA Football 2004': 'E',\n",
       " 'Fight Night Round 3': 'T',\n",
       " 'StarCraft II: Heart of the Swarm': 'T',\n",
       " 'SpongeBob SquarePants: Battle for Bikini Bottom': 'E',\n",
       " 'Until Dawn': 'M',\n",
       " 'Big Beach Sports': 'E',\n",
       " 'SSX': 'E',\n",
       " 'Shaun White Snowboarding: Road Trip': 'E10+',\n",
       " 'NBA Ballers': 'E',\n",
       " 'Saints Row IV': 'M',\n",
       " 'NBA Live 2003': 'E',\n",
       " 'LEGO Batman 2: DC Super Heroes': 'E10+',\n",
       " 'Dragon Ball Z: Budokai Tenkaichi': 'T',\n",
       " 'Dark Souls III': 'M',\n",
       " \"Kirby's Return to Dreamland\": 'E10+',\n",
       " 'Mario Party 6': 'E',\n",
       " 'Star Wars The Clone Wars: Lightsaber Duels': 'T',\n",
       " 'Need for Speed Carbon': 'E10+',\n",
       " 'Heavenly Sword': 'T',\n",
       " 'Army of Two': 'M',\n",
       " 'Tiger Woods PGA Tour 2003': 'E',\n",
       " 'Prince of Persia: Warrior Within': 'M',\n",
       " 'Beyond: Two Souls': 'M',\n",
       " 'Pikmin': 'E',\n",
       " 'Tiger Woods PGA Tour 2004': 'E',\n",
       " 'Ape Escape': 'E',\n",
       " 'NCAA Football 2005': 'E',\n",
       " 'Viva Pinata': 'E',\n",
       " 'Kinectimals': 'E',\n",
       " 'Kirby Air Ride': 'E',\n",
       " 'Dragon Quest IV: Chapters of the Chosen': 'E10+',\n",
       " 'NFL Street 2': 'E',\n",
       " 'Super Mario Strikers': 'E',\n",
       " 'Rage': 'M',\n",
       " 'Mario Hoops 3 on 3': 'E',\n",
       " \"SpongeBob's Atlantis SquarePantis\": 'E',\n",
       " 'Silent Hill': 'M',\n",
       " 'Disney Infinity': 'E10+',\n",
       " 'ESPN NBA 2K5': 'E',\n",
       " 'Diablo': 'M',\n",
       " 'Far Cry 2': 'M',\n",
       " 'Pokemon Battle Revolution': 'E',\n",
       " 'Kingdom Hearts 3D: Dream Drop Distance': 'E10+',\n",
       " 'Dance Dance Revolution: Hottest Party 2': 'E10+',\n",
       " 'SoulCalibur IV': 'T',\n",
       " 'Sonic Generations': 'E',\n",
       " 'Spyro 2: Season of Flame': 'E',\n",
       " 'Mario Party 10': 'E',\n",
       " 'Devil May Cry 4': 'M',\n",
       " 'Dead Rising 3': 'M',\n",
       " 'NCAA Football 2002': 'E',\n",
       " 'Gears of War: Judgment': 'M',\n",
       " 'Guitar Hero: On Tour Decades': 'E10+',\n",
       " 'Conflict: Desert Storm': 'T',\n",
       " 'Mario Party 7': 'E',\n",
       " 'Dragon Quest V: Hand of the Heavenly Bride': 'E10+',\n",
       " \"Smuggler's Run\": 'T',\n",
       " 'Carnival Games: Mini Golf': 'E',\n",
       " 'Pokemon Mystery Dungeon: Explorers of Sky': 'E',\n",
       " 'MySims Kingdom': 'E',\n",
       " 'LEGO Pirates of the Caribbean: The Video Game': 'E10+',\n",
       " 'Stuntman': 'T',\n",
       " \"Tom Clancy's Rainbow Six 3\": 'M',\n",
       " 'Spider-Man 2: Enter: Electro': 'E',\n",
       " 'Guitar Hero 5': 'T',\n",
       " 'Wolfenstein: The New Order': 'M',\n",
       " 'Mafia II': 'M',\n",
       " 'Moshi Monsters: Moshling Zoo': 'E',\n",
       " 'Dark Cloud': 'T',\n",
       " 'Warcraft III: The Frozen Throne': 'T',\n",
       " 'Active Life: Outdoor Challenge': 'E',\n",
       " \"Tom Clancy's Ghost Recon Advanced Warfighter\": 'T',\n",
       " 'MVP Baseball 2005': 'E',\n",
       " 'Uncharted: Golden Abyss': 'T',\n",
       " 'Go Vacation': 'E10+',\n",
       " 'Pro Evolution Soccer 2013': 'E',\n",
       " 'Mario Golf: Toadstool Tour': 'E',\n",
       " 'Resident Evil: The Umbrella Chronicles': 'M',\n",
       " 'The Simpsons Skateboarding': 'T',\n",
       " 'Donkey Kong Country: Tropical Freeze': 'E',\n",
       " 'Fight Night Round 4': 'T',\n",
       " 'Super Monkey Ball 2': 'E',\n",
       " 'Pac-Man World 2': 'E',\n",
       " 'Disney Fairies: Tinker Bell': 'E',\n",
       " 'Dead Space 2': 'M',\n",
       " 'The Simpsons Game': 'T',\n",
       " 'Football Manager 2012': 'E',\n",
       " 'Ni no Kuni: Wrath of the White Witch': 'E10+',\n",
       " 'Tokyo Xtreme Racer Zero': 'E',\n",
       " 'Red Faction II': 'M',\n",
       " 'Star Wars: The Force Unleashed II': 'T',\n",
       " 'Final Fantasy: Crystal Chronicles': 'T',\n",
       " 'Dead Rising 2': 'M',\n",
       " 'Dirge of Cerberus: Final Fantasy VII': 'T',\n",
       " 'Sonic Rivals 2': 'E',\n",
       " 'Bratz: Forever Diamondz': 'E',\n",
       " 'Resistance 3': 'M',\n",
       " 'Drawn To Life: SpongeBob SquarePants Edition': 'E',\n",
       " 'Disney Sing It: Pop Hits': 'E',\n",
       " '007: Quantum of Solace': 'T',\n",
       " 'Major League Baseball 2K5': 'E',\n",
       " 'Fight Night 2004': 'T',\n",
       " \"Tom Clancy's Splinter Cell: Pandora Tomorrow\": 'T',\n",
       " 'Imagine: Master Chef': 'E',\n",
       " 'Disney Princess': 'E',\n",
       " 'Call of Duty Black Ops: Declassified': 'M',\n",
       " \"Tom Clancy's Ghost Recon: Future Soldier\": 'M',\n",
       " 'Xenogears': 'T',\n",
       " 'Super Scribblenauts': 'E10+',\n",
       " 'Midway Arcade Treasures': 'T',\n",
       " 'Super Monkey Ball': 'E',\n",
       " 'Mario Superstar Baseball': 'E',\n",
       " 'Wall-E': 'E',\n",
       " 'Battlefield: Bad Company': 'T',\n",
       " 'Homefront': 'M',\n",
       " 'Onimusha 3: Demon Siege': 'M',\n",
       " 'Red Dead Revolver': 'M',\n",
       " 'Resident Evil: Outbreak': 'M',\n",
       " 'LEGO Battles: Ninjago': 'E',\n",
       " 'SingStar Pop': 'E10+',\n",
       " 'My Word Coach': 'E',\n",
       " 'Tiger Woods PGA Tour 2005': 'E',\n",
       " 'NCAA Football 2003': 'E',\n",
       " \"Frogger 2: Swampy's Revenge\": 'E',\n",
       " 'Kinect Joy Ride': 'E',\n",
       " 'Smarty Pants': 'E',\n",
       " 'Disney Princess: Magical Jewels': 'E',\n",
       " 'Classic NES Series: Super Mario Bros.': 'E',\n",
       " 'Anno 2070': 'T',\n",
       " 'Hasbro Family Game Night': 'E',\n",
       " 'Sonic Rivals': 'E',\n",
       " \"Cabela's Big Game Hunter\": 'T',\n",
       " 'SimCity (2013)': 'E10+',\n",
       " 'The Legend of Zelda: The Minish Cap': 'E',\n",
       " 'NFL Street': 'E',\n",
       " 'Tiger Woods PGA Tour 09 All-Play': 'E',\n",
       " 'Metal Gear Rising: Revengeance': 'M',\n",
       " 'Rayman Raving Rabbids': 'E',\n",
       " 'Dragon Quest Monsters: Joker 2': 'E',\n",
       " 'UFC Undisputed 2010': 'T',\n",
       " 'Medal of Honor: Warfighter': 'M',\n",
       " 'Hello Kitty Party': 'E',\n",
       " 'Twisted Metal: Black': 'M',\n",
       " 'NASCAR 2005: Chase for the Cup': 'E',\n",
       " 'LEGO Indiana Jones 2: The Adventure Continues': 'E10+',\n",
       " 'Ridge Racer': 'E',\n",
       " 'Sonic Advance 3': 'E',\n",
       " 'Colin McRae Rally 3': 'E',\n",
       " 'Forza Horizon 2': 'E10+',\n",
       " 'Dynasty Warriors 5': 'T',\n",
       " 'Injustice: Gods Among Us': 'T',\n",
       " \"Yoshi's New Island\": 'E',\n",
       " 'Ryse: Son of Rome': 'M',\n",
       " 'Rise of the Tomb Raider': 'M',\n",
       " 'Dave Mirra Freestyle BMX 2': 'T',\n",
       " 'Bakugan: Battle Brawlers': 'E',\n",
       " 'Deus Ex: Human Revolution': 'M',\n",
       " 'Final Fantasy XII: Revenant Wings': 'E10+',\n",
       " 'Star Wars Knights of the Old Republic II: The Sith Lords': 'T',\n",
       " 'The Sims 2': 'T',\n",
       " 'Ridge Racer 7': 'E',\n",
       " \"Tom Clancy's Ghost Recon 2\": 'T',\n",
       " 'Crash Bandicoot 2: N-Tranced': 'E',\n",
       " 'SingStar Abba': 'T',\n",
       " 'Dead to Rights': 'M',\n",
       " \"WWE '13\": 'T',\n",
       " 'Hasbro Family Game Night 2': 'E',\n",
       " 'Gardening Mama': 'E',\n",
       " 'MotorStorm: Pacific Rift': 'T',\n",
       " 'Samurai Warriors': 'T',\n",
       " 'Gears of War 4': 'M',\n",
       " 'Disney Princess: Enchanted Journey': 'E',\n",
       " 'Test Drive': 'T',\n",
       " 'Metroid: Other M': 'T',\n",
       " 'Crysis 2': 'M',\n",
       " 'Chrono Trigger': 'E10+',\n",
       " 'Marvel vs. Capcom 3: Fate of Two Worlds': 'T',\n",
       " 'Doom 3': 'M',\n",
       " 'F1 2010': 'E',\n",
       " 'Monster Hunter Freedom': 'T',\n",
       " 'Donkey Kong Jungle Beat': 'E10+',\n",
       " 'Lost Planet: Extreme Condition': 'T',\n",
       " 'Max Payne 2: The Fall of Max Payne': 'M',\n",
       " 'MVP Baseball 2004': 'E',\n",
       " 'Alan Wake': 'T',\n",
       " 'Metroid Prime 2: Echoes': 'T',\n",
       " 'Corvette': 'E',\n",
       " 'Grand Theft Auto: Chinatown Wars': 'M',\n",
       " 'World of Warcraft: Wrath of the Lich King': 'T',\n",
       " 'NFL 2K3': 'E',\n",
       " \"Assassin's Creed III: Liberation\": 'M',\n",
       " 'Petz Wild Animals: Dolphinz': 'E',\n",
       " 'Your Shape: Fitness Evolved': 'E',\n",
       " 'Need for Speed Underground Rivals': 'E',\n",
       " 'IHRA Drag Racing 2': 'E',\n",
       " 'Madagascar': 'E10+',\n",
       " 'Turok: Evolution': 'M',\n",
       " '[Prototype]': 'M',\n",
       " 'NBA Live 07': 'E',\n",
       " \"Yoshi's Woolly World\": 'E',\n",
       " \"SingStar '80s\": 'T',\n",
       " 'Pokemon Ranger: Guardian Signs': 'E',\n",
       " 'Pirates of the Caribbean: The Curse of the Black Pearl': 'E',\n",
       " 'Namco Museum DS': 'E',\n",
       " 'Transformers': 'T',\n",
       " \"Assassin's Creed: Rogue\": 'M',\n",
       " 'EA Playground': 'E',\n",
       " \"Gold's Gym: Cardio Workout\": 'E',\n",
       " 'The Elder Scrolls Online': 'M',\n",
       " 'Champions of Norrath': 'T',\n",
       " 'Imagine: Wedding Designer': 'E',\n",
       " 'Manhunt': 'M',\n",
       " 'Silent Hill 2': 'M',\n",
       " 'Castlevania: Symphony of the Night': 'T',\n",
       " 'Guitar Hero: Aerosmith': 'T',\n",
       " 'The LEGO Movie Videogame': 'E10+',\n",
       " 'The Sims 2: Nightlife': 'T',\n",
       " 'Dark Souls II': 'T',\n",
       " 'Kid Icarus: Uprising': 'E10+',\n",
       " 'Pokemon Mystery Dungeon: Gates to Infinity': 'E',\n",
       " 'NBA 2K9': 'E',\n",
       " 'Metal Gear Solid V: Ground Zeroes': 'M',\n",
       " 'Mystery Case Files: MillionHeir': 'E',\n",
       " '.hack//Infection Part 1': 'T',\n",
       " \"Jillian Michaels' Fitness Ultimatum 2009\": 'E',\n",
       " 'Valkyria Chronicles': 'T',\n",
       " \"WWE '12\": 'T',\n",
       " \"Sonic Adventure DX: Director's Cut\": 'E',\n",
       " 'Battle Arena Toshinden': 'T',\n",
       " 'Final Fantasy X / X-2 HD Remaster': 'T',\n",
       " 'EA Sports Active 2': 'E',\n",
       " 'Rockstar Games presents Table Tennis': 'E',\n",
       " 'Football Manager 2011': 'E',\n",
       " 'Tamagotchi Connection: Corner Shop': 'E',\n",
       " 'Tomb Raider: Underworld': 'T',\n",
       " 'LEGO Battles': 'E',\n",
       " 'NBA Live 2001': 'E',\n",
       " 'SOCOM: U.S. Navy SEALs Confrontation': 'M',\n",
       " 'Pokemon XD: Gale of Darkness': 'E',\n",
       " 'Black': 'M',\n",
       " 'LittleBigPlanet PS Vita': 'E',\n",
       " 'Pokemon Super Mystery Dungeon': 'E',\n",
       " 'RollerCoaster Tycoon 2': 'E',\n",
       " 'Lara Croft Tomb Raider: The Angel of Darkness': 'T',\n",
       " 'Ratchet: Deadlocked': 'T',\n",
       " 'Winter Sports: The Ultimate Challenge': 'E',\n",
       " \"Baldur's Gate: Dark Alliance\": 'T',\n",
       " \"Oddworld: Abe's Oddysee\": 'T',\n",
       " 'Ridge Racer V': 'E',\n",
       " 'WWE SmackDown vs. Raw 2009': 'T',\n",
       " 'LEGO Harry Potter: Years 5-7': 'E10+',\n",
       " 'FIFA Street': 'E',\n",
       " 'Frogger: The Great Quest': 'E',\n",
       " 'Ninja Gaiden': 'M',\n",
       " 'Driv3r': 'M',\n",
       " \"Assassin's Creed: Bloodlines\": 'M',\n",
       " 'LEGO The Lord of the Rings': 'E10+',\n",
       " 'Hyrule Warriors': 'T',\n",
       " 'Donkey Kong Country 2': 'E',\n",
       " 'Ben 10: Protector of Earth': 'E10+',\n",
       " '2010 FIFA World Cup South Africa': 'E',\n",
       " 'Tales of Xillia': 'T',\n",
       " 'Diddy Kong Racing DS': 'E',\n",
       " 'Mario Power Tennis': 'E',\n",
       " 'Golden Sun: The Lost Age': 'E',\n",
       " 'NBA 2K2': 'E',\n",
       " 'NASCAR Thunder 2003': 'E',\n",
       " 'Cars': 'E',\n",
       " 'Fuzion Frenzy': 'E',\n",
       " 'Final Fantasy IV': 'E10+',\n",
       " 'Super Street Fighter IV: 3D Edition': 'T',\n",
       " 'Sly Cooper and the Thievius Raccoonus': 'E',\n",
       " 'WWE 2K16': 'T',\n",
       " 'Dino Crisis 2': 'M',\n",
       " 'Naruto Shippuden: Ultimate Ninja Storm 2': 'T',\n",
       " 'Medal of Honor: Airborne': 'T',\n",
       " 'Bayonetta': 'M',\n",
       " 'Boom Blox': 'E',\n",
       " 'The Lord of the Rings: The Fellowship of the Ring': 'T',\n",
       " 'The Sims 2: Castaway': 'T',\n",
       " 'ATV Offroad Fury 3': 'E',\n",
       " 'F1 2011': 'E',\n",
       " 'Pikmin 2': 'E',\n",
       " 'NHL 2002': 'E',\n",
       " 'Captain Toad: Treasure Tracker': 'E',\n",
       " 'SpongeBob SquarePants: Revenge of the Flying Dutchman': 'E',\n",
       " 'Scarface: The World is Yours': 'M',\n",
       " 'Disney Sing It': 'E',\n",
       " 'Mario vs. Donkey Kong 2: March of the Minis': 'E',\n",
       " 'Metal Gear Solid: Portable Ops': 'M',\n",
       " 'Shenmue': 'T',\n",
       " 'One Piece: Pirate Warriors': 'T',\n",
       " 'Gun': 'M',\n",
       " 'Ty the Tasmanian Tiger': 'E',\n",
       " 'Resident Evil: Operation Raccoon City': 'M',\n",
       " \"PokéPark Wii: Pikachu's Adventure\": 'E',\n",
       " \"Cabela's Dangerous Hunts\": 'T',\n",
       " 'WWE SmackDown vs. Raw 2010': 'T',\n",
       " 'Spore': 'E10+',\n",
       " 'Mario vs. Donkey Kong': 'E',\n",
       " 'Midnight Club 3: DUB Edition Remix': 'E10+',\n",
       " \"Tom Clancy's Ghost Recon: Jungle Storm\": 'T',\n",
       " 'Bushido Blade': 'T',\n",
       " \"Mirror's Edge\": 'T',\n",
       " 'Sonic the Hedgehog': 'E10+',\n",
       " 'NASCAR Thunder 2002': 'E',\n",
       " 'Your Shape: Fitness Evolved 2012': 'E',\n",
       " 'Final Fantasy Tactics: The War of the Lions': 'T',\n",
       " 'Sniper: Ghost Warrior': 'M',\n",
       " 'Sonic Rush Adventure': 'E',\n",
       " 'Worldwide Soccer Manager 2009': 'E',\n",
       " 'Gauntlet: Dark Legacy': 'T',\n",
       " 'Medal of Honor Heroes 2': 'T',\n",
       " 'Bad Boys: Miami Takedown': 'M',\n",
       " 'Donkey Konga': 'E',\n",
       " 'Tak and the Power of Juju': 'E',\n",
       " 'WWE 2K15': 'T',\n",
       " 'Action Bass': 'E',\n",
       " 'Tenchu: Wrath of Heaven': 'M',\n",
       " 'Shadow of the Colossus': 'T',\n",
       " 'Brave Fencer Musashi': 'E',\n",
       " 'Ninja Gaiden Sigma': 'M',\n",
       " 'WWE 2K14': 'T',\n",
       " 'Pokemon Rumble Blast': 'E10+',\n",
       " 'Dance Dance Revolution Extreme 2': 'E10+',\n",
       " 'Hot Shots Golf: Out of Bounds': 'E',\n",
       " 'Red Dead Redemption: Undead Nightmare': 'M',\n",
       " 'Sunset Overdrive': 'M',\n",
       " 'Mobile Suit Gundam: Federation vs. Zeon': 'T',\n",
       " 'Naruto Shippuden: Ultimate Ninja Storm 4': 'T',\n",
       " 'MechAssault': 'T',\n",
       " 'EA Sports Active: More Workouts': 'E',\n",
       " 'Watch Dogs 2': 'M',\n",
       " \"Tom Clancy's Rainbow Six 3: Black Arrow\": 'M',\n",
       " 'Alien: Isolation': 'M',\n",
       " 'Fantasy Life': 'E10+',\n",
       " 'SingStar': 'T',\n",
       " 'The Legend of Zelda: Tri Force Heroes': 'E',\n",
       " 'Supercar Street Challenge': 'E',\n",
       " 'Rabbids Go Home': 'E10+',\n",
       " 'ModNation Racers': 'E',\n",
       " 'SOCOM: U.S. Navy SEALs Fireteam Bravo': 'M',\n",
       " 'Rocksmith': 'T',\n",
       " 'Worldwide Soccer Manager 2008': 'E',\n",
       " 'Yakuza 3': 'M',\n",
       " 'Persona 4: Golden': 'M',\n",
       " 'Crackdown 2': 'M',\n",
       " 'Dragon Age II': 'M',\n",
       " 'Counter-Strike': 'M',\n",
       " 'Guitar Hero Encore: Rocks The 80s': 'T',\n",
       " 'Fight Night Champion': 'M',\n",
       " \"Tom Clancy's Splinter Cell: Chaos Theory\": 'M',\n",
       " 'Pikmin 3': 'E10+',\n",
       " 'Dragon Ball: XenoVerse': 'T',\n",
       " 'Castlevania: Lords of Shadow': 'M',\n",
       " 'Plants vs. Zombies': 'E10+',\n",
       " 'SingStar Legends': 'T',\n",
       " 'Tales of Symphonia': 'T',\n",
       " 'LEGO City Undercover': 'E10+',\n",
       " 'GRID': 'E',\n",
       " 'Star Ocean: The Second Story': 'E',\n",
       " 'Petz Dogz 2': 'E',\n",
       " 'NCAA Football 14': 'E',\n",
       " 'Yakuza 2': 'M',\n",
       " 'Dragon Ball Z: The Legacy of Goku II': 'E',\n",
       " 'NERF N-Strike': 'E10+',\n",
       " 'NFL 2K1': 'E',\n",
       " 'Untold Legends: Brotherhood of the Blade': 'T',\n",
       " 'Project CARS': 'E',\n",
       " 'Sonic and the Black Knight': 'E10+',\n",
       " 'The Godfather': 'M',\n",
       " 'Sonic Free Riders': 'E',\n",
       " 'Star Wars: Bounty Hunter': 'T',\n",
       " 'WWE SmackDown vs. Raw 2011': 'T',\n",
       " 'NCAA Football 13': 'E',\n",
       " 'Skate 2': 'T',\n",
       " 'NASCAR Thunder 2004': 'E',\n",
       " 'Imagine: Babysitters': 'E',\n",
       " 'Namco Museum Battle Collection': 'E10+',\n",
       " \"Fisherman's Bass Club\": 'E',\n",
       " 'Empire: Total War': 'T',\n",
       " 'Virtua Fighter 5': 'T',\n",
       " \"Dante's Inferno\": 'M',\n",
       " 'Forza Horizon 3': 'E',\n",
       " 'Dragon Ball Z: Taiketsu': 'T',\n",
       " 'Star Fox: Assault': 'T',\n",
       " 'Plants vs. Zombies: Garden Warfare': 'E10+',\n",
       " 'Imagine: Fashion Designer New York': 'E',\n",
       " 'Prince of Persia': 'T',\n",
       " 'SoulCalibur III': 'T',\n",
       " 'Tiger Woods PGA Tour 10': 'E',\n",
       " 'MySims Agents': 'E',\n",
       " 'World Tour Soccer': 'E',\n",
       " 'Naruto: Ultimate Ninja Storm': 'T',\n",
       " ...}"
      ]
     },
     "metadata": {},
     "output_type": "display_data"
    }
   ],
   "source": [
    "print(len(a))\n",
    "display(a)"
   ]
  },
  {
   "cell_type": "markdown",
   "id": "5008a4d0",
   "metadata": {},
   "source": [
    "Выглядит так, что все получилось, имеем словарь, где ключ - название игры, а значение - рейтинг этой игры, который первый встречается в датафрейме. длина словаря совпадает с уникальными названиями игр, имеющих рейтинг. Теперь заполним пропуски"
   ]
  },
  {
   "cell_type": "code",
   "execution_count": 32,
   "id": "360b2297",
   "metadata": {},
   "outputs": [],
   "source": [
    "def rating_fillna(row):\n",
    "    global a\n",
    "    if row['rating'] == 'undefined' and row['game_name'] in a:\n",
    "        return a[row['game_name']]\n",
    "    elif row['rating'] != 'undefined':\n",
    "        return row['rating']\n",
    "    return 'undefined'"
   ]
  },
  {
   "cell_type": "markdown",
   "id": "cb49dd01",
   "metadata": {},
   "source": [
    "Применяем функцию и смотрим сколько пропусков заполнили"
   ]
  },
  {
   "cell_type": "code",
   "execution_count": 33,
   "id": "626b4164",
   "metadata": {},
   "outputs": [
    {
     "data": {
      "text/html": [
       "<div>\n",
       "<style scoped>\n",
       "    .dataframe tbody tr th:only-of-type {\n",
       "        vertical-align: middle;\n",
       "    }\n",
       "\n",
       "    .dataframe tbody tr th {\n",
       "        vertical-align: top;\n",
       "    }\n",
       "\n",
       "    .dataframe thead th {\n",
       "        text-align: right;\n",
       "    }\n",
       "</style>\n",
       "<table border=\"1\" class=\"dataframe\">\n",
       "  <thead>\n",
       "    <tr style=\"text-align: right;\">\n",
       "      <th></th>\n",
       "      <th>game_name</th>\n",
       "      <th>platform</th>\n",
       "      <th>year_of_release</th>\n",
       "      <th>genre</th>\n",
       "      <th>na_sales</th>\n",
       "      <th>eu_sales</th>\n",
       "      <th>jp_sales</th>\n",
       "      <th>other_sales</th>\n",
       "      <th>critic_score</th>\n",
       "      <th>user_score</th>\n",
       "      <th>rating</th>\n",
       "      <th>rating_1</th>\n",
       "    </tr>\n",
       "  </thead>\n",
       "  <tbody>\n",
       "    <tr>\n",
       "      <th>71</th>\n",
       "      <td>Donkey Kong Country</td>\n",
       "      <td>SNES</td>\n",
       "      <td>1994.0</td>\n",
       "      <td>Platform</td>\n",
       "      <td>4.36</td>\n",
       "      <td>1.71</td>\n",
       "      <td>3.00</td>\n",
       "      <td>0.23</td>\n",
       "      <td>-1.0</td>\n",
       "      <td>-1.0</td>\n",
       "      <td>undefined</td>\n",
       "      <td>E</td>\n",
       "    </tr>\n",
       "    <tr>\n",
       "      <th>225</th>\n",
       "      <td>The Last of Us</td>\n",
       "      <td>PS4</td>\n",
       "      <td>2014.0</td>\n",
       "      <td>Action</td>\n",
       "      <td>1.88</td>\n",
       "      <td>2.00</td>\n",
       "      <td>0.07</td>\n",
       "      <td>0.77</td>\n",
       "      <td>-1.0</td>\n",
       "      <td>-1.0</td>\n",
       "      <td>undefined</td>\n",
       "      <td>M</td>\n",
       "    </tr>\n",
       "    <tr>\n",
       "      <th>232</th>\n",
       "      <td>The Legend of Zelda: A Link to the Past</td>\n",
       "      <td>SNES</td>\n",
       "      <td>1991.0</td>\n",
       "      <td>Action</td>\n",
       "      <td>2.42</td>\n",
       "      <td>0.91</td>\n",
       "      <td>1.15</td>\n",
       "      <td>0.13</td>\n",
       "      <td>-1.0</td>\n",
       "      <td>-1.0</td>\n",
       "      <td>undefined</td>\n",
       "      <td>E</td>\n",
       "    </tr>\n",
       "    <tr>\n",
       "      <th>257</th>\n",
       "      <td>Sonic the Hedgehog</td>\n",
       "      <td>GEN</td>\n",
       "      <td>1991.0</td>\n",
       "      <td>Platform</td>\n",
       "      <td>3.03</td>\n",
       "      <td>0.91</td>\n",
       "      <td>0.26</td>\n",
       "      <td>0.13</td>\n",
       "      <td>-1.0</td>\n",
       "      <td>-1.0</td>\n",
       "      <td>undefined</td>\n",
       "      <td>E10+</td>\n",
       "    </tr>\n",
       "    <tr>\n",
       "      <th>279</th>\n",
       "      <td>Teenage Mutant Ninja Turtles</td>\n",
       "      <td>NES</td>\n",
       "      <td>1989.0</td>\n",
       "      <td>Action</td>\n",
       "      <td>3.38</td>\n",
       "      <td>0.44</td>\n",
       "      <td>0.31</td>\n",
       "      <td>0.04</td>\n",
       "      <td>-1.0</td>\n",
       "      <td>-1.0</td>\n",
       "      <td>undefined</td>\n",
       "      <td>E</td>\n",
       "    </tr>\n",
       "    <tr>\n",
       "      <th>...</th>\n",
       "      <td>...</td>\n",
       "      <td>...</td>\n",
       "      <td>...</td>\n",
       "      <td>...</td>\n",
       "      <td>...</td>\n",
       "      <td>...</td>\n",
       "      <td>...</td>\n",
       "      <td>...</td>\n",
       "      <td>...</td>\n",
       "      <td>...</td>\n",
       "      <td>...</td>\n",
       "      <td>...</td>\n",
       "    </tr>\n",
       "    <tr>\n",
       "      <th>16587</th>\n",
       "      <td>Bomberman</td>\n",
       "      <td>Wii</td>\n",
       "      <td>2008.0</td>\n",
       "      <td>Puzzle</td>\n",
       "      <td>0.00</td>\n",
       "      <td>0.00</td>\n",
       "      <td>0.01</td>\n",
       "      <td>0.00</td>\n",
       "      <td>-1.0</td>\n",
       "      <td>-1.0</td>\n",
       "      <td>undefined</td>\n",
       "      <td>E</td>\n",
       "    </tr>\n",
       "    <tr>\n",
       "      <th>16598</th>\n",
       "      <td>Snood 2: On Vacation</td>\n",
       "      <td>GBA</td>\n",
       "      <td>2005.0</td>\n",
       "      <td>Puzzle</td>\n",
       "      <td>0.01</td>\n",
       "      <td>0.00</td>\n",
       "      <td>0.00</td>\n",
       "      <td>0.00</td>\n",
       "      <td>-1.0</td>\n",
       "      <td>-1.0</td>\n",
       "      <td>undefined</td>\n",
       "      <td>E</td>\n",
       "    </tr>\n",
       "    <tr>\n",
       "      <th>16643</th>\n",
       "      <td>ZombiU</td>\n",
       "      <td>XOne</td>\n",
       "      <td>2016.0</td>\n",
       "      <td>Action</td>\n",
       "      <td>0.00</td>\n",
       "      <td>0.01</td>\n",
       "      <td>0.00</td>\n",
       "      <td>0.00</td>\n",
       "      <td>-1.0</td>\n",
       "      <td>-1.0</td>\n",
       "      <td>undefined</td>\n",
       "      <td>M</td>\n",
       "    </tr>\n",
       "    <tr>\n",
       "      <th>16658</th>\n",
       "      <td>Prison Architect</td>\n",
       "      <td>XOne</td>\n",
       "      <td>2016.0</td>\n",
       "      <td>Action</td>\n",
       "      <td>0.01</td>\n",
       "      <td>0.00</td>\n",
       "      <td>0.00</td>\n",
       "      <td>0.00</td>\n",
       "      <td>74.0</td>\n",
       "      <td>6.7</td>\n",
       "      <td>undefined</td>\n",
       "      <td>M</td>\n",
       "    </tr>\n",
       "    <tr>\n",
       "      <th>16688</th>\n",
       "      <td>Pony Friends 2</td>\n",
       "      <td>PC</td>\n",
       "      <td>2009.0</td>\n",
       "      <td>Simulation</td>\n",
       "      <td>0.00</td>\n",
       "      <td>0.01</td>\n",
       "      <td>0.00</td>\n",
       "      <td>0.00</td>\n",
       "      <td>-1.0</td>\n",
       "      <td>-1.0</td>\n",
       "      <td>undefined</td>\n",
       "      <td>E</td>\n",
       "    </tr>\n",
       "  </tbody>\n",
       "</table>\n",
       "<p>437 rows × 12 columns</p>\n",
       "</div>"
      ],
      "text/plain": [
       "                                     game_name platform  year_of_release  \\\n",
       "71                         Donkey Kong Country     SNES           1994.0   \n",
       "225                             The Last of Us      PS4           2014.0   \n",
       "232    The Legend of Zelda: A Link to the Past     SNES           1991.0   \n",
       "257                         Sonic the Hedgehog      GEN           1991.0   \n",
       "279               Teenage Mutant Ninja Turtles      NES           1989.0   \n",
       "...                                        ...      ...              ...   \n",
       "16587                                Bomberman      Wii           2008.0   \n",
       "16598                     Snood 2: On Vacation      GBA           2005.0   \n",
       "16643                                   ZombiU     XOne           2016.0   \n",
       "16658                         Prison Architect     XOne           2016.0   \n",
       "16688                           Pony Friends 2       PC           2009.0   \n",
       "\n",
       "            genre  na_sales  eu_sales  jp_sales  other_sales  critic_score  \\\n",
       "71       Platform      4.36      1.71      3.00         0.23          -1.0   \n",
       "225        Action      1.88      2.00      0.07         0.77          -1.0   \n",
       "232        Action      2.42      0.91      1.15         0.13          -1.0   \n",
       "257      Platform      3.03      0.91      0.26         0.13          -1.0   \n",
       "279        Action      3.38      0.44      0.31         0.04          -1.0   \n",
       "...           ...       ...       ...       ...          ...           ...   \n",
       "16587      Puzzle      0.00      0.00      0.01         0.00          -1.0   \n",
       "16598      Puzzle      0.01      0.00      0.00         0.00          -1.0   \n",
       "16643      Action      0.00      0.01      0.00         0.00          -1.0   \n",
       "16658      Action      0.01      0.00      0.00         0.00          74.0   \n",
       "16688  Simulation      0.00      0.01      0.00         0.00          -1.0   \n",
       "\n",
       "       user_score     rating rating_1  \n",
       "71           -1.0  undefined        E  \n",
       "225          -1.0  undefined        M  \n",
       "232          -1.0  undefined        E  \n",
       "257          -1.0  undefined     E10+  \n",
       "279          -1.0  undefined        E  \n",
       "...           ...        ...      ...  \n",
       "16587        -1.0  undefined        E  \n",
       "16598        -1.0  undefined        E  \n",
       "16643        -1.0  undefined        M  \n",
       "16658         6.7  undefined        M  \n",
       "16688        -1.0  undefined        E  \n",
       "\n",
       "[437 rows x 12 columns]"
      ]
     },
     "execution_count": 33,
     "metadata": {},
     "output_type": "execute_result"
    }
   ],
   "source": [
    "data['rating_1'] = data.apply(rating_fillna, axis = 1)\n",
    "data.query('rating != rating_1')"
   ]
  },
  {
   "cell_type": "markdown",
   "id": "633deba9",
   "metadata": {},
   "source": [
    "заполнили 437 пропусков. остальные значения заполнять нечем. Уберем ненужную колонку из датафрейма"
   ]
  },
  {
   "cell_type": "code",
   "execution_count": 34,
   "id": "487c3324",
   "metadata": {},
   "outputs": [],
   "source": [
    "data['rating'] = data['rating_1']\n",
    "data.drop('rating_1', axis = 1, inplace = True)"
   ]
  },
  {
   "cell_type": "markdown",
   "id": "2a057dd8",
   "metadata": {},
   "source": [
    "### 2.4 Приведение данных к нужному типу"
   ]
  },
  {
   "cell_type": "code",
   "execution_count": 35,
   "id": "c51a6a89",
   "metadata": {},
   "outputs": [
    {
     "name": "stdout",
     "output_type": "stream",
     "text": [
      "<class 'pandas.core.frame.DataFrame'>\n",
      "RangeIndex: 16713 entries, 0 to 16712\n",
      "Data columns (total 11 columns):\n",
      " #   Column           Non-Null Count  Dtype  \n",
      "---  ------           --------------  -----  \n",
      " 0   game_name        16713 non-null  object \n",
      " 1   platform         16713 non-null  object \n",
      " 2   year_of_release  16713 non-null  float64\n",
      " 3   genre            16713 non-null  object \n",
      " 4   na_sales         16713 non-null  float64\n",
      " 5   eu_sales         16713 non-null  float64\n",
      " 6   jp_sales         16713 non-null  float64\n",
      " 7   other_sales      16713 non-null  float64\n",
      " 8   critic_score     16713 non-null  float64\n",
      " 9   user_score       16713 non-null  float64\n",
      " 10  rating           16713 non-null  object \n",
      "dtypes: float64(7), object(4)\n",
      "memory usage: 1.4+ MB\n"
     ]
    }
   ],
   "source": [
    "data.info()"
   ]
  },
  {
   "cell_type": "markdown",
   "id": "06247d34",
   "metadata": {},
   "source": [
    "В предыдущих шагах почти все сделали, осталось привести `year_of_release` и `critic_score` в `int`"
   ]
  },
  {
   "cell_type": "code",
   "execution_count": 36,
   "id": "9228d966",
   "metadata": {},
   "outputs": [],
   "source": [
    "data['year_of_release'] = data['year_of_release'].astype('int')\n",
    "data['critic_score'] = data['critic_score'].astype('int')"
   ]
  },
  {
   "cell_type": "markdown",
   "id": "7683da1b",
   "metadata": {},
   "source": [
    "## 3.Исследовательский анализ"
   ]
  },
  {
   "cell_type": "markdown",
   "id": "1e192fca",
   "metadata": {},
   "source": [
    "### 3.1 Зависимость количества выпускаемых игр по годам"
   ]
  },
  {
   "cell_type": "markdown",
   "id": "067f63a3",
   "metadata": {},
   "source": [
    "построим гистограмму"
   ]
  },
  {
   "cell_type": "code",
   "execution_count": 37,
   "id": "4ae8d555",
   "metadata": {},
   "outputs": [
    {
     "data": {
      "image/png": "[encoded data removed]",
      "text/plain": [
       "<Figure size 1080x288 with 1 Axes>"
      ]
     },
     "metadata": {},
     "output_type": "display_data"
    }
   ],
   "source": [
    "data['year_of_release'].plot(kind = 'hist', figsize = (15,4), title = 'Количество выпускаемых игр по годам')\n",
    "plt.show()"
   ]
  },
  {
   "cell_type": "markdown",
   "id": "678c00fc",
   "metadata": {},
   "source": [
    "1970 - тот год, на который мы заменили все пропуски, в период с 1980 по 1990 выпускается довольно мало игр. взглянем ближе на срез"
   ]
  },
  {
   "cell_type": "code",
   "execution_count": 38,
   "id": "3d5e8331",
   "metadata": {},
   "outputs": [
    {
     "data": {
      "image/png": "[encoded data removed]",
      "text/plain": [
       "<Figure size 1080x288 with 1 Axes>"
      ]
     },
     "metadata": {},
     "output_type": "display_data"
    }
   ],
   "source": [
    "data.query('year_of_release > 1990')['year_of_release'] \\\n",
    "    .plot(bins = 26, kind = 'hist', figsize = (15,4), title = 'Количество выпускаемых игр по годам')\n",
    "plt.show()"
   ]
  },
  {
   "cell_type": "markdown",
   "id": "a9b115f1",
   "metadata": {},
   "source": [
    "С 1990 года количество выпущенных игр росло, в 2008 году достигли пика, а затем, в 2012 году испытали резкий спад и держатся на одном уровне. Вероятно, влияние оказали 2 фактора:\n",
    "- Переход пользователей на игры для смартфонов.\n",
    "- Мировой финансовый кризис 2008 года"
   ]
  },
  {
   "cell_type": "markdown",
   "id": "f18c52a6",
   "metadata": {},
   "source": [
    "Предполагаем, что нам важен период с 2012 по 2016 год."
   ]
  },
  {
   "cell_type": "markdown",
   "id": "8125fdc4",
   "metadata": {},
   "source": [
    "### 3.2 Зависимость количества продаваемых игр по платформам"
   ]
  },
  {
   "cell_type": "markdown",
   "id": "1d4aeeea",
   "metadata": {},
   "source": [
    "Суммируем все продажи"
   ]
  },
  {
   "cell_type": "code",
   "execution_count": 39,
   "id": "3904c4df",
   "metadata": {},
   "outputs": [],
   "source": [
    "data['total_sales'] = data['eu_sales'] + data['na_sales'] + data['jp_sales'] + data['other_sales']"
   ]
  },
  {
   "cell_type": "markdown",
   "id": "92a10df9",
   "metadata": {},
   "source": [
    "Посмотрим на общую картину по продажам по годам"
   ]
  },
  {
   "cell_type": "code",
   "execution_count": 40,
   "id": "f9e584fb",
   "metadata": {},
   "outputs": [
    {
     "data": {
      "image/png": "[encoded data removed]",
      "text/plain": [
       "<Figure size 1152x360 with 1 Axes>"
      ]
     },
     "metadata": {},
     "output_type": "display_data"
    }
   ],
   "source": [
    "data.pivot_table(index = 'year_of_release', values = 'total_sales', aggfunc = 'sum')\\\n",
    "    .plot(kind = 'bar', figsize = (16,5))\n",
    "plt.title('Суммарные продажи игр по году выпуска')\n",
    "plt.show()"
   ]
  },
  {
   "cell_type": "markdown",
   "id": "1b4d81b9",
   "metadata": {},
   "source": [
    "Видим похожую картину, количество продаж падает, как падает и количество выпускаемых игр\n",
    "\n",
    "Выделим платформы с наибольшими суммарными продажами"
   ]
  },
  {
   "cell_type": "code",
   "execution_count": 41,
   "id": "77b8e937",
   "metadata": {},
   "outputs": [
    {
     "data": {
      "text/html": [
       "<div>\n",
       "<style scoped>\n",
       "    .dataframe tbody tr th:only-of-type {\n",
       "        vertical-align: middle;\n",
       "    }\n",
       "\n",
       "    .dataframe tbody tr th {\n",
       "        vertical-align: top;\n",
       "    }\n",
       "\n",
       "    .dataframe thead th {\n",
       "        text-align: right;\n",
       "    }\n",
       "</style>\n",
       "<table border=\"1\" class=\"dataframe\">\n",
       "  <thead>\n",
       "    <tr style=\"text-align: right;\">\n",
       "      <th></th>\n",
       "      <th>total_sales</th>\n",
       "    </tr>\n",
       "    <tr>\n",
       "      <th>platform</th>\n",
       "      <th></th>\n",
       "    </tr>\n",
       "  </thead>\n",
       "  <tbody>\n",
       "    <tr>\n",
       "      <th>PS2</th>\n",
       "      <td>1255.77</td>\n",
       "    </tr>\n",
       "    <tr>\n",
       "      <th>X360</th>\n",
       "      <td>971.42</td>\n",
       "    </tr>\n",
       "    <tr>\n",
       "      <th>PS3</th>\n",
       "      <td>939.65</td>\n",
       "    </tr>\n",
       "    <tr>\n",
       "      <th>Wii</th>\n",
       "      <td>907.51</td>\n",
       "    </tr>\n",
       "    <tr>\n",
       "      <th>DS</th>\n",
       "      <td>806.12</td>\n",
       "    </tr>\n",
       "    <tr>\n",
       "      <th>PS</th>\n",
       "      <td>730.86</td>\n",
       "    </tr>\n",
       "    <tr>\n",
       "      <th>GBA</th>\n",
       "      <td>317.85</td>\n",
       "    </tr>\n",
       "    <tr>\n",
       "      <th>PS4</th>\n",
       "      <td>314.14</td>\n",
       "    </tr>\n",
       "    <tr>\n",
       "      <th>PSP</th>\n",
       "      <td>294.05</td>\n",
       "    </tr>\n",
       "    <tr>\n",
       "      <th>PC</th>\n",
       "      <td>259.52</td>\n",
       "    </tr>\n",
       "  </tbody>\n",
       "</table>\n",
       "</div>"
      ],
      "text/plain": [
       "          total_sales\n",
       "platform             \n",
       "PS2           1255.77\n",
       "X360           971.42\n",
       "PS3            939.65\n",
       "Wii            907.51\n",
       "DS             806.12\n",
       "PS             730.86\n",
       "GBA            317.85\n",
       "PS4            314.14\n",
       "PSP            294.05\n",
       "PC             259.52"
      ]
     },
     "execution_count": 41,
     "metadata": {},
     "output_type": "execute_result"
    }
   ],
   "source": [
    "data.pivot_table(index = 'platform', values = 'total_sales', aggfunc = 'sum')\\\n",
    "    .sort_values('total_sales', ascending = False)\\\n",
    "    .head(10)"
   ]
  },
  {
   "cell_type": "markdown",
   "id": "9a2f5217",
   "metadata": {},
   "source": [
    "PS2 по итогам всех периодом с большим отрывом обогнала конкурентов. Посмотрим на распределение 5 лучших по годам."
   ]
  },
  {
   "cell_type": "code",
   "execution_count": 42,
   "id": "a11e92a8",
   "metadata": {},
   "outputs": [
    {
     "data": {
      "image/png": "[encoded data removed]",
      "text/plain": [
       "<Figure size 1080x360 with 1 Axes>"
      ]
     },
     "metadata": {},
     "output_type": "display_data"
    },
    {
     "data": {
      "image/png": "[encoded data removed]",
      "text/plain": [
       "<Figure size 1080x360 with 1 Axes>"
      ]
     },
     "metadata": {},
     "output_type": "display_data"
    }
   ],
   "source": [
    "data.pivot_table(index = 'year_of_release', values = 'total_sales', columns = 'platform',aggfunc = 'sum')\\\n",
    "    .reset_index()\\\n",
    "    .loc[:, ['year_of_release','PS2','X360','PS3','Wii','DS', 'PS']]\\\n",
    "    .query('1993 <= year_of_release <= 2005')\\\n",
    "    .plot(kind = 'bar', x = 'year_of_release', figsize = (15,5))\n",
    "plt.title('Распределение продаж по лидерам 1993 - 2005')\n",
    "\n",
    "plt.show()\n",
    "\n",
    "data.pivot_table(index = 'year_of_release', values = 'total_sales', columns = 'platform',aggfunc = 'sum')\\\n",
    "    .reset_index()\\\n",
    "    .loc[:, ['year_of_release','PS2','X360','PS3','Wii','DS', 'PS']]\\\n",
    "    .query('2004 <= year_of_release')\\\n",
    "    .plot(kind = 'bar', x = 'year_of_release', figsize = (15,5))\n",
    "plt.title('Распределение продаж по лидерам 2004 - 2016')\n",
    "\n",
    "plt.show()"
   ]
  },
  {
   "cell_type": "markdown",
   "id": "65ab18b0",
   "metadata": {},
   "source": [
    "Посчитаем медианное значение полного цикла жизни платформы"
   ]
  },
  {
   "cell_type": "code",
   "execution_count": 43,
   "id": "651b8760",
   "metadata": {},
   "outputs": [
    {
     "data": {
      "text/plain": [
       "7.0"
      ]
     },
     "execution_count": 43,
     "metadata": {},
     "output_type": "execute_result"
    }
   ],
   "source": [
    "life_cycle = []\n",
    "for platf in data['platform'].unique():\n",
    "    max_year = data.query('platform == @platf and year_of_release > 1970')['year_of_release'].max()\n",
    "    min_year = data.query('platform == @platf and year_of_release > 1970')['year_of_release'].min()\n",
    "    life_cycle.append(max_year - min_year + 1)\n",
    "np.median(life_cycle)"
   ]
  },
  {
   "cell_type": "markdown",
   "id": "da27c789",
   "metadata": {},
   "source": [
    "**Вывод: новые консоли сменяют старые, полный цикл жизни составляет 7-10 лет (медианный 7 лет), актуальность посмотрим по распределению выходящих игр**"
   ]
  },
  {
   "cell_type": "markdown",
   "id": "ba49bd65",
   "metadata": {},
   "source": [
    "Попробуем определить, что же все - таки случилось в период с 2005 по 2012 годы. Почему резкий рост продаж сменился спадом? Да, этот период совпадал и с мировым финансовым кризисом и с популяризацией мобильных игр. Но, возможно, мы просто попали на пики жизненных циклов платформ?"
   ]
  },
  {
   "cell_type": "code",
   "execution_count": 44,
   "id": "d7931686",
   "metadata": {},
   "outputs": [
    {
     "data": {
      "text/html": [
       "<div>\n",
       "<style scoped>\n",
       "    .dataframe tbody tr th:only-of-type {\n",
       "        vertical-align: middle;\n",
       "    }\n",
       "\n",
       "    .dataframe tbody tr th {\n",
       "        vertical-align: top;\n",
       "    }\n",
       "\n",
       "    .dataframe thead th {\n",
       "        text-align: right;\n",
       "    }\n",
       "</style>\n",
       "<table border=\"1\" class=\"dataframe\">\n",
       "  <thead>\n",
       "    <tr style=\"text-align: right;\">\n",
       "      <th></th>\n",
       "      <th>total_sales</th>\n",
       "    </tr>\n",
       "    <tr>\n",
       "      <th>platform</th>\n",
       "      <th></th>\n",
       "    </tr>\n",
       "  </thead>\n",
       "  <tbody>\n",
       "    <tr>\n",
       "      <th>Wii</th>\n",
       "      <td>877.52</td>\n",
       "    </tr>\n",
       "    <tr>\n",
       "      <th>X360</th>\n",
       "      <td>824.44</td>\n",
       "    </tr>\n",
       "    <tr>\n",
       "      <th>DS</th>\n",
       "      <td>783.95</td>\n",
       "    </tr>\n",
       "    <tr>\n",
       "      <th>PS3</th>\n",
       "      <td>750.39</td>\n",
       "    </tr>\n",
       "    <tr>\n",
       "      <th>PS2</th>\n",
       "      <td>426.46</td>\n",
       "    </tr>\n",
       "    <tr>\n",
       "      <th>PSP</th>\n",
       "      <td>278.97</td>\n",
       "    </tr>\n",
       "    <tr>\n",
       "      <th>PC</th>\n",
       "      <td>128.36</td>\n",
       "    </tr>\n",
       "    <tr>\n",
       "      <th>3DS</th>\n",
       "      <td>114.56</td>\n",
       "    </tr>\n",
       "    <tr>\n",
       "      <th>XB</th>\n",
       "      <td>59.85</td>\n",
       "    </tr>\n",
       "    <tr>\n",
       "      <th>GBA</th>\n",
       "      <td>42.54</td>\n",
       "    </tr>\n",
       "  </tbody>\n",
       "</table>\n",
       "</div>"
      ],
      "text/plain": [
       "          total_sales\n",
       "platform             \n",
       "Wii            877.52\n",
       "X360           824.44\n",
       "DS             783.95\n",
       "PS3            750.39\n",
       "PS2            426.46\n",
       "PSP            278.97\n",
       "PC             128.36\n",
       "3DS            114.56\n",
       "XB              59.85\n",
       "GBA             42.54"
      ]
     },
     "execution_count": 44,
     "metadata": {},
     "output_type": "execute_result"
    }
   ],
   "source": [
    "data.query('2005 <= year_of_release <= 2012')\\\n",
    "    .pivot_table(index = 'platform', values = 'total_sales', aggfunc = 'sum')\\\n",
    "    .sort_values('total_sales', ascending = False)\\\n",
    "    .head(10)"
   ]
  },
  {
   "cell_type": "code",
   "execution_count": 45,
   "id": "bea7ed0c",
   "metadata": {},
   "outputs": [
    {
     "data": {
      "image/png": "[encoded data removed]",
      "text/plain": [
       "<Figure size 1152x360 with 1 Axes>"
      ]
     },
     "metadata": {},
     "output_type": "display_data"
    }
   ],
   "source": [
    "data.pivot_table(index = 'year_of_release', values = 'total_sales', columns = 'platform',aggfunc = 'sum')\\\n",
    "    .reset_index()\\\n",
    "    .loc[:, ['year_of_release','Wii','X360','DS','PS3','PS2', 'PSP','PC','3DS']]\\\n",
    "    .query('2005 <= year_of_release <= 2012')\\\n",
    "    .plot(kind = 'bar', x = 'year_of_release', figsize = (16,5))\n",
    "plt.title('Распределение лидеров продаж 2005 - 2012 годов')\n",
    "plt.show()"
   ]
  },
  {
   "cell_type": "markdown",
   "id": "cfcc0f68",
   "metadata": {},
   "source": [
    "**Вывод: Период 2007, 2008, 2009 годов ознаменовался пиками популярности таких платформ как Wii, X360, DS, PS3. То есть, предыдущее предположение было неверно. Мы не видим спада продаж после какого-то определенного года. Просто друг на друга наложились пики жизненных циклов платформ**"
   ]
  },
  {
   "cell_type": "markdown",
   "id": "f5183b80",
   "metadata": {},
   "source": [
    "Теперь посмотрим на срез с 2012 года"
   ]
  },
  {
   "cell_type": "code",
   "execution_count": 46,
   "id": "c7b9c9d7",
   "metadata": {},
   "outputs": [
    {
     "data": {
      "text/html": [
       "<div>\n",
       "<style scoped>\n",
       "    .dataframe tbody tr th:only-of-type {\n",
       "        vertical-align: middle;\n",
       "    }\n",
       "\n",
       "    .dataframe tbody tr th {\n",
       "        vertical-align: top;\n",
       "    }\n",
       "\n",
       "    .dataframe thead th {\n",
       "        text-align: right;\n",
       "    }\n",
       "</style>\n",
       "<table border=\"1\" class=\"dataframe\">\n",
       "  <thead>\n",
       "    <tr style=\"text-align: right;\">\n",
       "      <th></th>\n",
       "      <th>total_sales</th>\n",
       "    </tr>\n",
       "    <tr>\n",
       "      <th>platform</th>\n",
       "      <th></th>\n",
       "    </tr>\n",
       "  </thead>\n",
       "  <tbody>\n",
       "    <tr>\n",
       "      <th>PS4</th>\n",
       "      <td>314.14</td>\n",
       "    </tr>\n",
       "    <tr>\n",
       "      <th>PS3</th>\n",
       "      <td>288.79</td>\n",
       "    </tr>\n",
       "    <tr>\n",
       "      <th>X360</th>\n",
       "      <td>236.54</td>\n",
       "    </tr>\n",
       "    <tr>\n",
       "      <th>3DS</th>\n",
       "      <td>194.61</td>\n",
       "    </tr>\n",
       "    <tr>\n",
       "      <th>XOne</th>\n",
       "      <td>159.32</td>\n",
       "    </tr>\n",
       "    <tr>\n",
       "      <th>WiiU</th>\n",
       "      <td>82.19</td>\n",
       "    </tr>\n",
       "  </tbody>\n",
       "</table>\n",
       "</div>"
      ],
      "text/plain": [
       "          total_sales\n",
       "platform             \n",
       "PS4            314.14\n",
       "PS3            288.79\n",
       "X360           236.54\n",
       "3DS            194.61\n",
       "XOne           159.32\n",
       "WiiU            82.19"
      ]
     },
     "execution_count": 46,
     "metadata": {},
     "output_type": "execute_result"
    }
   ],
   "source": [
    "data.query('year_of_release >= 2012')\\\n",
    "    .pivot_table(index = 'platform', values = 'total_sales', aggfunc = 'sum')\\\n",
    "    .sort_values('total_sales', ascending = False)\\\n",
    "    .head(6)"
   ]
  },
  {
   "cell_type": "markdown",
   "id": "d09fb9f5",
   "metadata": {},
   "source": [
    "В основном, тренде уже другие платформы. Не стоит забывать, что часть продаж у нас \"съел\" 1970 год. Оценим их"
   ]
  },
  {
   "cell_type": "code",
   "execution_count": 47,
   "id": "074cb610",
   "metadata": {},
   "outputs": [
    {
     "data": {
      "text/html": [
       "<div>\n",
       "<style scoped>\n",
       "    .dataframe tbody tr th:only-of-type {\n",
       "        vertical-align: middle;\n",
       "    }\n",
       "\n",
       "    .dataframe tbody tr th {\n",
       "        vertical-align: top;\n",
       "    }\n",
       "\n",
       "    .dataframe thead th {\n",
       "        text-align: right;\n",
       "    }\n",
       "</style>\n",
       "<table border=\"1\" class=\"dataframe\">\n",
       "  <thead>\n",
       "    <tr style=\"text-align: right;\">\n",
       "      <th></th>\n",
       "      <th>total_sales</th>\n",
       "    </tr>\n",
       "    <tr>\n",
       "      <th>platform</th>\n",
       "      <th></th>\n",
       "    </tr>\n",
       "  </thead>\n",
       "  <tbody>\n",
       "    <tr>\n",
       "      <th>PS2</th>\n",
       "      <td>22.21</td>\n",
       "    </tr>\n",
       "    <tr>\n",
       "      <th>Wii</th>\n",
       "      <td>16.33</td>\n",
       "    </tr>\n",
       "    <tr>\n",
       "      <th>2600</th>\n",
       "      <td>10.50</td>\n",
       "    </tr>\n",
       "    <tr>\n",
       "      <th>X360</th>\n",
       "      <td>10.18</td>\n",
       "    </tr>\n",
       "    <tr>\n",
       "      <th>PS3</th>\n",
       "      <td>7.83</td>\n",
       "    </tr>\n",
       "  </tbody>\n",
       "</table>\n",
       "</div>"
      ],
      "text/plain": [
       "          total_sales\n",
       "platform             \n",
       "PS2             22.21\n",
       "Wii             16.33\n",
       "2600            10.50\n",
       "X360            10.18\n",
       "PS3              7.83"
      ]
     },
     "execution_count": 47,
     "metadata": {},
     "output_type": "execute_result"
    }
   ],
   "source": [
    "data.query('year_of_release == 1970')\\\n",
    "    .pivot_table(index = 'platform', values = 'total_sales', aggfunc = 'sum')\\\n",
    "    .sort_values('total_sales', ascending = False)\\\n",
    "    .head(5)"
   ]
  },
  {
   "cell_type": "markdown",
   "id": "985c8cb8",
   "metadata": {},
   "source": [
    "Пропуски в годе не сильно повлияли на интересующий срез. Визуализируем лидеров"
   ]
  },
  {
   "cell_type": "code",
   "execution_count": 48,
   "id": "bff7f3ec",
   "metadata": {
    "scrolled": false
   },
   "outputs": [
    {
     "data": {
      "image/png": "[encoded data removed]",
      "text/plain": [
       "<Figure size 1080x360 with 1 Axes>"
      ]
     },
     "metadata": {},
     "output_type": "display_data"
    }
   ],
   "source": [
    "data.pivot_table(index = 'year_of_release', values = 'total_sales', columns = 'platform',aggfunc = 'sum')\\\n",
    "    .reset_index()\\\n",
    "    .loc[:, ['year_of_release','PS4','X360','PS3','XOne','3DS', 'WiiU']]\\\n",
    "    .query('year_of_release >= 2012')\\\n",
    "    .plot(kind = 'bar', x = 'year_of_release', figsize = (15,5))\n",
    "plt.title('Распределение лидеров продаж 2012 - 2016 годов')\n",
    "plt.show()"
   ]
  },
  {
   "cell_type": "markdown",
   "id": "f775d568",
   "metadata": {},
   "source": [
    "Внимательнее посмотрим на 3DS, т.к. по предыдущим графикам не ясно когда пошли продажи."
   ]
  },
  {
   "cell_type": "code",
   "execution_count": 49,
   "id": "1e997958",
   "metadata": {},
   "outputs": [
    {
     "data": {
      "text/html": [
       "<div>\n",
       "<style scoped>\n",
       "    .dataframe tbody tr th:only-of-type {\n",
       "        vertical-align: middle;\n",
       "    }\n",
       "\n",
       "    .dataframe tbody tr th {\n",
       "        vertical-align: top;\n",
       "    }\n",
       "\n",
       "    .dataframe thead th {\n",
       "        text-align: right;\n",
       "    }\n",
       "</style>\n",
       "<table border=\"1\" class=\"dataframe\">\n",
       "  <thead>\n",
       "    <tr style=\"text-align: right;\">\n",
       "      <th></th>\n",
       "      <th>total_sales</th>\n",
       "    </tr>\n",
       "    <tr>\n",
       "      <th>year_of_release</th>\n",
       "      <th></th>\n",
       "    </tr>\n",
       "  </thead>\n",
       "  <tbody>\n",
       "    <tr>\n",
       "      <th>2011</th>\n",
       "      <td>63.20</td>\n",
       "    </tr>\n",
       "    <tr>\n",
       "      <th>2012</th>\n",
       "      <td>51.36</td>\n",
       "    </tr>\n",
       "    <tr>\n",
       "      <th>2013</th>\n",
       "      <td>56.57</td>\n",
       "    </tr>\n",
       "    <tr>\n",
       "      <th>2014</th>\n",
       "      <td>43.76</td>\n",
       "    </tr>\n",
       "    <tr>\n",
       "      <th>2015</th>\n",
       "      <td>27.78</td>\n",
       "    </tr>\n",
       "    <tr>\n",
       "      <th>2016</th>\n",
       "      <td>15.14</td>\n",
       "    </tr>\n",
       "  </tbody>\n",
       "</table>\n",
       "</div>"
      ],
      "text/plain": [
       "                 total_sales\n",
       "year_of_release             \n",
       "2011                   63.20\n",
       "2012                   51.36\n",
       "2013                   56.57\n",
       "2014                   43.76\n",
       "2015                   27.78\n",
       "2016                   15.14"
      ]
     },
     "execution_count": 49,
     "metadata": {},
     "output_type": "execute_result"
    }
   ],
   "source": [
    "data.query('platform == \"3DS\" and year_of_release > 2008')\\\n",
    "    .pivot_table(index = 'year_of_release', values = 'total_sales', aggfunc = 'sum')"
   ]
  },
  {
   "cell_type": "markdown",
   "id": "9891e28d",
   "metadata": {},
   "source": [
    "Если ранее мы видели, что платформы плавно сменяются, то выход 3DS в 2011 встретил ажиотаж, затем продажи падали."
   ]
  },
  {
   "cell_type": "markdown",
   "id": "aa536c55",
   "metadata": {},
   "source": [
    "**PS3, X360 и WiiU к 2016 явно отжили свое и в 2017 и ставку на них делать не стоит.\n",
    "XOne также имеет понижательный тренд, но эту платформу, наверное, еще рано скидывать со счетов, особенно, учитывая, что рынок падает. Стоит изучить готовящиеся релизы.**"
   ]
  },
  {
   "cell_type": "markdown",
   "id": "a4d34024",
   "metadata": {},
   "source": [
    "**Идея: а что, если нам попытаться найти \"восходящую звезду\"? Ведь в срез лидеров 2012-2016 года она явно не попала.**"
   ]
  },
  {
   "cell_type": "code",
   "execution_count": 50,
   "id": "f685a2af",
   "metadata": {},
   "outputs": [
    {
     "data": {
      "text/html": [
       "<div>\n",
       "<style scoped>\n",
       "    .dataframe tbody tr th:only-of-type {\n",
       "        vertical-align: middle;\n",
       "    }\n",
       "\n",
       "    .dataframe tbody tr th {\n",
       "        vertical-align: top;\n",
       "    }\n",
       "\n",
       "    .dataframe thead tr th {\n",
       "        text-align: left;\n",
       "    }\n",
       "\n",
       "    .dataframe thead tr:last-of-type th {\n",
       "        text-align: right;\n",
       "    }\n",
       "</style>\n",
       "<table border=\"1\" class=\"dataframe\">\n",
       "  <thead>\n",
       "    <tr>\n",
       "      <th></th>\n",
       "      <th colspan=\"2\" halign=\"left\">total_sales</th>\n",
       "    </tr>\n",
       "    <tr>\n",
       "      <th>year_of_release</th>\n",
       "      <th>2015</th>\n",
       "      <th>2016</th>\n",
       "    </tr>\n",
       "    <tr>\n",
       "      <th>platform</th>\n",
       "      <th></th>\n",
       "      <th></th>\n",
       "    </tr>\n",
       "  </thead>\n",
       "  <tbody>\n",
       "    <tr>\n",
       "      <th>3DS</th>\n",
       "      <td>27.78</td>\n",
       "      <td>15.14</td>\n",
       "    </tr>\n",
       "    <tr>\n",
       "      <th>PC</th>\n",
       "      <td>8.52</td>\n",
       "      <td>5.25</td>\n",
       "    </tr>\n",
       "    <tr>\n",
       "      <th>PS3</th>\n",
       "      <td>16.82</td>\n",
       "      <td>3.60</td>\n",
       "    </tr>\n",
       "    <tr>\n",
       "      <th>PS4</th>\n",
       "      <td>118.90</td>\n",
       "      <td>69.25</td>\n",
       "    </tr>\n",
       "    <tr>\n",
       "      <th>PSP</th>\n",
       "      <td>0.12</td>\n",
       "      <td>NaN</td>\n",
       "    </tr>\n",
       "    <tr>\n",
       "      <th>PSV</th>\n",
       "      <td>6.25</td>\n",
       "      <td>4.25</td>\n",
       "    </tr>\n",
       "    <tr>\n",
       "      <th>Wii</th>\n",
       "      <td>1.14</td>\n",
       "      <td>0.18</td>\n",
       "    </tr>\n",
       "    <tr>\n",
       "      <th>WiiU</th>\n",
       "      <td>16.35</td>\n",
       "      <td>4.60</td>\n",
       "    </tr>\n",
       "    <tr>\n",
       "      <th>X360</th>\n",
       "      <td>11.96</td>\n",
       "      <td>1.52</td>\n",
       "    </tr>\n",
       "    <tr>\n",
       "      <th>XOne</th>\n",
       "      <td>60.14</td>\n",
       "      <td>26.15</td>\n",
       "    </tr>\n",
       "  </tbody>\n",
       "</table>\n",
       "</div>"
      ],
      "text/plain": [
       "                total_sales       \n",
       "year_of_release        2015   2016\n",
       "platform                          \n",
       "3DS                   27.78  15.14\n",
       "PC                     8.52   5.25\n",
       "PS3                   16.82   3.60\n",
       "PS4                  118.90  69.25\n",
       "PSP                    0.12    NaN\n",
       "PSV                    6.25   4.25\n",
       "Wii                    1.14   0.18\n",
       "WiiU                  16.35   4.60\n",
       "X360                  11.96   1.52\n",
       "XOne                  60.14  26.15"
      ]
     },
     "execution_count": 50,
     "metadata": {},
     "output_type": "execute_result"
    }
   ],
   "source": [
    "data.query('year_of_release >= 2015')\\\n",
    "    .pivot_table(index = ['platform', 'year_of_release'], values = 'total_sales', aggfunc = 'sum')\\\n",
    "    .unstack()"
   ]
  },
  {
   "cell_type": "markdown",
   "id": "acf9438e",
   "metadata": {},
   "source": [
    "Таких платформ нет, продажи везде падают. Стоит учесть, что данные за 2016 год неполные, но тренд все равно ясен."
   ]
  },
  {
   "cell_type": "markdown",
   "id": "af027723",
   "metadata": {},
   "source": [
    "### 3.3 Определим актуальный период."
   ]
  },
  {
   "cell_type": "markdown",
   "id": "46000cbb",
   "metadata": {},
   "source": [
    "В предыдущий данных мы определили что:\n",
    "- цикл жизни одной платформы составляет 7-10 лет\n",
    "- начало цикла жизни платформы может сопровождаться как ажиотажем, так и плавным ростом с нуля\n",
    "- лидерами в последние годы являются PS4:\n",
    "    - PS4 - продажи начались в 2013 году\n",
    "    - XOne - продажи начались в 2013 году\n",
    "    - 3DS - учитывая жизненный цикл в 7-10 лет и начало продаж в 2011, отживает свое. Вероятно, что Nintendo в скором времени выпустит замену\n",
    "    \n",
    "**Вывод: текущие лидеры PS4 и XOne находятся в середине своего жизненного цикла. Цикл PS3 и X360 подошел к концу. Цикл 3DS заканчивается и компания анонсировала выход новой платформы Nintendo Switch. Учитывая предыдущие периоды, можно ожидать как ажиотажный спрос, так и плавный рост продаж. Актуальный период для исследования ограничим 2014 годом, таким образом отсечем теряющие популярность платформы, но все равно получим достаточную выборку, которая будет соответствовать последним трендам**"
   ]
  },
  {
   "cell_type": "code",
   "execution_count": 51,
   "id": "4744b4c9",
   "metadata": {},
   "outputs": [],
   "source": [
    "data_act = data.query('year_of_release >= 2014')"
   ]
  },
  {
   "cell_type": "markdown",
   "id": "dd1ed4de",
   "metadata": {},
   "source": [
    "Оценим выборку"
   ]
  },
  {
   "cell_type": "code",
   "execution_count": 52,
   "id": "20a0f1c3",
   "metadata": {},
   "outputs": [
    {
     "data": {
      "text/html": [
       "<div>\n",
       "<style scoped>\n",
       "    .dataframe tbody tr th:only-of-type {\n",
       "        vertical-align: middle;\n",
       "    }\n",
       "\n",
       "    .dataframe tbody tr th {\n",
       "        vertical-align: top;\n",
       "    }\n",
       "\n",
       "    .dataframe thead tr th {\n",
       "        text-align: left;\n",
       "    }\n",
       "\n",
       "    .dataframe thead tr:last-of-type th {\n",
       "        text-align: right;\n",
       "    }\n",
       "</style>\n",
       "<table border=\"1\" class=\"dataframe\">\n",
       "  <thead>\n",
       "    <tr>\n",
       "      <th></th>\n",
       "      <th>sum</th>\n",
       "      <th>count</th>\n",
       "    </tr>\n",
       "    <tr>\n",
       "      <th></th>\n",
       "      <th>total_sales</th>\n",
       "      <th>total_sales</th>\n",
       "    </tr>\n",
       "    <tr>\n",
       "      <th>platform</th>\n",
       "      <th></th>\n",
       "      <th></th>\n",
       "    </tr>\n",
       "  </thead>\n",
       "  <tbody>\n",
       "    <tr>\n",
       "      <th>PS4</th>\n",
       "      <td>288.15</td>\n",
       "      <td>376</td>\n",
       "    </tr>\n",
       "    <tr>\n",
       "      <th>XOne</th>\n",
       "      <td>140.36</td>\n",
       "      <td>228</td>\n",
       "    </tr>\n",
       "    <tr>\n",
       "      <th>3DS</th>\n",
       "      <td>86.68</td>\n",
       "      <td>212</td>\n",
       "    </tr>\n",
       "    <tr>\n",
       "      <th>PS3</th>\n",
       "      <td>68.18</td>\n",
       "      <td>219</td>\n",
       "    </tr>\n",
       "    <tr>\n",
       "      <th>X360</th>\n",
       "      <td>48.22</td>\n",
       "      <td>111</td>\n",
       "    </tr>\n",
       "    <tr>\n",
       "      <th>WiiU</th>\n",
       "      <td>42.98</td>\n",
       "      <td>73</td>\n",
       "    </tr>\n",
       "    <tr>\n",
       "      <th>PC</th>\n",
       "      <td>27.05</td>\n",
       "      <td>151</td>\n",
       "    </tr>\n",
       "    <tr>\n",
       "      <th>PSV</th>\n",
       "      <td>22.40</td>\n",
       "      <td>295</td>\n",
       "    </tr>\n",
       "    <tr>\n",
       "      <th>Wii</th>\n",
       "      <td>5.07</td>\n",
       "      <td>11</td>\n",
       "    </tr>\n",
       "    <tr>\n",
       "      <th>PSP</th>\n",
       "      <td>0.36</td>\n",
       "      <td>13</td>\n",
       "    </tr>\n",
       "  </tbody>\n",
       "</table>\n",
       "</div>"
      ],
      "text/plain": [
       "                 sum       count\n",
       "         total_sales total_sales\n",
       "platform                        \n",
       "PS4           288.15         376\n",
       "XOne          140.36         228\n",
       "3DS            86.68         212\n",
       "PS3            68.18         219\n",
       "X360           48.22         111\n",
       "WiiU           42.98          73\n",
       "PC             27.05         151\n",
       "PSV            22.40         295\n",
       "Wii             5.07          11\n",
       "PSP             0.36          13"
      ]
     },
     "execution_count": 52,
     "metadata": {},
     "output_type": "execute_result"
    }
   ],
   "source": [
    "data_act.pivot_table(index = 'platform', values = 'total_sales', aggfunc = ['sum', 'count'])\\\n",
    "    .sort_values(('sum','total_sales'),ascending = False)\\\n",
    "    .head(20)"
   ]
  },
  {
   "cell_type": "markdown",
   "id": "17ffcaa6",
   "metadata": {},
   "source": [
    "Выборки по PSP и Wii невелики. Будем держать это в голове"
   ]
  },
  {
   "cell_type": "markdown",
   "id": "f73c25f7",
   "metadata": {},
   "source": [
    "### 3.4 Диаграммы размаха"
   ]
  },
  {
   "cell_type": "markdown",
   "id": "e033d592",
   "metadata": {},
   "source": [
    "Построим диаграммы размаха в разбивке по платформам"
   ]
  },
  {
   "cell_type": "code",
   "execution_count": 53,
   "id": "5b29534c",
   "metadata": {},
   "outputs": [
    {
     "data": {
      "image/png": "[encoded data removed]",
      "text/plain": [
       "<Figure size 1080x360 with 1 Axes>"
      ]
     },
     "metadata": {},
     "output_type": "display_data"
    }
   ],
   "source": [
    "data_act.pivot_table(index = 'game_name', values = 'total_sales', columns = 'platform', aggfunc = 'sum')\\\n",
    "        .plot(kind = 'box', figsize = (15,5))\n",
    "plt.show()"
   ]
  },
  {
   "cell_type": "markdown",
   "id": "fd8c6bd7",
   "metadata": {},
   "source": [
    "Выбросы на данном графике характеризуют \"бестселеры\". Рассмотрим детальнее"
   ]
  },
  {
   "cell_type": "code",
   "execution_count": 54,
   "id": "0b9e59be",
   "metadata": {},
   "outputs": [
    {
     "data": {
      "image/png": "[encoded data removed]",
      "text/plain": [
       "<Figure size 1080x360 with 1 Axes>"
      ]
     },
     "metadata": {},
     "output_type": "display_data"
    }
   ],
   "source": [
    "data_act.pivot_table(index = 'game_name', values = 'total_sales', columns = 'platform', aggfunc = 'sum')\\\n",
    "        .plot(kind = 'box', figsize = (15,5), ylim = (0, 1))\n",
    "plt.show()"
   ]
  },
  {
   "cell_type": "markdown",
   "id": "d48e2753",
   "metadata": {},
   "source": [
    "Лидеры на то и лидеры, что на них в среднем игры продаются лучше.\n",
    "50% игр, продающихся на приставках PS4, имеют около 200 тысяч продаж, а значения третьего квартиля дотягивают до 600-700 тысяч загрузок. \n",
    "\n",
    "Видно, как теряет популярность PS3, игры после 2014 раскупаются хуже чем у PS4.\n",
    "\n",
    "Неожиданно хорошо смотрятся WiiU и Wii (с последней спорно, выборка невелика). Несмотря на то, что общие продажи в этих приставках довольно малы (как мы выяснили ранее), около 50% игр могут посоперничать с PS4 \n",
    "\n",
    "Похожая ситуация у X360 и XOne от Microsoft. Чуть хуже 3DS\n",
    "\n",
    "Игры на PSP b Vita продаются из рук вон плохо"
   ]
  },
  {
   "cell_type": "markdown",
   "id": "ab7b2645",
   "metadata": {},
   "source": [
    "### 3.5 Считаем корреляцию продаж на популярных платформах с отзывами критиков"
   ]
  },
  {
   "cell_type": "markdown",
   "id": "c9c0a3a5",
   "metadata": {},
   "source": [
    "#### 3.5.1 Считаем корреляцию продаж на PS4 с отзывами критиков"
   ]
  },
  {
   "cell_type": "code",
   "execution_count": 55,
   "id": "c24b8014",
   "metadata": {},
   "outputs": [
    {
     "data": {
      "image/png": "[encoded data removed]",
      "text/plain": [
       "<Figure size 1152x288 with 1 Axes>"
      ]
     },
     "metadata": {},
     "output_type": "display_data"
    }
   ],
   "source": [
    "data_act.query('platform == \"PS4\" and critic_score != -1')\\\n",
    "        .plot(kind = 'scatter', x = 'critic_score', y = 'total_sales', figsize = (16,4), alpha = 0.5)\n",
    "plt.show()"
   ]
  },
  {
   "cell_type": "code",
   "execution_count": 56,
   "id": "11f340f2",
   "metadata": {},
   "outputs": [
    {
     "data": {
      "image/png": "[encoded data removed]",
      "text/plain": [
       "<Figure size 1152x288 with 1 Axes>"
      ]
     },
     "metadata": {},
     "output_type": "display_data"
    }
   ],
   "source": [
    "data_act.query('platform == \"PS4\" and critic_score != -1')\\\n",
    "        .plot(kind = 'scatter', x = 'critic_score', y = 'total_sales', figsize = (16,4), alpha = 0.5, ylim = (-0.1,2))\n",
    "plt.show()"
   ]
  },
  {
   "cell_type": "markdown",
   "id": "4234c646",
   "metadata": {},
   "source": [
    "Видно, что почти все игры с плохими оценками (<50) имеют меньше полумиллиона скачиваний, но таких игр не очень много. Основная масса имеет значения 60+ баллов. И там довольно сильный разброс. Корреляция есть, но слабая. Подтвердим расчетами."
   ]
  },
  {
   "cell_type": "code",
   "execution_count": 57,
   "id": "50c7bbc8",
   "metadata": {},
   "outputs": [
    {
     "data": {
      "text/plain": [
       "0.40266141068104094"
      ]
     },
     "execution_count": 57,
     "metadata": {},
     "output_type": "execute_result"
    }
   ],
   "source": [
    "data_act.query('platform == \"PS4\" and critic_score != -1')['total_sales']\\\n",
    "        .corr(data_act.query('platform == \"PS4\" and critic_score != -1')['critic_score'])"
   ]
  },
  {
   "cell_type": "code",
   "execution_count": 58,
   "id": "038736cb",
   "metadata": {},
   "outputs": [
    {
     "data": {
      "text/plain": [
       "0.40266141068104094"
      ]
     },
     "execution_count": 58,
     "metadata": {},
     "output_type": "execute_result"
    }
   ],
   "source": [
    "data_act['total_sales'].corr(data_act.query('platform == \"PS4\" and critic_score != -1')['critic_score'])"
   ]
  },
  {
   "cell_type": "markdown",
   "id": "933b1482",
   "metadata": {},
   "source": [
    "И расчеты это подтверждают"
   ]
  },
  {
   "cell_type": "markdown",
   "id": "c5e0322c",
   "metadata": {},
   "source": [
    "**Вывод: оценки критиков положительно коррелируют с продажами игр на PS4, но зависимость слабая. Игры с явно плохими отзывами продаются плохо**"
   ]
  },
  {
   "cell_type": "markdown",
   "id": "84c2f5f1",
   "metadata": {},
   "source": [
    "#### 3.5.2. Считаем корреляцию продаж на XOne с отзывами критиков"
   ]
  },
  {
   "cell_type": "code",
   "execution_count": 59,
   "id": "1e8254e1",
   "metadata": {},
   "outputs": [
    {
     "data": {
      "image/png": "[encoded data removed]",
      "text/plain": [
       "<Figure size 1152x288 with 1 Axes>"
      ]
     },
     "metadata": {},
     "output_type": "display_data"
    }
   ],
   "source": [
    "data_act.query('platform == \"XOne\" and critic_score != -1')\\\n",
    "        .plot(kind = 'scatter', x = 'critic_score', y = 'total_sales', figsize = (16,4), alpha = 0.5)\n",
    "plt.show()"
   ]
  },
  {
   "cell_type": "code",
   "execution_count": 60,
   "id": "3b06eba2",
   "metadata": {},
   "outputs": [
    {
     "data": {
      "image/png": "[encoded data removed]",
      "text/plain": [
       "<Figure size 1152x288 with 1 Axes>"
      ]
     },
     "metadata": {},
     "output_type": "display_data"
    }
   ],
   "source": [
    "data_act.query('platform == \"XOne\" and critic_score != -1')\\\n",
    "        .plot(kind = 'scatter', x = 'critic_score', y = 'total_sales', figsize = (16,4), alpha = 0.5, ylim = (-0.1,2))\n",
    "plt.show()"
   ]
  },
  {
   "cell_type": "code",
   "execution_count": 61,
   "id": "9cc34647",
   "metadata": {},
   "outputs": [
    {
     "data": {
      "text/plain": [
       "0.42867694370333187"
      ]
     },
     "execution_count": 61,
     "metadata": {},
     "output_type": "execute_result"
    }
   ],
   "source": [
    "data_act['total_sales'].corr(data_act.query('platform == \"XOne\" and critic_score != -1')['critic_score'])"
   ]
  },
  {
   "cell_type": "markdown",
   "id": "3d2298da",
   "metadata": {},
   "source": [
    "Похожая картина, корреляция чуть сильнее"
   ]
  },
  {
   "cell_type": "markdown",
   "id": "8a5b98e1",
   "metadata": {},
   "source": [
    "**Вывод: оценки критиков положительно коррелируют с продажами игр на XOne, но зависимость слабая. Игры с явно плохими отзывами продаются плохо**"
   ]
  },
  {
   "cell_type": "markdown",
   "id": "a39e814f",
   "metadata": {},
   "source": [
    "#### 3.5.3. Считаем корреляцию продаж на 3DS с отзывами критиков"
   ]
  },
  {
   "cell_type": "code",
   "execution_count": 62,
   "id": "22f5289f",
   "metadata": {},
   "outputs": [
    {
     "data": {
      "image/png": "[encoded data removed]",
      "text/plain": [
       "<Figure size 1152x288 with 1 Axes>"
      ]
     },
     "metadata": {},
     "output_type": "display_data"
    }
   ],
   "source": [
    "data_act.query('platform == \"3DS\" and critic_score != -1')\\\n",
    "        .plot(kind = 'scatter', x = 'critic_score', y = 'total_sales', figsize = (16,4), alpha = 0.5)\n",
    "plt.show()"
   ]
  },
  {
   "cell_type": "markdown",
   "id": "2cbfec72",
   "metadata": {},
   "source": [
    "Сложно что-либо понять по этому распределению. Видимо, в изначальном датафрейме было много отсутствующих значений\n",
    "\n",
    "Посмотрим на все платформы вкупе"
   ]
  },
  {
   "cell_type": "code",
   "execution_count": 63,
   "id": "5c910439",
   "metadata": {},
   "outputs": [
    {
     "data": {
      "image/png": "[encoded data removed]",
      "text/plain": [
       "<Figure size 1152x288 with 1 Axes>"
      ]
     },
     "metadata": {},
     "output_type": "display_data"
    }
   ],
   "source": [
    "data_act.query('critic_score != -1')\\\n",
    "        .plot(kind = 'scatter', x = 'critic_score', y = 'total_sales', figsize = (16,4), alpha = 0.5)\n",
    "plt.show()"
   ]
  },
  {
   "cell_type": "markdown",
   "id": "e29eb8bb",
   "metadata": {},
   "source": [
    "Похожая картина с лидерами"
   ]
  },
  {
   "cell_type": "code",
   "execution_count": 64,
   "id": "0e32fb92",
   "metadata": {},
   "outputs": [
    {
     "data": {
      "text/plain": [
       "0.32810508696636315"
      ]
     },
     "execution_count": 64,
     "metadata": {},
     "output_type": "execute_result"
    }
   ],
   "source": [
    "data_act['total_sales'].corr(data_act[data_act['critic_score'] != -1]['critic_score'])"
   ]
  },
  {
   "cell_type": "markdown",
   "id": "72af435d",
   "metadata": {},
   "source": [
    "Общая корреляция слабая"
   ]
  },
  {
   "cell_type": "markdown",
   "id": "a1916633",
   "metadata": {},
   "source": [
    "**Вывод: Оценки критиков имеют слабую положительную корреляцию с продажами. Игры с оценками ниже 60 продаются плохо**"
   ]
  },
  {
   "cell_type": "markdown",
   "id": "08edb484",
   "metadata": {},
   "source": [
    "### 3.6 Смотрим распределение продаж игр по разным жанрам"
   ]
  },
  {
   "cell_type": "code",
   "execution_count": 65,
   "id": "faf21048",
   "metadata": {},
   "outputs": [
    {
     "data": {
      "image/png": "[encoded data removed]",
      "text/plain": [
       "<Figure size 1224x360 with 1 Axes>"
      ]
     },
     "metadata": {},
     "output_type": "display_data"
    }
   ],
   "source": [
    "data_act.pivot_table(index = 'game_name', values = 'total_sales', columns = 'genre', aggfunc = 'sum')\\\n",
    "        .plot(kind = 'box', figsize = (17,5))\n",
    "plt.show()"
   ]
  },
  {
   "cell_type": "markdown",
   "id": "aff91dcc",
   "metadata": {},
   "source": [
    "Выбросы снова характеризуют бестселлеры. Увеличим масштаб"
   ]
  },
  {
   "cell_type": "code",
   "execution_count": 66,
   "id": "34aed340",
   "metadata": {},
   "outputs": [
    {
     "data": {
      "image/png": "[encoded data removed]",
      "text/plain": [
       "<Figure size 1224x360 with 1 Axes>"
      ]
     },
     "metadata": {},
     "output_type": "display_data"
    }
   ],
   "source": [
    "data_act.pivot_table(index = 'game_name', values = 'total_sales', columns = 'genre', aggfunc = 'sum')\\\n",
    "        .plot(kind = 'box', figsize = (17,5), ylim = (0,5))\n",
    "plt.show()"
   ]
  },
  {
   "cell_type": "markdown",
   "id": "7489c95c",
   "metadata": {},
   "source": [
    "Очень в среднем продаются шутеры, с большим отставанием игры жанра спорт, гонки и платформеры. Стоит также обратить внимание на экшены. Хоть большинство из них продаются плохо, самые популярные приносят хорошую выручку. \n",
    "\n",
    "Нужно учитывать, что игры, как правило, не относятся к какому - то одному жанру. Но данные приписывают каждой игре только один жанр."
   ]
  },
  {
   "cell_type": "markdown",
   "id": "4d025caf",
   "metadata": {},
   "source": [
    "**Общий вывод по разделу**\n",
    "- новые консоли сменяют старые, актуальность теряется за срок в 7 - 10 лет. Медианное значение 7 лет\n",
    "- рост числа продаж игр для определенной платформы определяется ее новизной, при устаревании платформы на нее выпускается и продается меньше игр\n",
    "- стоит обратить внимание на выход новой приставки от Nintendo\n",
    "- платформы PS4 и XOne находятся в середине своего жизненного цикла, стоит также сделать акцент на них\n",
    "- оценки критиков слабо влияют на продажи игры\n",
    "- Шутеры, спорт, гонки и платформеры - самые популярные жанры. В экшенах следует внимательно отнестись к предлагаемому ассортименту. Нужно учитывать, что игры как правило не относятся к одному жанру"
   ]
  },
  {
   "cell_type": "markdown",
   "id": "dabdb790",
   "metadata": {},
   "source": [
    "## 4. Составление портретов пользователей каждого региона"
   ]
  },
  {
   "cell_type": "markdown",
   "id": "9bd20d82",
   "metadata": {},
   "source": [
    "### 4.1 По популярных платформам по регионам"
   ]
  },
  {
   "cell_type": "markdown",
   "id": "b2c855ea",
   "metadata": {},
   "source": [
    "#### 4.1.1 Северная Америка"
   ]
  },
  {
   "cell_type": "code",
   "execution_count": 67,
   "id": "2ad8d281",
   "metadata": {},
   "outputs": [
    {
     "data": {
      "image/png": "[encoded data removed]",
      "text/plain": [
       "<Figure size 1080x432 with 1 Axes>"
      ]
     },
     "metadata": {},
     "output_type": "display_data"
    }
   ],
   "source": [
    "data_act.pivot_table(index = 'platform', values = 'na_sales', aggfunc = 'sum')\\\n",
    "        .sort_values('na_sales')\\\n",
    "        .tail(5)\\\n",
    "        .plot(kind = 'bar', figsize = (15,6))\n",
    "plt.title('Суммарные продажи игр в Северной Америке по платформам')\n",
    "plt.ylabel(\"млн. копий\")\n",
    "plt.show()"
   ]
  },
  {
   "cell_type": "markdown",
   "id": "41195c49",
   "metadata": {},
   "source": [
    "**Вывод: Пользователи Северной Америки больше всего играют в приставки Microsoft, Sony, лидеры PS4 и XOne на третьем месте X360. Nintendo с единственной приставкой на четвертом месте**"
   ]
  },
  {
   "cell_type": "markdown",
   "id": "cd064311",
   "metadata": {},
   "source": [
    "#### 4.1.2 Европа"
   ]
  },
  {
   "cell_type": "code",
   "execution_count": 68,
   "id": "daee7233",
   "metadata": {},
   "outputs": [
    {
     "data": {
      "image/png": "[encoded data removed]",
      "text/plain": [
       "<Figure size 1080x432 with 1 Axes>"
      ]
     },
     "metadata": {},
     "output_type": "display_data"
    }
   ],
   "source": [
    "data_act.pivot_table(index = 'platform', values = 'eu_sales', aggfunc = 'sum')\\\n",
    "        .sort_values('eu_sales')\\\n",
    "        .tail(5)\\\n",
    "        .plot(kind = 'bar', figsize = (15,6))\n",
    "plt.title('Суммарные продажи игр в Европе по платформам')\n",
    "plt.ylabel(\"млн. копий\")\n",
    "plt.show()"
   ]
  },
  {
   "cell_type": "markdown",
   "id": "0dde08db",
   "metadata": {},
   "source": [
    "**Вывод: Европейские пользователи предпочитают приставки Sony PS4, на втором с большим отставанием XOne от Microsoft, PS3, PC и Nintendo идут следом**"
   ]
  },
  {
   "cell_type": "markdown",
   "id": "95ce9d6b",
   "metadata": {},
   "source": [
    "#### 4.1.3 Япония"
   ]
  },
  {
   "cell_type": "code",
   "execution_count": 69,
   "id": "fd40ddb6",
   "metadata": {},
   "outputs": [
    {
     "data": {
      "image/png": "[encoded data removed]",
      "text/plain": [
       "<Figure size 1080x432 with 1 Axes>"
      ]
     },
     "metadata": {},
     "output_type": "display_data"
    }
   ],
   "source": [
    "data_act.pivot_table(index = 'platform', values = 'jp_sales', aggfunc = 'sum')\\\n",
    "        .sort_values('jp_sales')\\\n",
    "        .tail(5)\\\n",
    "        .plot(kind = 'bar', figsize = (15,6))\n",
    "plt.title('Суммарные продажи игр в Японии по платформам')\n",
    "plt.ylabel(\"млн. копий\")\n",
    "plt.show()"
   ]
  },
  {
   "cell_type": "markdown",
   "id": "f2112eb0",
   "metadata": {},
   "source": [
    "**Вывод: Японские игроки предпочитают Nintendo и Sony, причем мобильный сегмент Sony тоже смотрится неплохо, WiiU на последнем месте из топ-5**"
   ]
  },
  {
   "cell_type": "markdown",
   "id": "eea6282f",
   "metadata": {},
   "source": [
    "#### 4.1.4 Остальной мир"
   ]
  },
  {
   "cell_type": "code",
   "execution_count": 70,
   "id": "8f273e9d",
   "metadata": {},
   "outputs": [
    {
     "data": {
      "image/png": "[encoded data removed]",
      "text/plain": [
       "<Figure size 1080x432 with 1 Axes>"
      ]
     },
     "metadata": {},
     "output_type": "display_data"
    }
   ],
   "source": [
    "data_act.pivot_table(index = 'platform', values = 'other_sales', aggfunc = 'sum')\\\n",
    "        .sort_values('other_sales')\\\n",
    "        .tail(5)\\\n",
    "        .plot(kind = 'bar', figsize = (15,6))\n",
    "plt.title('Суммарные продажи игр в остальном мире по платформам')\n",
    "plt.ylabel(\"млн. копий\")\n",
    "plt.show()"
   ]
  },
  {
   "cell_type": "markdown",
   "id": "6220caf4",
   "metadata": {},
   "source": [
    "**Вывод: в остальном мире больше всего популярны Sony PS4, Microsoft XOne на втором месте с большим отставанием, далее идут PS3, X360 и 3DS**"
   ]
  },
  {
   "cell_type": "markdown",
   "id": "55681fd0",
   "metadata": {},
   "source": [
    "Посмотрим суммарно"
   ]
  },
  {
   "cell_type": "code",
   "execution_count": 71,
   "id": "db78332c",
   "metadata": {},
   "outputs": [
    {
     "data": {
      "image/png": "[encoded data removed]",
      "text/plain": [
       "<Figure size 1152x360 with 1 Axes>"
      ]
     },
     "metadata": {},
     "output_type": "display_data"
    }
   ],
   "source": [
    "data_act.query('platform not in [\"Wii\", \"PSP\"]')\\\n",
    "        .pivot_table(index = 'platform', values = ['jp_sales', 'eu_sales', 'na_sales', 'other_sales'], aggfunc = 'sum')\\\n",
    "        .reset_index()\\\n",
    "        .plot(kind = 'bar', x = 'platform', figsize = (16,5))\n",
    "plt.title('Суммарные продажи в разрезе по регионам по платформам')\n",
    "plt.ylabel(\"млн. копий\")\n",
    "plt.show()"
   ]
  },
  {
   "cell_type": "markdown",
   "id": "2abc5c74",
   "metadata": {},
   "source": [
    "**Общий вывод по разделу: больше всего следует сосредоточится на:**\n",
    "- Microsoft (1) и Sony (2) в Северной Америке (PS4 и XOne)\n",
    "- Sony PS4 в Европе, в меньшей степени на XOne от Microsoft\n",
    "- Nintendo в Японии, упор на выход Switch, в меньшей степени по Sony PS4 и PSV. Приставки от Miscrosoft там совсем не любят\n",
    "- Sony в остальном мире, в меньшей степени Microsoft XOne"
   ]
  },
  {
   "cell_type": "markdown",
   "id": "6bb3eb00",
   "metadata": {},
   "source": [
    "### 4.2 По популярным жанрам по регионам"
   ]
  },
  {
   "cell_type": "markdown",
   "id": "e4a60205",
   "metadata": {},
   "source": [
    "#### 4.2.1 Северная Америка"
   ]
  },
  {
   "cell_type": "code",
   "execution_count": 72,
   "id": "20caaff8",
   "metadata": {},
   "outputs": [
    {
     "data": {
      "image/png": "[encoded data removed]",
      "text/plain": [
       "<Figure size 1080x432 with 1 Axes>"
      ]
     },
     "metadata": {},
     "output_type": "display_data"
    }
   ],
   "source": [
    "data_act.pivot_table(index = 'genre', values = 'na_sales', aggfunc = 'sum')\\\n",
    "        .sort_values('na_sales')\\\n",
    "        .tail(5)\\\n",
    "        .plot(kind = 'bar', figsize = (15,6))\n",
    "plt.title('Суммарные продажи игр в Северной Америке по жанрам')\n",
    "plt.ylabel(\"млн. копий\")\n",
    "plt.show()"
   ]
  },
  {
   "cell_type": "markdown",
   "id": "7cce4c6d",
   "metadata": {},
   "source": [
    "Больше всего в Северной Америке популярны Экшены и Шутеры, затем идут Спорт и РПГ, и на пятом месте смешанный жанр "
   ]
  },
  {
   "cell_type": "markdown",
   "id": "b6f2bd76",
   "metadata": {},
   "source": [
    "#### 4.2.2 Европа"
   ]
  },
  {
   "cell_type": "code",
   "execution_count": 73,
   "id": "bf1ffbff",
   "metadata": {},
   "outputs": [
    {
     "data": {
      "image/png": "[encoded data removed]",
      "text/plain": [
       "<Figure size 1080x432 with 1 Axes>"
      ]
     },
     "metadata": {},
     "output_type": "display_data"
    }
   ],
   "source": [
    "data_act.pivot_table(index = 'genre', values = 'eu_sales', aggfunc = 'sum')\\\n",
    "        .sort_values('eu_sales')\\\n",
    "        .tail(5)\\\n",
    "        .plot(kind = 'bar', figsize = (15,6))\n",
    "plt.title('Суммарные продажи игр в Европе по жанрам')\n",
    "plt.ylabel(\"млн. копий\")\n",
    "plt.show()"
   ]
  },
  {
   "cell_type": "markdown",
   "id": "a70d81f3",
   "metadata": {},
   "source": [
    "Распределение по топ-5 напоминает США, за исключением смешанного жанра. В Европе это гонки"
   ]
  },
  {
   "cell_type": "markdown",
   "id": "6da65bd8",
   "metadata": {},
   "source": [
    "#### 4.2.3 Япония"
   ]
  },
  {
   "cell_type": "code",
   "execution_count": 74,
   "id": "bf32b0a4",
   "metadata": {},
   "outputs": [
    {
     "data": {
      "image/png": "[encoded data removed]",
      "text/plain": [
       "<Figure size 1080x432 with 1 Axes>"
      ]
     },
     "metadata": {},
     "output_type": "display_data"
    }
   ],
   "source": [
    "data_act.pivot_table(index = 'genre', values = 'jp_sales', aggfunc = 'sum')\\\n",
    "        .sort_values('jp_sales')\\\n",
    "        .tail(5)\\\n",
    "        .plot(kind = 'bar', figsize = (15,6))\n",
    "plt.title('Суммарные продажи игр в Японии по жанрам')\n",
    "plt.ylabel(\"млн. копий\")\n",
    "plt.show()"
   ]
  },
  {
   "cell_type": "markdown",
   "id": "57aa7a69",
   "metadata": {},
   "source": [
    "Японские игроки обожают РПГ и Экшены, доля остальных жанров сильно меньше."
   ]
  },
  {
   "cell_type": "markdown",
   "id": "1b596ec6",
   "metadata": {},
   "source": [
    "#### 4.2.4 Остальной мир"
   ]
  },
  {
   "cell_type": "code",
   "execution_count": 75,
   "id": "89ab3f40",
   "metadata": {},
   "outputs": [
    {
     "data": {
      "image/png": "[encoded data removed]",
      "text/plain": [
       "<Figure size 1080x432 with 1 Axes>"
      ]
     },
     "metadata": {},
     "output_type": "display_data"
    }
   ],
   "source": [
    "data_act.pivot_table(index = 'genre', values = 'other_sales', aggfunc = 'sum')\\\n",
    "        .sort_values('other_sales')\\\n",
    "        .tail(5)\\\n",
    "        .plot(kind = 'bar', figsize = (15,6))\n",
    "plt.title('Суммарные продажи игр в остальном мире по жанрам')\n",
    "plt.ylabel(\"млн. копий\")\n",
    "plt.show()"
   ]
  },
  {
   "cell_type": "markdown",
   "id": "cd0261a9",
   "metadata": {},
   "source": [
    "В остальном мире предпочтение отдают Экшенам, затем идут Шутеры, Спорт, РПГ и смешанный жанр"
   ]
  },
  {
   "cell_type": "code",
   "execution_count": 76,
   "id": "d49e3dab",
   "metadata": {},
   "outputs": [
    {
     "data": {
      "image/png": "[encoded data removed]",
      "text/plain": [
       "<Figure size 1152x360 with 1 Axes>"
      ]
     },
     "metadata": {},
     "output_type": "display_data"
    }
   ],
   "source": [
    "data_act.query('genre in [\"Action\", \"Sports\", \"Racing\", \"Role-Playing\", \"Misc\", \"Shooter\"]')\\\n",
    "        .pivot_table(index = 'genre', values = ['jp_sales', 'eu_sales', 'na_sales', 'other_sales'], aggfunc = 'sum')\\\n",
    "        .reset_index()\\\n",
    "        .plot(kind = 'bar', x = 'genre', figsize = (16,5))\n",
    "plt.title('Суммарные продажи в разрезе по регионам по жанрам')\n",
    "plt.ylabel(\"млн. копий\")\n",
    "plt.show()"
   ]
  },
  {
   "cell_type": "markdown",
   "id": "6871e784",
   "metadata": {},
   "source": [
    "**Общий вывод по разделу: следует сконцентрироваться на продаже Экшенов, Шутеров, РПГ и спортивного жанра в Европе, Америке и остальном мире, кроме Японии, там популярны РПГ и Экшены, с большим отрывом от других жанров**"
   ]
  },
  {
   "cell_type": "markdown",
   "id": "c88ba5a7",
   "metadata": {},
   "source": [
    "### 4.3 Проверка влияния ESRB рейтинга на продажи по регионам"
   ]
  },
  {
   "cell_type": "markdown",
   "id": "f95144d2",
   "metadata": {},
   "source": [
    "Посмотрим на распределение суммарные продажи игр определенного рейтинга по регионам"
   ]
  },
  {
   "cell_type": "code",
   "execution_count": 77,
   "id": "dacd9ab8",
   "metadata": {},
   "outputs": [
    {
     "data": {
      "image/png": "[encoded data removed]",
      "text/plain": [
       "<Figure size 1152x360 with 1 Axes>"
      ]
     },
     "metadata": {},
     "output_type": "display_data"
    }
   ],
   "source": [
    "data_act.pivot_table(index = 'rating', values = ['jp_sales', 'eu_sales', 'na_sales', 'other_sales'], aggfunc = 'sum')\\\n",
    "        .reset_index()\\\n",
    "        .plot(kind = 'bar', x = 'rating', figsize = (16,5))\n",
    "plt.title('Суммарные продажи в разрезе по регионам по рейтингу')\n",
    "plt.ylabel(\"млн. копий\")\n",
    "plt.show()"
   ]
  },
  {
   "cell_type": "markdown",
   "id": "30bd79c0",
   "metadata": {},
   "source": [
    "- В СА и Европе больше всего покупают игры с рейтингом `M (17+)`, сильно меньше с рейтингом `E (для всех)`, `T` (от 10 и от 13 лет) занимают третье место, `E10+` на последнем. Слишком много пропусков в данных, поэтому с последними тремя есть вероятность ошибки\n",
    "- В Японии игры с рейтингом `T` более популярны, чем `M` и `E`. К сожалению, очень высока вероятность ошибки именно здесь, т.к. больше всего продаж имеют игры, где в данных пропущен рейтинг\n",
    "- остальной мир предпочитает рейтинг `M`"
   ]
  },
  {
   "cell_type": "markdown",
   "id": "dd6fa199",
   "metadata": {},
   "source": [
    "Посмотрим распределение продаж игр по странам"
   ]
  },
  {
   "cell_type": "markdown",
   "id": "e52a13a9",
   "metadata": {},
   "source": [
    "#### 4.3.1 Распределение для Японии"
   ]
  },
  {
   "cell_type": "code",
   "execution_count": 78,
   "id": "64b94d3a",
   "metadata": {},
   "outputs": [
    {
     "data": {
      "image/png": "[encoded data removed]",
      "text/plain": [
       "<Figure size 1224x432 with 1 Axes>"
      ]
     },
     "metadata": {},
     "output_type": "display_data"
    }
   ],
   "source": [
    "data_act.pivot_table(index = 'game_name', values = 'jp_sales', columns = 'rating', aggfunc = 'sum')\\\n",
    "        .plot(kind = 'box', figsize = (17,6),ylim = (-0.1,0.4))\n",
    "plt.show()"
   ]
  },
  {
   "cell_type": "markdown",
   "id": "c9693f74",
   "metadata": {},
   "source": [
    "**Вывод:**\n",
    "не менее 50% всех существующих игр рейтинга `E` и `E10+` имеют шанс быть никогда не приобретенными в Японии. Вклад в суммарные продажи дают остальные 50% игр и бестселлеры (выбросы). Рейтинг `M` имеет похожее с рейтингом `T` распределение.\n",
    "Для продажи игр в этом регионе нужно тщательно подходить к выбору предлагаемых игр рейтингов `E` и `E10+`, т.к. они могут быть просто никогда не проданы. Хотя сам по себе рейтинг `E` все равно популярен.\n",
    "\n",
    "Высока вероятность ошибки в выводах из-за кучи отсутствующих значений"
   ]
  },
  {
   "cell_type": "markdown",
   "id": "e8a5786a",
   "metadata": {},
   "source": [
    "#### 4.3.2 Распределение для CA"
   ]
  },
  {
   "cell_type": "code",
   "execution_count": 79,
   "id": "fa5eedf4",
   "metadata": {},
   "outputs": [
    {
     "data": {
      "image/png": "[encoded data removed]",
      "text/plain": [
       "<Figure size 1224x432 with 1 Axes>"
      ]
     },
     "metadata": {},
     "output_type": "display_data"
    }
   ],
   "source": [
    "data_act.pivot_table(index = 'game_name', values = 'na_sales', columns = 'rating', aggfunc = 'sum')\\\n",
    "        .plot(kind = 'box', figsize = (17,6),ylim = (-0.1,2.5))\n",
    "plt.show()"
   ]
  },
  {
   "cell_type": "markdown",
   "id": "7e91656c",
   "metadata": {},
   "source": [
    "**Вывод**:\n",
    "Тут уже другая история. Видно, что пользователи менее разборчивы для игр определенного рейтинга, но `M` все же лидирует. Почти любые игры так или иначе продаются. Кроме `T`"
   ]
  },
  {
   "cell_type": "markdown",
   "id": "c41bccb0",
   "metadata": {},
   "source": [
    "#### 4.3.3 Распределение для Европы"
   ]
  },
  {
   "cell_type": "code",
   "execution_count": 80,
   "id": "ecd7d323",
   "metadata": {},
   "outputs": [
    {
     "data": {
      "image/png": "[encoded data removed]",
      "text/plain": [
       "<Figure size 1224x432 with 1 Axes>"
      ]
     },
     "metadata": {},
     "output_type": "display_data"
    }
   ],
   "source": [
    "data_act.pivot_table(index = 'game_name', values = 'eu_sales', columns = 'rating', aggfunc = 'sum')\\\n",
    "        .plot(kind = 'box', figsize = (17,6),ylim = (-0.1,2.5))\n",
    "plt.show()"
   ]
  },
  {
   "cell_type": "markdown",
   "id": "c7421294",
   "metadata": {},
   "source": [
    "**Вывод:**\n",
    "Распределение похоже на СА"
   ]
  },
  {
   "cell_type": "markdown",
   "id": "cf455e17",
   "metadata": {},
   "source": [
    "#### 4.3.4 Распределение для остальных стран"
   ]
  },
  {
   "cell_type": "code",
   "execution_count": 81,
   "id": "c3c4aedc",
   "metadata": {},
   "outputs": [
    {
     "data": {
      "image/png": "[encoded data removed]",
      "text/plain": [
       "<Figure size 1224x432 with 1 Axes>"
      ]
     },
     "metadata": {},
     "output_type": "display_data"
    }
   ],
   "source": [
    "data_act.pivot_table(index = 'game_name', values = 'other_sales', columns = 'rating', aggfunc = 'sum')\\\n",
    "        .plot(kind = 'box', figsize = (17,6),ylim = (-0.1,1))\n",
    "plt.show()"
   ]
  },
  {
   "cell_type": "markdown",
   "id": "7c4e5006",
   "metadata": {},
   "source": [
    "**Вывод**:\n",
    "для игр рейтинга `E`, `E10+`, `T` в остальных странах необходимо тщательно работать над предлагаемым ассортиментом"
   ]
  },
  {
   "cell_type": "markdown",
   "id": "944252f4",
   "metadata": {},
   "source": [
    "**Общий вывод по разделу:**\n",
    "\n",
    "Разные регионы отдают разное предпочтение разным рейтингам. В Японии популярны игры с рейтингом `E` и `T`(очень спорно из-за отсутствующих значений в данных), остальные отдают предпочтение рейтингу `M`\n",
    "\n",
    "Необходимо тщательно подходить к предлагаемому ассортименту игр в остальных странах по рейтингам `E` и `T`. \n",
    "\n",
    "Особенно сильно подобная картина проявляется в Японии с рейтингом `E`. Несмотря на общую популярность данного рейтинга, 50% игр этого рейтинга там просто не продаются. Вероятно, что это зависит от пользовательских предпочтений. Но истинные причины этого неизвестны и нужно проводить дополнительное исследование. Возможно, что какие-то игры просто недоступны или не предлагаются пользователям. "
   ]
  },
  {
   "cell_type": "markdown",
   "id": "96f8b15c",
   "metadata": {},
   "source": [
    "## 5. Проверка гипотез"
   ]
  },
  {
   "cell_type": "markdown",
   "id": "0eb0b4a0",
   "metadata": {},
   "source": [
    "Необходимо проверить 2 гипотезы:\n",
    "1. Средние пользовательские рейтинги платформ Xbox One и PC одинаковые;\n",
    "2. Средние пользовательские рейтинги жанров Action и Sports разные."
   ]
  },
  {
   "cell_type": "markdown",
   "id": "570c2a16",
   "metadata": {},
   "source": [
    "### 5.1 Проверка первой гипотезы"
   ]
  },
  {
   "cell_type": "markdown",
   "id": "cb0d2f38",
   "metadata": {},
   "source": [
    "Сформулируем $ H_0 $ и $ H_1 $\n",
    "\n",
    "$ H_0 $: Пользовательские рейтинги платформ Xbox One и PC не различаются\n",
    "\n",
    "$ H_1 $: Пользовательские рейтинги платформ Xbox One и PC различаются\n",
    "\n",
    "Для этого нам нужно сравнить между собой 2 выборки из переменной `data_act`.\n",
    "\n",
    "Воспользуемся методом `scipy.stats.ttest_ind` для проверки гипотезы о равенстве средних двух генеральных совокупностей.\n",
    "Уровень aplha примем равным 0.05\n",
    "\n",
    "проверим количество игр в выборках"
   ]
  },
  {
   "cell_type": "code",
   "execution_count": 82,
   "id": "a0120edf",
   "metadata": {},
   "outputs": [
    {
     "name": "stdout",
     "output_type": "stream",
     "text": [
      "122\n",
      "165\n"
     ]
    }
   ],
   "source": [
    "pc_sample = data_act.query('platform == \"PC\" and user_score >= -0.5')\n",
    "print(len(pc_sample))\n",
    "xone_sample = data_act.query('platform == \"XOne\" and user_score >= -0.5')\n",
    "print(len(xone_sample))"
   ]
  },
  {
   "cell_type": "markdown",
   "id": "0140ca81",
   "metadata": {},
   "source": [
    "Выборки отличаются по размеру и есть основания полагать, что дисперсии в них тоже могут отличаться"
   ]
  },
  {
   "cell_type": "code",
   "execution_count": 83,
   "id": "6fab9d72",
   "metadata": {},
   "outputs": [
    {
     "name": "stdout",
     "output_type": "stream",
     "text": [
      "p-значение:  0.11601398086668835\n",
      "Не получилось отвергнуть нулевую гипотезу\n"
     ]
    }
   ],
   "source": [
    "from scipy import stats as st\n",
    "\n",
    "alpha = 0.05\n",
    "\n",
    "results = st.ttest_ind(pc_sample['user_score'], xone_sample['user_score'], equal_var = False)\n",
    "\n",
    "print('p-значение: ', results.pvalue)\n",
    "\n",
    "if results.pvalue < alpha:\n",
    "    print(\"Отвергаем нулевую гипотезу\")\n",
    "else:\n",
    "    print(\"Не получилось отвергнуть нулевую гипотезу\")"
   ]
  },
  {
   "cell_type": "markdown",
   "id": "6770c8c6",
   "metadata": {},
   "source": [
    "**Вывод:**\n",
    "Нет оснований полагать, что пользовательские рейтинги игр зависят от платформы"
   ]
  },
  {
   "cell_type": "markdown",
   "id": "3a8152c1",
   "metadata": {},
   "source": [
    "### 5.2 Проверка второй гипотезы"
   ]
  },
  {
   "cell_type": "markdown",
   "id": "9cac1b20",
   "metadata": {},
   "source": [
    "Сформулируем $ H_0 $ и $ H_1 $\n",
    "\n",
    "$ H_0 $: Пользовательские рейтинги жанров Action и Sports одинаковые\n",
    "\n",
    "$ H_1 $: Пользовательские рейтинги жанров Action и Sports разные\n",
    "\n",
    "Для этого нам нужно сравнить между собой 2 выборки из переменной `data_act`.\n",
    "\n",
    "Воспользуемся методом `scipy.stats.ttest_ind` для проверки гипотезы о равенстве средних двух генеральных совокупностей.\n",
    "Уровень aplha примем равным 0.05\n",
    "\n",
    "проверим количество игр в выборках"
   ]
  },
  {
   "cell_type": "code",
   "execution_count": 84,
   "id": "34e3c8fc",
   "metadata": {},
   "outputs": [
    {
     "name": "stdout",
     "output_type": "stream",
     "text": [
      "297\n",
      "127\n"
     ]
    }
   ],
   "source": [
    "action_sample = data_act.query('genre == \"Action\" and user_score >= -0.5')\n",
    "print(len(action_sample))\n",
    "sports_sample = data_act.query('genre == \"Sports\" and user_score >= -0.5')\n",
    "print(len(sports_sample))"
   ]
  },
  {
   "cell_type": "markdown",
   "id": "dfda91ff",
   "metadata": {},
   "source": [
    "Выборки также значимо отличаются по размерам"
   ]
  },
  {
   "cell_type": "code",
   "execution_count": 85,
   "id": "87105c93",
   "metadata": {},
   "outputs": [
    {
     "name": "stdout",
     "output_type": "stream",
     "text": [
      "p-значение:  1.1825550382644557e-14\n",
      "Отвергаем нулевую гипотезу\n"
     ]
    }
   ],
   "source": [
    "alpha = 0.05\n",
    "\n",
    "results = st.ttest_ind(action_sample['user_score'], sports_sample['user_score'], equal_var = False)\n",
    "\n",
    "print('p-значение: ', results.pvalue)\n",
    "\n",
    "if results.pvalue < alpha:\n",
    "    print(\"Отвергаем нулевую гипотезу\")\n",
    "else:\n",
    "    print(\"Не получилось отвергнуть нулевую гипотезу\")"
   ]
  },
  {
   "cell_type": "markdown",
   "id": "90555902",
   "metadata": {},
   "source": [
    "**Вывод:**\n",
    "Вероятность случайного получения настолько сильно различающихся значений слишком низка. \n",
    "Есть основания полагать, что пользовательские рейтинги игр жанров Action и Sports различаются.\n",
    "Принимаем альтернативную гипотезу о разности средних в генеральных совокупностях"
   ]
  },
  {
   "cell_type": "markdown",
   "id": "a81e4e12",
   "metadata": {},
   "source": [
    "## 6.Общий вывод по исследованию"
   ]
  },
  {
   "cell_type": "markdown",
   "id": "54a6a746",
   "metadata": {},
   "source": [
    "Целью исследования являлось изучение данных продаж компьютерных игр различных платформ и жанров для планирования продаж 2017 года и планирования рекламных кампаний."
   ]
  },
  {
   "cell_type": "markdown",
   "id": "eb1ea313",
   "metadata": {},
   "source": [
    "**Что было сделано**\n",
    "\n",
    "- Проведена предобработка данных: обработаны дубликаты и пропуски\n",
    "- Проведено исследование:\n",
    "    - Зависимости выпускаемых игр по годам, определены лидеры продаж за весь период и актуальный период\n",
    "    - Определен цикл жизни платформ\n",
    "    - Изучено распределение глобальных продаж в разбивке по платформам\n",
    "    - Изучено влияние отзывов критиков на продажи\n",
    "    - Выявлены самые прибыльные жанры\n",
    "    - Составлены портреты пользователей по регионам: определены самые популярные жанры и платформы\n",
    "- Проверены гипотезы:\n",
    "    - О влиянии выбора конкретной платформы на пользовательский рейтинг\n",
    "    - О влиянии конкретных жанров на пользовательский рейтинг"
   ]
  },
  {
   "cell_type": "markdown",
   "id": "d0f555aa",
   "metadata": {},
   "source": [
    "**Выводы по работе**\n",
    "\n",
    "\n",
    "Продажи игр падают последние годы, причиной является наложение пиков жизненных циклов платформ в 2006 - 2011 годах. Вероятно, что с выходом новых платформ нас ждет увеличение продаж. В октябре 2016 был анонсирован выход новой платформы от Nintendo (одного из лидеров) в 2017 году. Следует приготовиться к возможному ажиотажу в играх для этой платформы как это было ранее.\n",
    "\n",
    "Цикл жизни платформы составляет 7-10 лет, медианный составляет 7 лет. PS4 и XOne находятся в середине жизненного цикла,\n",
    "\n",
    "Лидерами продаж являются игры для приставок Sony, Microsoft, Nintendo. Актуальные платформы у этих фирм соответственно PS4, XOne и 3DS. Последнюю в следующем году ждет смена поколения.\n",
    "\n",
    "Оценки критиков положительно влияют на продажи игр, корреляция слабая. Игры с рейтингами меньше 60 продаются плохо\n",
    "\n",
    "Популярные платформы различаются в зависимости от региона:\n",
    "- Microsoft (1) и Sony (2) в Северной Америке (PS4 и XOne)\n",
    "- Sony PS4 в Европе, в меньшей степени на XOne от Microsoft\n",
    "- Nintendo в Японии, упор на выход Switch, в меньшей степени по Sony PS4 и PSV. Приставки от Miscrosoft там совсем не любят\n",
    "- Sony в остальном мире, в меньшей степени Microsoft XOne\n",
    "\n",
    "Популярные жанры различаются от региона к региону:\n",
    "- Следует сконцентрироваться на продаже Экшенов, Шутеров, РПГ и спортивного жанра в Европе, Америке и остальном мире,\n",
    "- В Японии популярны РПГ и Экшены, с большим отрывом от других жанров\n",
    "\n"
   ]
  },
  {
   "cell_type": "markdown",
   "id": "a5fa0538",
   "metadata": {},
   "source": [
    "Предпочитаемый рейтинг игр меняется от региона к региону:\n",
    "- В СА и Европе больше всего покупают игры с рейтингом `M (17+)`, сильно меньше с рейтингом `E (для всех)`, `T` (от 10 и от 13 лет) занимают третье место, `E10+` на последнем. Слишком много пропусков в данных, поэтому с последними тремя есть вероятность ошибки\n",
    "- В Японии игры с рейтингом `T` более популярны, чем `M` и `E`. К сожалению, очень высока вероятность ошибки именно здесь, т.к. больше всего продаж имеют игры, где в данных пропущен рейтинг\n",
    "- остальной мир предпочитает рейтинг `M`\n",
    "\n",
    "Нет оснований полагать, что пользовательские рейтинги игр зависят от платформы\n",
    "\n",
    "Есть основания полагать, что рейтинги игр жанров Action и Sports различаются"
   ]
  },
  {
   "cell_type": "markdown",
   "id": "8d6123b0",
   "metadata": {},
   "source": [
    "**Рекомендации**\n",
    "\n",
    "Рекомендуется провести дополнительно исследование пользовательских предпочтений в Японии по рейтингу `E`\n",
    "\n",
    "Рекомендуется подготовить рекламщиков к выходу новой платформы Nintedo Switch"
   ]
  }
 ],
 "metadata": {
  "ExecuteTimeLog": [
   {
    "duration": 1442,
    "start_time": "2022-10-14T09:27:55.409Z"
   },
   {
    "duration": 25,
    "start_time": "2022-10-14T09:27:56.854Z"
   },
   {
    "duration": 22,
    "start_time": "2022-10-14T09:27:56.882Z"
   },
   {
    "duration": 32,
    "start_time": "2022-10-14T09:27:56.907Z"
   },
   {
    "duration": 4,
    "start_time": "2022-10-14T09:27:56.941Z"
   },
   {
    "duration": 44,
    "start_time": "2022-10-14T09:27:56.946Z"
   },
   {
    "duration": 29,
    "start_time": "2022-10-14T09:27:56.993Z"
   },
   {
    "duration": 16,
    "start_time": "2022-10-14T09:27:57.024Z"
   },
   {
    "duration": 48,
    "start_time": "2022-10-14T09:27:57.042Z"
   },
   {
    "duration": 17,
    "start_time": "2022-10-14T09:27:57.094Z"
   },
   {
    "duration": 4,
    "start_time": "2022-10-14T09:27:57.113Z"
   },
   {
    "duration": 21,
    "start_time": "2022-10-14T09:27:57.118Z"
   },
   {
    "duration": 102,
    "start_time": "2022-10-14T09:27:57.141Z"
   },
   {
    "duration": 16,
    "start_time": "2022-10-14T09:27:57.244Z"
   },
   {
    "duration": 16,
    "start_time": "2022-10-14T09:27:57.262Z"
   },
   {
    "duration": 35,
    "start_time": "2022-10-14T09:27:57.280Z"
   },
   {
    "duration": 7,
    "start_time": "2022-10-14T09:27:57.317Z"
   },
   {
    "duration": 17,
    "start_time": "2022-10-14T09:27:57.326Z"
   },
   {
    "duration": 5,
    "start_time": "2022-10-14T09:27:57.345Z"
   },
   {
    "duration": 15,
    "start_time": "2022-10-14T09:27:57.352Z"
   },
   {
    "duration": 301,
    "start_time": "2022-10-14T09:27:57.369Z"
   },
   {
    "duration": 23,
    "start_time": "2022-10-14T09:27:57.671Z"
   },
   {
    "duration": 17,
    "start_time": "2022-10-14T09:27:57.697Z"
   },
   {
    "duration": 60,
    "start_time": "2022-10-14T09:27:57.716Z"
   },
   {
    "duration": 12,
    "start_time": "2022-10-14T09:27:57.778Z"
   },
   {
    "duration": 24,
    "start_time": "2022-10-14T09:27:57.792Z"
   },
   {
    "duration": 5,
    "start_time": "2022-10-14T09:27:57.818Z"
   },
   {
    "duration": 235,
    "start_time": "2022-10-14T09:27:57.829Z"
   },
   {
    "duration": 33,
    "start_time": "2022-10-14T09:27:58.066Z"
   },
   {
    "duration": 14,
    "start_time": "2022-10-14T09:27:58.102Z"
   },
   {
    "duration": 269,
    "start_time": "2022-10-14T09:27:58.118Z"
   },
   {
    "duration": 6,
    "start_time": "2022-10-14T09:27:58.390Z"
   },
   {
    "duration": 33,
    "start_time": "2022-10-14T09:27:58.398Z"
   },
   {
    "duration": 6,
    "start_time": "2022-10-14T09:27:58.432Z"
   },
   {
    "duration": 208,
    "start_time": "2022-10-14T09:27:58.440Z"
   },
   {
    "duration": 259,
    "start_time": "2022-10-14T09:27:58.651Z"
   },
   {
    "duration": 6,
    "start_time": "2022-10-14T09:27:58.913Z"
   },
   {
    "duration": 538,
    "start_time": "2022-10-14T09:27:58.921Z"
   },
   {
    "duration": 30,
    "start_time": "2022-10-14T09:27:59.461Z"
   },
   {
    "duration": 996,
    "start_time": "2022-10-14T09:27:59.494Z"
   },
   {
    "duration": 30,
    "start_time": "2022-10-14T09:28:00.493Z"
   },
   {
    "duration": 492,
    "start_time": "2022-10-14T09:28:00.524Z"
   },
   {
    "duration": 20,
    "start_time": "2022-10-14T09:28:01.018Z"
   },
   {
    "duration": 85,
    "start_time": "2022-10-14T09:28:01.040Z"
   },
   {
    "duration": 356,
    "start_time": "2022-10-14T09:28:01.126Z"
   },
   {
    "duration": 25,
    "start_time": "2022-10-14T09:28:01.488Z"
   },
   {
    "duration": 48,
    "start_time": "2022-10-14T09:28:01.515Z"
   },
   {
    "duration": 6,
    "start_time": "2022-10-14T09:28:01.565Z"
   },
   {
    "duration": 380,
    "start_time": "2022-10-14T09:28:01.573Z"
   },
   {
    "duration": 429,
    "start_time": "2022-10-14T09:28:01.955Z"
   },
   {
    "duration": 257,
    "start_time": "2022-10-14T09:28:02.386Z"
   },
   {
    "duration": 278,
    "start_time": "2022-10-14T09:28:02.644Z"
   },
   {
    "duration": 9,
    "start_time": "2022-10-14T09:28:02.924Z"
   },
   {
    "duration": 327,
    "start_time": "2022-10-14T09:28:02.935Z"
   },
   {
    "duration": 10,
    "start_time": "2022-10-14T09:28:03.264Z"
   },
   {
    "duration": 343,
    "start_time": "2022-10-14T09:28:03.277Z"
   },
   {
    "duration": 364,
    "start_time": "2022-10-14T09:28:03.622Z"
   },
   {
    "duration": 305,
    "start_time": "2022-10-14T09:28:03.989Z"
   },
   {
    "duration": 329,
    "start_time": "2022-10-14T09:28:04.297Z"
   },
   {
    "duration": 315,
    "start_time": "2022-10-14T09:28:04.628Z"
   },
   {
    "duration": 318,
    "start_time": "2022-10-14T09:28:04.945Z"
   },
   {
    "duration": 440,
    "start_time": "2022-10-14T09:28:05.266Z"
   },
   {
    "duration": 402,
    "start_time": "2022-10-14T09:28:05.713Z"
   },
   {
    "duration": 325,
    "start_time": "2022-10-14T09:28:06.117Z"
   },
   {
    "duration": 296,
    "start_time": "2022-10-14T09:28:06.444Z"
   },
   {
    "duration": 305,
    "start_time": "2022-10-14T09:28:06.742Z"
   },
   {
    "duration": 317,
    "start_time": "2022-10-14T09:28:07.050Z"
   },
   {
    "duration": 327,
    "start_time": "2022-10-14T09:28:07.369Z"
   },
   {
    "duration": 227,
    "start_time": "2022-10-14T09:28:07.698Z"
   },
   {
    "duration": 235,
    "start_time": "2022-10-14T09:28:07.927Z"
   },
   {
    "duration": 247,
    "start_time": "2022-10-14T09:28:08.165Z"
   },
   {
    "duration": 233,
    "start_time": "2022-10-14T09:28:08.414Z"
   },
   {
    "duration": 9,
    "start_time": "2022-10-14T09:28:08.649Z"
   },
   {
    "duration": 10,
    "start_time": "2022-10-14T09:28:08.660Z"
   },
   {
    "duration": 14,
    "start_time": "2022-10-14T09:28:08.689Z"
   },
   {
    "duration": 11,
    "start_time": "2022-10-14T09:28:08.705Z"
   },
   {
    "duration": 81,
    "start_time": "2022-10-14T10:14:25.017Z"
   },
   {
    "duration": 1390,
    "start_time": "2022-10-15T06:51:10.374Z"
   },
   {
    "duration": 2,
    "start_time": "2022-10-15T06:51:11.766Z"
   },
   {
    "duration": 111,
    "start_time": "2022-10-15T06:51:11.770Z"
   },
   {
    "duration": 22,
    "start_time": "2022-10-15T06:51:11.883Z"
   },
   {
    "duration": 14,
    "start_time": "2022-10-15T06:51:11.906Z"
   },
   {
    "duration": 33,
    "start_time": "2022-10-15T06:51:11.921Z"
   },
   {
    "duration": 3,
    "start_time": "2022-10-15T06:51:11.955Z"
   },
   {
    "duration": 22,
    "start_time": "2022-10-15T06:51:11.959Z"
   },
   {
    "duration": 35,
    "start_time": "2022-10-15T06:51:11.982Z"
   },
   {
    "duration": 13,
    "start_time": "2022-10-15T06:51:12.019Z"
   },
   {
    "duration": 40,
    "start_time": "2022-10-15T06:51:12.033Z"
   },
   {
    "duration": 11,
    "start_time": "2022-10-15T06:51:12.075Z"
   },
   {
    "duration": 2,
    "start_time": "2022-10-15T06:51:12.088Z"
   },
   {
    "duration": 18,
    "start_time": "2022-10-15T06:51:12.092Z"
   },
   {
    "duration": 65,
    "start_time": "2022-10-15T06:51:12.112Z"
   },
   {
    "duration": 11,
    "start_time": "2022-10-15T06:51:12.179Z"
   },
   {
    "duration": 18,
    "start_time": "2022-10-15T06:51:12.191Z"
   },
   {
    "duration": 15,
    "start_time": "2022-10-15T06:51:12.210Z"
   },
   {
    "duration": 9,
    "start_time": "2022-10-15T06:51:12.226Z"
   },
   {
    "duration": 15,
    "start_time": "2022-10-15T06:51:12.237Z"
   },
   {
    "duration": 6,
    "start_time": "2022-10-15T06:51:12.253Z"
   },
   {
    "duration": 10,
    "start_time": "2022-10-15T06:51:12.261Z"
   },
   {
    "duration": 260,
    "start_time": "2022-10-15T06:51:12.273Z"
   },
   {
    "duration": 6,
    "start_time": "2022-10-15T06:51:12.535Z"
   },
   {
    "duration": 17,
    "start_time": "2022-10-15T06:51:12.543Z"
   },
   {
    "duration": 71,
    "start_time": "2022-10-15T06:51:12.562Z"
   },
   {
    "duration": 7,
    "start_time": "2022-10-15T06:51:12.634Z"
   },
   {
    "duration": 12,
    "start_time": "2022-10-15T06:51:12.646Z"
   },
   {
    "duration": 18,
    "start_time": "2022-10-15T06:51:12.660Z"
   },
   {
    "duration": 208,
    "start_time": "2022-10-15T06:51:12.680Z"
   },
   {
    "duration": 22,
    "start_time": "2022-10-15T06:51:12.890Z"
   },
   {
    "duration": 7,
    "start_time": "2022-10-15T06:51:12.913Z"
   },
   {
    "duration": 235,
    "start_time": "2022-10-15T06:51:12.921Z"
   },
   {
    "duration": 4,
    "start_time": "2022-10-15T06:51:13.158Z"
   },
   {
    "duration": 17,
    "start_time": "2022-10-15T06:51:13.164Z"
   },
   {
    "duration": 4,
    "start_time": "2022-10-15T06:51:13.183Z"
   },
   {
    "duration": 179,
    "start_time": "2022-10-15T06:51:13.189Z"
   },
   {
    "duration": 208,
    "start_time": "2022-10-15T06:51:13.370Z"
   },
   {
    "duration": 4,
    "start_time": "2022-10-15T06:51:13.580Z"
   },
   {
    "duration": 424,
    "start_time": "2022-10-15T06:51:13.586Z"
   },
   {
    "duration": 13,
    "start_time": "2022-10-15T06:51:14.011Z"
   },
   {
    "duration": 793,
    "start_time": "2022-10-15T06:51:14.025Z"
   },
   {
    "duration": 163,
    "start_time": "2022-10-15T06:51:14.820Z"
   },
   {
    "duration": 24,
    "start_time": "2022-10-15T06:51:14.984Z"
   },
   {
    "duration": 343,
    "start_time": "2022-10-15T06:51:15.010Z"
   },
   {
    "duration": 15,
    "start_time": "2022-10-15T06:51:15.355Z"
   },
   {
    "duration": 14,
    "start_time": "2022-10-15T06:51:15.371Z"
   },
   {
    "duration": 262,
    "start_time": "2022-10-15T06:51:15.387Z"
   },
   {
    "duration": 15,
    "start_time": "2022-10-15T06:51:15.650Z"
   },
   {
    "duration": 18,
    "start_time": "2022-10-15T06:51:15.667Z"
   },
   {
    "duration": 27,
    "start_time": "2022-10-15T06:51:15.686Z"
   },
   {
    "duration": 20,
    "start_time": "2022-10-15T06:51:15.715Z"
   },
   {
    "duration": 246,
    "start_time": "2022-10-15T06:51:15.736Z"
   },
   {
    "duration": 231,
    "start_time": "2022-10-15T06:51:15.984Z"
   },
   {
    "duration": 196,
    "start_time": "2022-10-15T06:51:16.217Z"
   },
   {
    "duration": 209,
    "start_time": "2022-10-15T06:51:16.415Z"
   },
   {
    "duration": 9,
    "start_time": "2022-10-15T06:51:16.625Z"
   },
   {
    "duration": 10,
    "start_time": "2022-10-15T06:51:16.636Z"
   },
   {
    "duration": 255,
    "start_time": "2022-10-15T06:51:16.647Z"
   },
   {
    "duration": 196,
    "start_time": "2022-10-15T06:51:16.908Z"
   },
   {
    "duration": 8,
    "start_time": "2022-10-15T06:51:17.108Z"
   },
   {
    "duration": 189,
    "start_time": "2022-10-15T06:51:17.117Z"
   },
   {
    "duration": 184,
    "start_time": "2022-10-15T06:51:17.308Z"
   },
   {
    "duration": 7,
    "start_time": "2022-10-15T06:51:17.494Z"
   },
   {
    "duration": 274,
    "start_time": "2022-10-15T06:51:17.509Z"
   },
   {
    "duration": 261,
    "start_time": "2022-10-15T06:51:17.784Z"
   },
   {
    "duration": 184,
    "start_time": "2022-10-15T06:51:18.046Z"
   },
   {
    "duration": 182,
    "start_time": "2022-10-15T06:51:18.232Z"
   },
   {
    "duration": 175,
    "start_time": "2022-10-15T06:51:18.416Z"
   },
   {
    "duration": 241,
    "start_time": "2022-10-15T06:51:18.593Z"
   },
   {
    "duration": 250,
    "start_time": "2022-10-15T06:51:18.836Z"
   },
   {
    "duration": 195,
    "start_time": "2022-10-15T06:51:19.088Z"
   },
   {
    "duration": 193,
    "start_time": "2022-10-15T06:51:19.285Z"
   },
   {
    "duration": 183,
    "start_time": "2022-10-15T06:51:19.479Z"
   },
   {
    "duration": 178,
    "start_time": "2022-10-15T06:51:19.663Z"
   },
   {
    "duration": 242,
    "start_time": "2022-10-15T06:51:19.842Z"
   },
   {
    "duration": 213,
    "start_time": "2022-10-15T06:51:20.086Z"
   },
   {
    "duration": 184,
    "start_time": "2022-10-15T06:51:20.301Z"
   },
   {
    "duration": 185,
    "start_time": "2022-10-15T06:51:20.486Z"
   },
   {
    "duration": 185,
    "start_time": "2022-10-15T06:51:20.672Z"
   },
   {
    "duration": 257,
    "start_time": "2022-10-15T06:51:20.858Z"
   },
   {
    "duration": 8,
    "start_time": "2022-10-15T06:51:21.120Z"
   },
   {
    "duration": 10,
    "start_time": "2022-10-15T06:51:21.130Z"
   },
   {
    "duration": 8,
    "start_time": "2022-10-15T06:51:21.141Z"
   },
   {
    "duration": 5,
    "start_time": "2022-10-15T06:51:21.150Z"
   },
   {
    "duration": 46,
    "start_time": "2022-10-15T07:39:28.860Z"
   }
  ],
  "celltoolbar": "Отсутствует",
  "kernelspec": {
   "display_name": "Python 3 (ipykernel)",
   "language": "python",
   "name": "python3"
  },
  "language_info": {
   "codemirror_mode": {
    "name": "ipython",
    "version": 3
   },
   "file_extension": ".py",
   "mimetype": "text/x-python",
   "name": "python",
   "nbconvert_exporter": "python",
   "pygments_lexer": "ipython3",
   "version": "3.9.13"
  },
  "toc": {
   "base_numbering": 1,
   "nav_menu": {},
   "number_sections": true,
   "sideBar": true,
   "skip_h1_title": true,
   "title_cell": "Table of Contents",
   "title_sidebar": "Contents",
   "toc_cell": false,
   "toc_position": {},
   "toc_section_display": true,
   "toc_window_display": false
  }
 },
 "nbformat": 4,
 "nbformat_minor": 5
}
